{
 "cells": [
  {
   "cell_type": "markdown",
   "metadata": {},
   "source": [
    "## Data Manipulation"
   ]
  },
  {
   "cell_type": "markdown",
   "metadata": {},
   "source": [
    "### Importing Packages"
   ]
  },
  {
   "cell_type": "code",
   "execution_count": null,
   "metadata": {},
   "outputs": [],
   "source": [
    "from IPython.core.display import display, HTML\n",
    "display(HTML(\"<style>,container { width:100% !important; }</style>\"))\n",
    "import pandas as pd\n",
    "import numpy as np\n",
    "import matplotlib.pyplot as plt\n",
    "import seaborn as sns\n",
    "import os\n",
    "%matplotlib inline"
   ]
  },
  {
   "cell_type": "markdown",
   "metadata": {},
   "source": [
    "### Setting Directory and Reading Data Files"
   ]
  },
  {
   "cell_type": "code",
   "execution_count": null,
   "metadata": {},
   "outputs": [],
   "source": [
    "# Setting the directory and reading the data file\n",
    "# Folder address where the dataset is saved\n",
    "path = \"/Users/Desktop\"\n",
    "# The file name for the dataset\n",
    "data_dir = os.path.join(path, 'Crowd Sourced Grocery Prices V2.xlsx')\n",
    "# The name of the file will be created\n",
    "data_output = os.path.join(path, 'Crowd Sourced Grocery Prices.xlsx')"
   ]
  },
  {
   "cell_type": "code",
   "execution_count": 4,
   "metadata": {},
   "outputs": [
    {
     "data": {
      "text/plain": [
       "['Observations', 'Products']"
      ]
     },
     "execution_count": 4,
     "metadata": {},
     "output_type": "execute_result"
    }
   ],
   "source": [
    "df = pd.ExcelFile(data_dir)\n",
    "df.sheet_names"
   ]
  },
  {
   "cell_type": "markdown",
   "metadata": {},
   "source": [
    "### Exploring Dataset"
   ]
  },
  {
   "cell_type": "code",
   "execution_count": 5,
   "metadata": {},
   "outputs": [],
   "source": [
    "df_observation = pd.read_excel(data_dir, sheet_name='Observations',date_parser=True)"
   ]
  },
  {
   "cell_type": "code",
   "execution_count": 6,
   "metadata": {},
   "outputs": [
    {
     "data": {
      "text/html": [
       "<div>\n",
       "<style scoped>\n",
       "    .dataframe tbody tr th:only-of-type {\n",
       "        vertical-align: middle;\n",
       "    }\n",
       "\n",
       "    .dataframe tbody tr th {\n",
       "        vertical-align: top;\n",
       "    }\n",
       "\n",
       "    .dataframe thead th {\n",
       "        text-align: right;\n",
       "    }\n",
       "</style>\n",
       "<table border=\"1\" class=\"dataframe\">\n",
       "  <thead>\n",
       "    <tr style=\"text-align: right;\">\n",
       "      <th></th>\n",
       "      <th>Country</th>\n",
       "      <th>City</th>\n",
       "      <th>Obs Date</th>\n",
       "      <th>Product Code</th>\n",
       "      <th>Quantity</th>\n",
       "      <th>Price</th>\n",
       "    </tr>\n",
       "  </thead>\n",
       "  <tbody>\n",
       "    <tr>\n",
       "      <th>0</th>\n",
       "      <td>Kenya</td>\n",
       "      <td>Eldoret</td>\n",
       "      <td>2009-01-01 00:00:00</td>\n",
       "      <td>52.0</td>\n",
       "      <td>1 kg</td>\n",
       "      <td>11.92</td>\n",
       "    </tr>\n",
       "    <tr>\n",
       "      <th>1</th>\n",
       "      <td>Pakistan</td>\n",
       "      <td>Attock</td>\n",
       "      <td>2009-01-01 00:00:00</td>\n",
       "      <td>44.0</td>\n",
       "      <td>1 kg</td>\n",
       "      <td>9.36</td>\n",
       "    </tr>\n",
       "    <tr>\n",
       "      <th>2</th>\n",
       "      <td>India</td>\n",
       "      <td>Nashik</td>\n",
       "      <td>2009-01-01 00:00:00</td>\n",
       "      <td>47.0</td>\n",
       "      <td>1 kg</td>\n",
       "      <td>6.47</td>\n",
       "    </tr>\n",
       "    <tr>\n",
       "      <th>3</th>\n",
       "      <td>Kenya</td>\n",
       "      <td>Eldoret</td>\n",
       "      <td>2009-01-01 00:00:00</td>\n",
       "      <td>52.0</td>\n",
       "      <td>1 kg</td>\n",
       "      <td>5.91</td>\n",
       "    </tr>\n",
       "    <tr>\n",
       "      <th>4</th>\n",
       "      <td>India</td>\n",
       "      <td>Nashik</td>\n",
       "      <td>2009-01-01 00:00:00</td>\n",
       "      <td>62.0</td>\n",
       "      <td>100 g</td>\n",
       "      <td>1.80</td>\n",
       "    </tr>\n",
       "  </tbody>\n",
       "</table>\n",
       "</div>"
      ],
      "text/plain": [
       "    Country     City             Obs Date  Product Code Quantity  Price\n",
       "0     Kenya  Eldoret  2009-01-01 00:00:00          52.0     1 kg  11.92\n",
       "1  Pakistan   Attock  2009-01-01 00:00:00          44.0     1 kg   9.36\n",
       "2     India   Nashik  2009-01-01 00:00:00          47.0     1 kg   6.47\n",
       "3     Kenya  Eldoret  2009-01-01 00:00:00          52.0     1 kg   5.91\n",
       "4     India   Nashik  2009-01-01 00:00:00          62.0    100 g   1.80"
      ]
     },
     "execution_count": 6,
     "metadata": {},
     "output_type": "execute_result"
    }
   ],
   "source": [
    "df_observation.head()"
   ]
  },
  {
   "cell_type": "code",
   "execution_count": 7,
   "metadata": {},
   "outputs": [],
   "source": [
    "df_products = pd.read_excel(data_dir, sheet_name='Products')"
   ]
  },
  {
   "cell_type": "code",
   "execution_count": 8,
   "metadata": {},
   "outputs": [
    {
     "data": {
      "text/html": [
       "<div>\n",
       "<style scoped>\n",
       "    .dataframe tbody tr th:only-of-type {\n",
       "        vertical-align: middle;\n",
       "    }\n",
       "\n",
       "    .dataframe tbody tr th {\n",
       "        vertical-align: top;\n",
       "    }\n",
       "\n",
       "    .dataframe thead th {\n",
       "        text-align: right;\n",
       "    }\n",
       "</style>\n",
       "<table border=\"1\" class=\"dataframe\">\n",
       "  <thead>\n",
       "    <tr style=\"text-align: right;\">\n",
       "      <th></th>\n",
       "      <th>Product Code</th>\n",
       "      <th>Product Name</th>\n",
       "    </tr>\n",
       "  </thead>\n",
       "  <tbody>\n",
       "    <tr>\n",
       "      <th>0</th>\n",
       "      <td>11</td>\n",
       "      <td>Rice, long grain</td>\n",
       "    </tr>\n",
       "    <tr>\n",
       "      <th>1</th>\n",
       "      <td>12</td>\n",
       "      <td>Rice, white</td>\n",
       "    </tr>\n",
       "    <tr>\n",
       "      <th>2</th>\n",
       "      <td>13</td>\n",
       "      <td>Cornflakes, Kellogg's</td>\n",
       "    </tr>\n",
       "    <tr>\n",
       "      <th>3</th>\n",
       "      <td>14</td>\n",
       "      <td>Flour, wheat</td>\n",
       "    </tr>\n",
       "    <tr>\n",
       "      <th>4</th>\n",
       "      <td>15</td>\n",
       "      <td>Flour, maize</td>\n",
       "    </tr>\n",
       "  </tbody>\n",
       "</table>\n",
       "</div>"
      ],
      "text/plain": [
       "   Product Code           Product Name\n",
       "0            11       Rice, long grain\n",
       "1            12            Rice, white\n",
       "2            13  Cornflakes, Kellogg's\n",
       "3            14           Flour, wheat\n",
       "4            15           Flour, maize"
      ]
     },
     "execution_count": 8,
     "metadata": {},
     "output_type": "execute_result"
    }
   ],
   "source": [
    "df_products.head()"
   ]
  },
  {
   "cell_type": "markdown",
   "metadata": {},
   "source": [
    "### Data Preparation"
   ]
  },
  {
   "cell_type": "code",
   "execution_count": 9,
   "metadata": {},
   "outputs": [
    {
     "name": "stdout",
     "output_type": "stream",
     "text": [
      "<class 'pandas.core.frame.DataFrame'>\n",
      "RangeIndex: 961797 entries, 0 to 961796\n",
      "Data columns (total 6 columns):\n",
      " #   Column        Non-Null Count   Dtype  \n",
      "---  ------        --------------   -----  \n",
      " 0   Country       961732 non-null  object \n",
      " 1   City          961732 non-null  object \n",
      " 2   Obs Date      961732 non-null  object \n",
      " 3   Product Code  961732 non-null  float64\n",
      " 4   Quantity      961732 non-null  object \n",
      " 5   Price         931766 non-null  float64\n",
      "dtypes: float64(2), object(4)\n",
      "memory usage: 44.0+ MB\n"
     ]
    }
   ],
   "source": [
    "df_observation.info()"
   ]
  },
  {
   "cell_type": "code",
   "execution_count": 10,
   "metadata": {},
   "outputs": [
    {
     "data": {
      "text/plain": [
       "Country            65\n",
       "City               65\n",
       "Obs Date           65\n",
       "Product Code       65\n",
       "Quantity           65\n",
       "Price           30031\n",
       "dtype: int64"
      ]
     },
     "execution_count": 10,
     "metadata": {},
     "output_type": "execute_result"
    }
   ],
   "source": [
    "df_observation.isnull().sum()"
   ]
  },
  {
   "cell_type": "code",
   "execution_count": 11,
   "metadata": {},
   "outputs": [],
   "source": [
    "df_observation.dropna(axis = 0,subset=['Country', 'City', 'Obs Date', 'Product Code', 'Quantity'],inplace= True)"
   ]
  },
  {
   "cell_type": "code",
   "execution_count": 12,
   "metadata": {},
   "outputs": [
    {
     "data": {
      "text/plain": [
       "Country             0\n",
       "City                0\n",
       "Obs Date            0\n",
       "Product Code        0\n",
       "Quantity            0\n",
       "Price           29966\n",
       "dtype: int64"
      ]
     },
     "execution_count": 12,
     "metadata": {},
     "output_type": "execute_result"
    }
   ],
   "source": [
    "df_observation.isnull().sum()"
   ]
  },
  {
   "cell_type": "code",
   "execution_count": null,
   "metadata": {},
   "outputs": [
    {
     "name": "stdout",
     "output_type": "stream",
     "text": [
      "<class 'pandas.core.frame.DataFrame'>\n",
      "RangeIndex: 30 entries, 0 to 29\n",
      "Data columns (total 2 columns):\n",
      " #   Column        Non-Null Count  Dtype \n",
      "---  ------        --------------  ----- \n",
      " 0   Product Code  30 non-null     int64 \n",
      " 1   Product Name  30 non-null     object\n",
      "dtypes: int64(1), object(1)\n",
      "memory usage: 608.0+ bytes\n"
     ]
    }
   ],
   "source": [
    "# Products sheet\n",
    "df_products.info()"
   ]
  },
  {
   "cell_type": "code",
   "execution_count": 14,
   "metadata": {},
   "outputs": [
    {
     "data": {
      "text/plain": [
       "Product Code    0\n",
       "Product Name    0\n",
       "dtype: int64"
      ]
     },
     "execution_count": 14,
     "metadata": {},
     "output_type": "execute_result"
    }
   ],
   "source": [
    "df_products.isnull().sum()"
   ]
  },
  {
   "cell_type": "markdown",
   "metadata": {},
   "source": [
    "### Imputing Bank Cells"
   ]
  },
  {
   "cell_type": "markdown",
   "metadata": {},
   "source": [
    "As you can see, many rows have missing values in the price column. Since the total number of missing values exceed 2% of the entire dataset, I cannot delete the rows.\n",
    "\n",
    "In order to clean the data, I will impute values into the blank cells. Imputing means i'm estimating the values that should have been present in the blank cells and inserting them. \n",
    "\n",
    "The method to be used for imputation is determined by looking at a histogram. A normal distribution adopts the mean value for imputation. A skewed histogram suggests adopting the median as the method for imputation."
   ]
  },
  {
   "cell_type": "code",
   "execution_count": 15,
   "metadata": {},
   "outputs": [
    {
     "data": {
      "image/png": "[encoded data removed]",
      "text/plain": [
       "<Figure size 1440x576 with 1 Axes>"
      ]
     },
     "metadata": {
      "needs_background": "light"
     },
     "output_type": "display_data"
    },
    {
     "name": "stdout",
     "output_type": "stream",
     "text": [
      "Mean - 10.563621484227882\n",
      "Median - 8.91\n"
     ]
    }
   ],
   "source": [
    "plt.figure(figsize = (20,8))\n",
    "plt.hist(df_observation.Price,bins = 27)\n",
    "plt.show()\n",
    "print(\"Mean - \" + str(df_observation.Price.mean()))\n",
    "print(\"Median - \" + str(df_observation.Price.median()))"
   ]
  },
  {
   "cell_type": "code",
   "execution_count": 22,
   "metadata": {},
   "outputs": [],
   "source": [
    "df_observation.Price.fillna(df_observation.Price.mean(),inplace = True)"
   ]
  },
  {
   "cell_type": "markdown",
   "metadata": {},
   "source": [
    "Use the Histogram to choose the appropriate mean imputing method for distribution and replace the null values in price with imputed values."
   ]
  },
  {
   "cell_type": "code",
   "execution_count": 23,
   "metadata": {},
   "outputs": [
    {
     "data": {
      "text/plain": [
       "Country         0\n",
       "City            0\n",
       "Obs Date        0\n",
       "Product Code    0\n",
       "Quantity        0\n",
       "Price           0\n",
       "dtype: int64"
      ]
     },
     "execution_count": 23,
     "metadata": {},
     "output_type": "execute_result"
    }
   ],
   "source": [
    "# Check the number of null values that are present\n",
    "df_observation.isna().sum()"
   ]
  },
  {
   "cell_type": "markdown",
   "metadata": {},
   "source": [
    "Correct the names for countries with spelling errors and duplicate entries to ensure only one record exists for each country."
   ]
  },
  {
   "cell_type": "code",
   "execution_count": 24,
   "metadata": {},
   "outputs": [
    {
     "data": {
      "text/plain": [
       "['Kenya',\n",
       " 'Pakistan',\n",
       " 'India',\n",
       " 'Bangladesh',\n",
       " 'Indonesia',\n",
       " 'Nigeria',\n",
       " 'Philippines',\n",
       " 'Brazil',\n",
       " 'Brazel',\n",
       " 'Indonseia',\n",
       " 'Phillippines']"
      ]
     },
     "execution_count": 24,
     "metadata": {},
     "output_type": "execute_result"
    }
   ],
   "source": [
    "# List the unique values in the country column \n",
    "list(df_observation.Country.unique())"
   ]
  },
  {
   "cell_type": "code",
   "execution_count": 31,
   "metadata": {},
   "outputs": [],
   "source": [
    "# Remove spelling errors using map()\n",
    "df_observation.Country = df_observation.Country.map({'Kenya':'Kenya',\n",
    " 'Pakistan':'Pakistan',\n",
    " 'India':'India',\n",
    " 'Bangladesh':'Bangladesh',\n",
    " 'Indonesia':'Indonesia',\n",
    " 'Nigeria':'Nigeria',\n",
    " 'Philippines':'Philippines',\n",
    " 'Brazil':'Brazil',\n",
    " 'Brazel':'Brazil',\n",
    " 'Indonseia':'Indonesia',\n",
    " 'Phillippines':'Philippines'})"
   ]
  },
  {
   "cell_type": "code",
   "execution_count": 32,
   "metadata": {},
   "outputs": [
    {
     "data": {
      "text/plain": [
       "['Kenya',\n",
       " nan,\n",
       " 'India',\n",
       " 'Bangladesh',\n",
       " 'Indonesia',\n",
       " 'Nigeria',\n",
       " 'Philippines',\n",
       " 'Brazil']"
      ]
     },
     "execution_count": 32,
     "metadata": {},
     "output_type": "execute_result"
    }
   ],
   "source": [
    "list(df_observation.Country.unique())"
   ]
  },
  {
   "cell_type": "code",
   "execution_count": 33,
   "metadata": {},
   "outputs": [
    {
     "data": {
      "text/plain": [
       "14397"
      ]
     },
     "execution_count": 33,
     "metadata": {},
     "output_type": "execute_result"
    }
   ],
   "source": [
    "# Check for duplicate entries\n",
    "df_observation.duplicated().sum()"
   ]
  },
  {
   "cell_type": "code",
   "execution_count": null,
   "metadata": {},
   "outputs": [],
   "source": [
    "# Create a dataframe to check for duplicate rows\n",
    "df_obj = pd.DataFrame(df_observation)"
   ]
  },
  {
   "cell_type": "code",
   "execution_count": null,
   "metadata": {},
   "outputs": [
    {
     "name": "stdout",
     "output_type": "stream",
     "text": [
      "Duplicate rows except first occurrence based on all columns are :\n",
      "           Country        City             Obs Date  Product Code Quantity  \\\n",
      "121            NaN    Sargodha  2009-01-20 00:00:00          44.0     1 kg   \n",
      "127            NaN  Gujranwala  2009-01-20 00:00:00          44.0     1 kg   \n",
      "130            NaN    Sargodha  2009-01-20 00:00:00          52.0     1 kg   \n",
      "131            NaN  Gujranwala  2009-01-20 00:00:00          52.0     1 kg   \n",
      "141            NaN     Karachi                39834          44.0     1 kg   \n",
      "...            ...         ...                  ...           ...      ...   \n",
      "961079     Nigeria       Abuja  2009-03-29 00:00:00          22.0     1 kg   \n",
      "961146       Kenya     Nairobi  2009-04-22 00:00:00          23.0     1 kg   \n",
      "961159       Kenya     Nairobi  2009-04-24 00:00:00          24.0     1 kg   \n",
      "961424  Bangladesh       Dhaka  2009-04-06 00:00:00          24.0     1 kg   \n",
      "961437  Bangladesh       Dhaka  2009-03-28 00:00:00          24.0     1 kg   \n",
      "\n",
      "        Price  \n",
      "121      8.91  \n",
      "127      8.91  \n",
      "130      8.91  \n",
      "131      8.91  \n",
      "141      8.91  \n",
      "...       ...  \n",
      "961079  19.25  \n",
      "961146   0.33  \n",
      "961159   7.64  \n",
      "961424  19.17  \n",
      "961437   3.14  \n",
      "\n",
      "[14397 rows x 6 columns]\n"
     ]
    }
   ],
   "source": [
    "# Select duplicate rows except first occurrence based on all columns\n",
    "duplicate_rows= df_obj[df_obj.duplicated()]\n",
    "\n",
    "print(\"Duplicate rows except first occurrence based on all columns are:\")\n",
    "print(duplicate_rows)"
   ]
  },
  {
   "cell_type": "code",
   "execution_count": 36,
   "metadata": {},
   "outputs": [],
   "source": [
    "# Remove the duplicates from the dataframe\n",
    "df_observation.drop_duplicates(subset=df_observation.columns,inplace=True)"
   ]
  },
  {
   "cell_type": "code",
   "execution_count": 37,
   "metadata": {},
   "outputs": [
    {
     "data": {
      "text/plain": [
       "0"
      ]
     },
     "execution_count": 37,
     "metadata": {},
     "output_type": "execute_result"
    }
   ],
   "source": [
    "# Check the number of duplicate entries present\n",
    "df_observation.duplicated().sum()"
   ]
  },
  {
   "cell_type": "code",
   "execution_count": null,
   "metadata": {},
   "outputs": [],
   "source": [
    "# Merging both datasets \n",
    "df_full = pd.merge(df_observation,df_products, how = 'outer')"
   ]
  },
  {
   "cell_type": "code",
   "execution_count": null,
   "metadata": {},
   "outputs": [
    {
     "data": {
      "text/html": [
       "<div>\n",
       "<style scoped>\n",
       "    .dataframe tbody tr th:only-of-type {\n",
       "        vertical-align: middle;\n",
       "    }\n",
       "\n",
       "    .dataframe tbody tr th {\n",
       "        vertical-align: top;\n",
       "    }\n",
       "\n",
       "    .dataframe thead th {\n",
       "        text-align: right;\n",
       "    }\n",
       "</style>\n",
       "<table border=\"1\" class=\"dataframe\">\n",
       "  <thead>\n",
       "    <tr style=\"text-align: right;\">\n",
       "      <th></th>\n",
       "      <th>Country</th>\n",
       "      <th>City</th>\n",
       "      <th>Obs Date</th>\n",
       "      <th>Product Code</th>\n",
       "      <th>Quantity</th>\n",
       "      <th>Price</th>\n",
       "      <th>Product Name</th>\n",
       "    </tr>\n",
       "  </thead>\n",
       "  <tbody>\n",
       "    <tr>\n",
       "      <th>0</th>\n",
       "      <td>Kenya</td>\n",
       "      <td>Eldoret</td>\n",
       "      <td>2009-01-01 00:00:00</td>\n",
       "      <td>52.0</td>\n",
       "      <td>1 kg</td>\n",
       "      <td>11.92</td>\n",
       "      <td>Cooking salt</td>\n",
       "    </tr>\n",
       "    <tr>\n",
       "      <th>1</th>\n",
       "      <td>Kenya</td>\n",
       "      <td>Eldoret</td>\n",
       "      <td>2009-01-01 00:00:00</td>\n",
       "      <td>52.0</td>\n",
       "      <td>1 kg</td>\n",
       "      <td>5.91</td>\n",
       "      <td>Cooking salt</td>\n",
       "    </tr>\n",
       "    <tr>\n",
       "      <th>2</th>\n",
       "      <td>Kenya</td>\n",
       "      <td>Eldoret</td>\n",
       "      <td>2009-01-02 00:00:00</td>\n",
       "      <td>52.0</td>\n",
       "      <td>1 kg</td>\n",
       "      <td>16.50</td>\n",
       "      <td>Cooking salt</td>\n",
       "    </tr>\n",
       "    <tr>\n",
       "      <th>3</th>\n",
       "      <td>Kenya</td>\n",
       "      <td>Eldoret</td>\n",
       "      <td>2009-01-02 00:00:00</td>\n",
       "      <td>52.0</td>\n",
       "      <td>1 kg</td>\n",
       "      <td>9.77</td>\n",
       "      <td>Cooking salt</td>\n",
       "    </tr>\n",
       "    <tr>\n",
       "      <th>4</th>\n",
       "      <td>NaN</td>\n",
       "      <td>Rawalpindi</td>\n",
       "      <td>2009-01-03 00:00:00</td>\n",
       "      <td>52.0</td>\n",
       "      <td>1 kg</td>\n",
       "      <td>17.80</td>\n",
       "      <td>Cooking salt</td>\n",
       "    </tr>\n",
       "  </tbody>\n",
       "</table>\n",
       "</div>"
      ],
      "text/plain": [
       "  Country        City             Obs Date  Product Code Quantity  Price  \\\n",
       "0   Kenya     Eldoret  2009-01-01 00:00:00          52.0     1 kg  11.92   \n",
       "1   Kenya     Eldoret  2009-01-01 00:00:00          52.0     1 kg   5.91   \n",
       "2   Kenya     Eldoret  2009-01-02 00:00:00          52.0     1 kg  16.50   \n",
       "3   Kenya     Eldoret  2009-01-02 00:00:00          52.0     1 kg   9.77   \n",
       "4     NaN  Rawalpindi  2009-01-03 00:00:00          52.0     1 kg  17.80   \n",
       "\n",
       "   Product Name  \n",
       "0  Cooking salt  \n",
       "1  Cooking salt  \n",
       "2  Cooking salt  \n",
       "3  Cooking salt  \n",
       "4  Cooking salt  "
      ]
     },
     "execution_count": 39,
     "metadata": {},
     "output_type": "execute_result"
    }
   ],
   "source": [
    "# Sort the entire file by country column\n",
    "df_full.sort_values(by = 'Country',inplace = True)\n",
    "df_full.head()"
   ]
  },
  {
   "cell_type": "markdown",
   "metadata": {},
   "source": [
    "Datasets are formatted and cleaned all the duplicates. Export the cleaned datasets to an Excel file for data exploratory and data visulization."
   ]
  },
  {
   "cell_type": "code",
   "execution_count": 41,
   "metadata": {},
   "outputs": [],
   "source": [
    "# Select specific columns to export\n",
    "df_full.to_excel(data_output,columns=['Country', 'City', 'Obs Date', 'Product Code', 'Quantity', 'Price', 'Product Name'])"
   ]
  },
  {
   "cell_type": "code",
   "execution_count": 42,
   "metadata": {},
   "outputs": [],
   "source": [
    "path = \"/Users/thienla/Desktop/Data Cleaning\"\n",
    "data_dir = os.path.join(path, 'Crowd Sourced Grocery Prices V2.xlsx')\n",
    "data_output = os.path.join(path, 'Crowd Sourced Grocery Prices.xlsx')"
   ]
  }
 ],
 "metadata": {
  "kernelspec": {
   "display_name": "Python 3",
   "language": "python",
   "name": "python3"
  },
  "language_info": {
   "codemirror_mode": {
    "name": "ipython",
    "version": 3
   },
   "file_extension": ".py",
   "mimetype": "text/x-python",
   "name": "python",
   "nbconvert_exporter": "python",
   "pygments_lexer": "ipython3",
   "version": "3.8.5"
  }
 },
 "nbformat": 4,
 "nbformat_minor": 4
}
