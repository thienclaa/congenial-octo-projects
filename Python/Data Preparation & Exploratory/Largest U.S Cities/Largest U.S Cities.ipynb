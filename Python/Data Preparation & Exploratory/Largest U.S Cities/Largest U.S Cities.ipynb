{
 "cells": [
  {
   "cell_type": "markdown",
   "id": "3fa91f0e",
   "metadata": {},
   "source": [
    "## Data Manipulation"
   ]
  },
  {
   "cell_type": "markdown",
   "id": "718c6d8e",
   "metadata": {},
   "source": [
    "### Importing Libraries"
   ]
  },
  {
   "cell_type": "code",
   "execution_count": null,
   "id": "70fcdc08",
   "metadata": {},
   "outputs": [],
   "source": [
    "import csv\n",
    "import operator\n",
    "import copy\n",
    "from token import EQUAL\n",
    "from builtins import sorted"
   ]
  },
  {
   "cell_type": "markdown",
   "id": "1bdfea9e",
   "metadata": {},
   "source": [
    "The purpose of this data cleaning and manipulation is to format the dataset and make it appropriate to use for visualization in Power BI. \n",
    "\n",
    "Data manipulation will merge the columns Place and State and make it one column with the format State - Place, and turning these two columns into a location (Lafayette is in more than one state).\n",
    "\n",
    "Data manipulation will also transpose Years and Population from their current row format to columns. Cleaned CSV file will have Years and Population as columns.\n",
    "\n",
    "New column Rank will be created, which will rank the State-City based on it's population. "
   ]
  },
  {
   "cell_type": "markdown",
   "id": "7b4bdbc6",
   "metadata": {},
   "source": [
    "### Reading Data Files"
   ]
  },
  {
   "cell_type": "code",
   "execution_count": 3,
   "id": "d608f68f",
   "metadata": {},
   "outputs": [],
   "source": [
    "df = csv.reader(open(r'/Users/thienla/Downloads/Largest_Cities.csv'), delimiter=\",\")"
   ]
  },
  {
   "cell_type": "markdown",
   "id": "173a8bad",
   "metadata": {},
   "source": [
    "### Exploring and Manipulating Dataset"
   ]
  },
  {
   "cell_type": "code",
   "execution_count": 5,
   "id": "485feb65",
   "metadata": {},
   "outputs": [],
   "source": [
    "# Initialize the variables\n",
    "u = 'State - Place'\n",
    "x = 'Year'\n",
    "y = 'Population'\n",
    "z = 'Rank'\n",
    "# rows_so_far and c are just counter variables that will be used in code loops later\n",
    "rows_so_far = 0\n",
    "c= 0"
   ]
  },
  {
   "cell_type": "code",
   "execution_count": null,
   "id": "9d865ded",
   "metadata": {},
   "outputs": [],
   "source": [
    "# Defining a 2D array here and allowing it to be appended\n",
    "# Intializing the 2 dimentional list\n",
    "pool =[]\n",
    "pool.append([])"
   ]
  },
  {
   "cell_type": "markdown",
   "id": "ecd78485",
   "metadata": {},
   "source": [
    "After populating the header, I will append the population of a city for each year. \n",
    "\n",
    "I will create a new variable which is the length of the pool array and this is helpful in verification and not overplotting. \n",
    "\n",
    "In the nested loops, there are a lot of conditional verification steps using if-else that need to be carried out and deepcopy() is just a simple copy function that imported from the copy library. \n",
    "\n",
    "At the end of the loop, our rows_so_far variable is increased by 1."
   ]
  },
  {
   "cell_type": "code",
   "execution_count": null,
   "id": "67dd933d",
   "metadata": {},
   "outputs": [],
   "source": [
    "# Build 3 sub-loops running underneath this loop\n",
    "# Loop through the csv file and append the list\n",
    "for row in df:\n",
    "    if rows_so_far==0:\n",
    "        rows_so_far +=1\n",
    "        header = row\n",
    "        \n",
    "# Populate headers\n",
    "# Headers for the csv file should include\n",
    "# State - City, Year, Population, Rank\n",
    "        for j in range(0,4):\n",
    "            if j==0:\n",
    "                pool.append([])\n",
    "                pool[0].append(u)\n",
    "            if j==1:\n",
    "                pool[0].append(x)\n",
    "            if j==2:\n",
    "                pool[0].append(y)\n",
    "            if j==3:\n",
    "                pool[0].append(z)\n",
    "    else:\n",
    "# Populate items\n",
    "# Append the population a city for each year\n",
    "        for i in range(len(row)-2):\n",
    "            a=len(pool)\n",
    "            if not row==[]:\n",
    "                if i==0 or i>=1:\n",
    "                    item=copy.deepcopy(row)\n",
    "                    r=copy.deepcopy(row)\n",
    "                    \n",
    "# Populate values for a column\n",
    "                    for j in range(0,4):\n",
    "                        if item[i+2] != '':\n",
    "                            if j==0:\n",
    "                        \n",
    "# Concatenate the State and City\n",
    "                                r[0]= item[j+1]+' - '+item[j]\n",
    "                                pool.append([])\n",
    "                                pool[a-1].append(r[0])\n",
    "# Populate Year\n",
    "                            if j==1:\n",
    "                                pool[a-1].append(int(header[i+2]))\n",
    "# Populate Population\n",
    "# If the Population is null, do not append the record\n",
    "                            if j==2:\n",
    "                                if item[i+2]=='':\n",
    "                                    pool[a-1].append(int(0))\n",
    "                                else:\n",
    "                                    pool[a-1].append(int(item[i+2]))\n",
    "                                \n",
    "# Initialize Rank to zero\n",
    "                            if j==3:\n",
    "                                    pool[a-1].append(int(0))\n",
    "    rows_so_far+=1"
   ]
  },
  {
   "cell_type": "code",
   "execution_count": null,
   "id": "bb3c9199",
   "metadata": {},
   "outputs": [],
   "source": [
    "# Check the length of the list\n",
    "a = len(pool)\n",
    "print(a)"
   ]
  },
  {
   "cell_type": "code",
   "execution_count": null,
   "id": "1b017bf3",
   "metadata": {},
   "outputs": [],
   "source": [
    "# Populate the list with all values exccept header as sorting can't be done on integer values when one record has character value\n",
    "list = pool[1:a-1]"
   ]
  },
  {
   "cell_type": "code",
   "execution_count": null,
   "id": "57e023f3",
   "metadata": {},
   "outputs": [],
   "source": [
    "# Sort the list by Year & Population\n",
    "list.sort(key =lambda b: (b[1],b[2]), reverse=True )"
   ]
  },
  {
   "cell_type": "code",
   "execution_count": null,
   "id": "6d3a763a",
   "metadata": {},
   "outputs": [],
   "source": [
    "# Add the headers to the list\n",
    "list1= []\n",
    "list1.append([])\n",
    "list1[0] = pool[0]\n",
    "list1[1:a-1] = list[0:a-2]"
   ]
  },
  {
   "cell_type": "markdown",
   "id": "472b7d50",
   "metadata": {},
   "source": [
    "### Exporting Cleaned Dataset"
   ]
  },
  {
   "cell_type": "markdown",
   "id": "601448ad",
   "metadata": {},
   "source": [
    "The csv.writer function is an output file function that creates a new csv file after data preparing and manipulating.\n",
    "\n",
    "I will use conditional verification using if-else commands to make sure the rows fall into the right places."
   ]
  },
  {
   "cell_type": "code",
   "execution_count": null,
   "id": "42e3e8ad",
   "metadata": {},
   "outputs": [],
   "source": [
    "# Convert the list into csv file\n",
    "mycsv = csv.writer(open(r'/Users/thienla/Downloads/Largest_Cities.csv','w', newline=''))\n",
    "for row in list1:\n",
    "# Fetching the row index\n",
    "# No calculation is done at header level\n",
    "    e= list1.index(row)\n",
    "# Compare the Year value of the current record with the Year value of the previous record\n",
    "# If value is the same calculate the Rank, if value is different assign the Rank as one\n",
    "    if row[1] != c and e !=0:\n",
    "        v=1\n",
    "        c= row[1]\n",
    "        row[3]= v\n",
    "    else:\n",
    "        if row[1] == c and e != 0:\n",
    "            v+=1\n",
    "            row[3]= v\n",
    "# Write row to csv\n",
    "    mycsv.writerow(row)"
   ]
  }
 ],
 "metadata": {
  "kernelspec": {
   "display_name": "ba_venv",
   "language": "python",
   "name": "ba_venv"
  },
  "language_info": {
   "codemirror_mode": {
    "name": "ipython",
    "version": 3
   },
   "file_extension": ".py",
   "mimetype": "text/x-python",
   "name": "python",
   "nbconvert_exporter": "python",
   "pygments_lexer": "ipython3",
   "version": "3.11.7"
  }
 },
 "nbformat": 4,
 "nbformat_minor": 5
}
