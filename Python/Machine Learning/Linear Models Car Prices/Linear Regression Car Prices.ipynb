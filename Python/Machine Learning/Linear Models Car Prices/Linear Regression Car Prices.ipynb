{
 "cells": [
  {
   "cell_type": "markdown",
   "metadata": {},
   "source": [
    "## Car Prices Prediction - Linear Regression"
   ]
  },
  {
   "cell_type": "markdown",
   "metadata": {},
   "source": [
    "**=====================================================**"
   ]
  },
  {
   "cell_type": "code",
   "execution_count": 1,
   "metadata": {},
   "outputs": [],
   "source": [
    "import pandas as pd\n",
    "import numpy as np\n",
    "import matplotlib.pyplot as plt\n",
    "%matplotlib inline\n",
    "from pandas.plotting import scatter_matrix\n",
    "\n",
    "from sklearn.linear_model import LinearRegression\n",
    "from sklearn.preprocessing import StandardScaler\n",
    "from sklearn.metrics import r2_score\n",
    "\n",
    "import category_encoders as ce\n",
    "from sklearn.preprocessing import OneHotEncoder\n",
    "from copy import deepcopy\n",
    "pd.set_option('display.max_columns', None)"
   ]
  },
  {
   "cell_type": "markdown",
   "metadata": {},
   "source": [
    "### Data Preparation"
   ]
  },
  {
   "cell_type": "markdown",
   "metadata": {},
   "source": [
    "#### Load Data"
   ]
  },
  {
   "cell_type": "code",
   "execution_count": 2,
   "metadata": {},
   "outputs": [],
   "source": [
    "X_train = pd.read_csv('/Users/thienla/Desktop/Portfolio/Machine Learning/Module 4/Lab 4/Car_Prices_Poland_train(1).csv')\n",
    "X_test  = pd.read_csv('/Users/thienla/Desktop/Portfolio/Machine Learning/Module 4/Lab 4/Car_Prices_Poland_test(1).csv')"
   ]
  },
  {
   "cell_type": "code",
   "execution_count": 24,
   "metadata": {},
   "outputs": [
    {
     "data": {
      "text/plain": [
       "(88445, 50)"
      ]
     },
     "execution_count": 24,
     "metadata": {},
     "output_type": "execute_result"
    }
   ],
   "source": [
    "X_train.shape"
   ]
  },
  {
   "cell_type": "code",
   "execution_count": 25,
   "metadata": {},
   "outputs": [
    {
     "data": {
      "text/plain": [
       "(29482, 50)"
      ]
     },
     "execution_count": 25,
     "metadata": {},
     "output_type": "execute_result"
    }
   ],
   "source": [
    "X_test.shape"
   ]
  },
  {
   "cell_type": "code",
   "execution_count": 3,
   "metadata": {},
   "outputs": [
    {
     "data": {
      "text/html": [
       "<div>\n",
       "<style scoped>\n",
       "    .dataframe tbody tr th:only-of-type {\n",
       "        vertical-align: middle;\n",
       "    }\n",
       "\n",
       "    .dataframe tbody tr th {\n",
       "        vertical-align: top;\n",
       "    }\n",
       "\n",
       "    .dataframe thead th {\n",
       "        text-align: right;\n",
       "    }\n",
       "</style>\n",
       "<table border=\"1\" class=\"dataframe\">\n",
       "  <thead>\n",
       "    <tr style=\"text-align: right;\">\n",
       "      <th></th>\n",
       "      <th>mark</th>\n",
       "      <th>model</th>\n",
       "      <th>generation_name</th>\n",
       "      <th>year</th>\n",
       "      <th>mileage</th>\n",
       "      <th>vol_engine</th>\n",
       "      <th>fuel</th>\n",
       "      <th>city</th>\n",
       "      <th>province</th>\n",
       "      <th>price</th>\n",
       "    </tr>\n",
       "  </thead>\n",
       "  <tbody>\n",
       "    <tr>\n",
       "      <th>0</th>\n",
       "      <td>opel</td>\n",
       "      <td>insignia</td>\n",
       "      <td>gen-a-2008-2017</td>\n",
       "      <td>2009</td>\n",
       "      <td>106125</td>\n",
       "      <td>1796</td>\n",
       "      <td>Gasoline</td>\n",
       "      <td>Częstochowa</td>\n",
       "      <td>Śląskie</td>\n",
       "      <td>25000</td>\n",
       "    </tr>\n",
       "    <tr>\n",
       "      <th>1</th>\n",
       "      <td>skoda</td>\n",
       "      <td>fabia</td>\n",
       "      <td>gen-ii-2007</td>\n",
       "      <td>2010</td>\n",
       "      <td>207000</td>\n",
       "      <td>1200</td>\n",
       "      <td>Gasoline</td>\n",
       "      <td>Bydgoszcz</td>\n",
       "      <td>Kujawsko-pomorskie</td>\n",
       "      <td>11900</td>\n",
       "    </tr>\n",
       "    <tr>\n",
       "      <th>2</th>\n",
       "      <td>opel</td>\n",
       "      <td>insignia</td>\n",
       "      <td>gen-a-2008-2017</td>\n",
       "      <td>2013</td>\n",
       "      <td>195000</td>\n",
       "      <td>1956</td>\n",
       "      <td>Diesel</td>\n",
       "      <td>Ruda Śląska</td>\n",
       "      <td>Śląskie</td>\n",
       "      <td>24598</td>\n",
       "    </tr>\n",
       "    <tr>\n",
       "      <th>3</th>\n",
       "      <td>audi</td>\n",
       "      <td>a4</td>\n",
       "      <td>gen-b8-2007-2015</td>\n",
       "      <td>2012</td>\n",
       "      <td>280000</td>\n",
       "      <td>1968</td>\n",
       "      <td>Diesel</td>\n",
       "      <td>Białystok</td>\n",
       "      <td>Podlaskie</td>\n",
       "      <td>41900</td>\n",
       "    </tr>\n",
       "    <tr>\n",
       "      <th>4</th>\n",
       "      <td>citroen</td>\n",
       "      <td>c4-picasso</td>\n",
       "      <td>gen-ii-2013-c4-picasso</td>\n",
       "      <td>2014</td>\n",
       "      <td>122200</td>\n",
       "      <td>1560</td>\n",
       "      <td>Diesel</td>\n",
       "      <td>Dziemionna</td>\n",
       "      <td>Kujawsko-pomorskie</td>\n",
       "      <td>39500</td>\n",
       "    </tr>\n",
       "  </tbody>\n",
       "</table>\n",
       "</div>"
      ],
      "text/plain": [
       "      mark       model         generation_name  year  mileage  vol_engine  \\\n",
       "0     opel    insignia         gen-a-2008-2017  2009   106125        1796   \n",
       "1    skoda       fabia             gen-ii-2007  2010   207000        1200   \n",
       "2     opel    insignia         gen-a-2008-2017  2013   195000        1956   \n",
       "3     audi          a4        gen-b8-2007-2015  2012   280000        1968   \n",
       "4  citroen  c4-picasso  gen-ii-2013-c4-picasso  2014   122200        1560   \n",
       "\n",
       "       fuel         city            province  price  \n",
       "0  Gasoline  Częstochowa             Śląskie  25000  \n",
       "1  Gasoline    Bydgoszcz  Kujawsko-pomorskie  11900  \n",
       "2    Diesel  Ruda Śląska             Śląskie  24598  \n",
       "3    Diesel    Białystok           Podlaskie  41900  \n",
       "4    Diesel   Dziemionna  Kujawsko-pomorskie  39500  "
      ]
     },
     "execution_count": 3,
     "metadata": {},
     "output_type": "execute_result"
    }
   ],
   "source": [
    "X_train.head()"
   ]
  },
  {
   "cell_type": "markdown",
   "metadata": {},
   "source": [
    "#### Fill Missing Values"
   ]
  },
  {
   "cell_type": "code",
   "execution_count": 4,
   "metadata": {},
   "outputs": [],
   "source": [
    "# Fill Nulls and NAs\n",
    "values_to_fill = {}\n",
    "for col in X_train.drop(columns=['price']).columns:\n",
    "    if pd.api.types.is_numeric_dtype(X_train[col].dtype):\n",
    "        values_to_fill[col] = 0\n",
    "    else:\n",
    "        values_to_fill[col] = \"Missing\""
   ]
  },
  {
   "cell_type": "code",
   "execution_count": 5,
   "metadata": {},
   "outputs": [],
   "source": [
    "X_train.fillna(value=values_to_fill,inplace=True)\n",
    "X_test.fillna(value=values_to_fill, inplace=True)"
   ]
  },
  {
   "cell_type": "markdown",
   "metadata": {},
   "source": [
    "#### Variables Encoding"
   ]
  },
  {
   "cell_type": "code",
   "execution_count": 6,
   "metadata": {},
   "outputs": [],
   "source": [
    "label_col = 'price'\n",
    "\n",
    "ohe_orig_columns = [\"mark\", \"fuel\"]\n",
    "te_orig_columns = [\"model\",\"generation_name\", \"city\", \"province\"]\n",
    "num_orig_columns = [\"year\",\"mileage\", \"vol_engine\"]"
   ]
  },
  {
   "cell_type": "markdown",
   "metadata": {},
   "source": [
    "#### One-Hot-Encoding"
   ]
  },
  {
   "cell_type": "markdown",
   "metadata": {},
   "source": [
    "One-Hot-Encoding will produce one new column for every valid value of the feature.  \n",
    "\n",
    "Each column will be populated with 1 if the corresponding valid value found and 0 otherwise. "
   ]
  },
  {
   "cell_type": "code",
   "execution_count": 7,
   "metadata": {},
   "outputs": [
    {
     "name": "stdout",
     "output_type": "stream",
     "text": [
      "One-hot encoding of  mark\n",
      "One-hot encoding of  fuel\n"
     ]
    }
   ],
   "source": [
    "all_ohe_columns = []\n",
    "\n",
    "#Categorical encoders dictionary\n",
    "cat_encoders = {}\n",
    "\n",
    "for col in ohe_orig_columns:\n",
    "    print(\"One-hot encoding of \", col)\n",
    "    enc = OneHotEncoder(handle_unknown='ignore', sparse_output=False)\n",
    "    enc.fit(X_train[[col]])\n",
    "    result = enc.transform(X_train[[col]])\n",
    "    ohe_columns = [col+\"_\"+str(x) for x in enc.categories_[0]] \n",
    "    result_train = pd.DataFrame(result, columns=ohe_columns)\n",
    "    X_train = pd.concat([X_train, result_train], axis=1)\n",
    "\n",
    "# Encode testing\n",
    "    result = enc.transform(X_test[[col]])\n",
    "    result_test = pd.DataFrame(result, columns=ohe_columns)\n",
    "    X_test = pd.concat([X_test, result_test], axis=1)\n",
    "    all_ohe_columns = all_ohe_columns + ohe_columns"
   ]
  },
  {
   "cell_type": "code",
   "execution_count": 8,
   "metadata": {},
   "outputs": [
    {
     "name": "stdout",
     "output_type": "stream",
     "text": [
      "New OHE columns: ['mark_alfa-romeo', 'mark_audi', 'mark_bmw', 'mark_chevrolet', 'mark_citroen', 'mark_fiat', 'mark_ford', 'mark_honda', 'mark_hyundai', 'mark_kia', 'mark_mazda', 'mark_mercedes-benz', 'mark_mini', 'mark_mitsubishi', 'mark_nissan', 'mark_opel', 'mark_peugeot', 'mark_renault', 'mark_seat', 'mark_skoda', 'mark_toyota', 'mark_volkswagen', 'mark_volvo', 'fuel_CNG', 'fuel_Diesel', 'fuel_Electric', 'fuel_Gasoline', 'fuel_Hybrid', 'fuel_LPG']\n"
     ]
    }
   ],
   "source": [
    "print(\"New OHE columns:\", all_ohe_columns)"
   ]
  },
  {
   "cell_type": "markdown",
   "metadata": {},
   "source": [
    "#### Taget Encoding"
   ]
  },
  {
   "cell_type": "code",
   "execution_count": 9,
   "metadata": {},
   "outputs": [],
   "source": [
    "te_columns = []\n",
    "\n",
    "target_encoder = ce.TargetEncoder(cols=te_orig_columns, min_samples_leaf=20, smoothing=10)\n",
    "target_encoder.fit(X_train[te_orig_columns],X_train[label_col])\n",
    "X_train_target_enc = target_encoder.transform(X_train[te_orig_columns])\n",
    "X_test_target_enc = target_encoder.transform(X_test[te_orig_columns])\n",
    "\n",
    "te_columns = []\n",
    "for col in te_orig_columns:\n",
    "    X_train[col+\"_te\"] = X_train_target_enc[col]\n",
    "    X_test[col+\"_te\"] = X_test_target_enc[col]\n",
    "    te_columns.append(col+\"_te\")"
   ]
  },
  {
   "cell_type": "code",
   "execution_count": 10,
   "metadata": {},
   "outputs": [
    {
     "data": {
      "text/html": [
       "<div>\n",
       "<style scoped>\n",
       "    .dataframe tbody tr th:only-of-type {\n",
       "        vertical-align: middle;\n",
       "    }\n",
       "\n",
       "    .dataframe tbody tr th {\n",
       "        vertical-align: top;\n",
       "    }\n",
       "\n",
       "    .dataframe thead th {\n",
       "        text-align: right;\n",
       "    }\n",
       "</style>\n",
       "<table border=\"1\" class=\"dataframe\">\n",
       "  <thead>\n",
       "    <tr style=\"text-align: right;\">\n",
       "      <th></th>\n",
       "      <th>mark</th>\n",
       "      <th>model</th>\n",
       "      <th>generation_name</th>\n",
       "      <th>year</th>\n",
       "      <th>mileage</th>\n",
       "      <th>vol_engine</th>\n",
       "      <th>fuel</th>\n",
       "      <th>city</th>\n",
       "      <th>province</th>\n",
       "      <th>price</th>\n",
       "      <th>mark_alfa-romeo</th>\n",
       "      <th>mark_audi</th>\n",
       "      <th>mark_bmw</th>\n",
       "      <th>mark_chevrolet</th>\n",
       "      <th>mark_citroen</th>\n",
       "      <th>mark_fiat</th>\n",
       "      <th>mark_ford</th>\n",
       "      <th>mark_honda</th>\n",
       "      <th>mark_hyundai</th>\n",
       "      <th>mark_kia</th>\n",
       "      <th>mark_mazda</th>\n",
       "      <th>mark_mercedes-benz</th>\n",
       "      <th>mark_mini</th>\n",
       "      <th>mark_mitsubishi</th>\n",
       "      <th>mark_nissan</th>\n",
       "      <th>mark_opel</th>\n",
       "      <th>mark_peugeot</th>\n",
       "      <th>mark_renault</th>\n",
       "      <th>mark_seat</th>\n",
       "      <th>mark_skoda</th>\n",
       "      <th>mark_toyota</th>\n",
       "      <th>mark_volkswagen</th>\n",
       "      <th>mark_volvo</th>\n",
       "      <th>fuel_CNG</th>\n",
       "      <th>fuel_Diesel</th>\n",
       "      <th>fuel_Electric</th>\n",
       "      <th>fuel_Gasoline</th>\n",
       "      <th>fuel_Hybrid</th>\n",
       "      <th>fuel_LPG</th>\n",
       "      <th>model_te</th>\n",
       "      <th>generation_name_te</th>\n",
       "      <th>city_te</th>\n",
       "      <th>province_te</th>\n",
       "    </tr>\n",
       "  </thead>\n",
       "  <tbody>\n",
       "    <tr>\n",
       "      <th>0</th>\n",
       "      <td>opel</td>\n",
       "      <td>insignia</td>\n",
       "      <td>gen-a-2008-2017</td>\n",
       "      <td>2009</td>\n",
       "      <td>106125</td>\n",
       "      <td>1796</td>\n",
       "      <td>Gasoline</td>\n",
       "      <td>Częstochowa</td>\n",
       "      <td>Śląskie</td>\n",
       "      <td>25000</td>\n",
       "      <td>0.0</td>\n",
       "      <td>0.0</td>\n",
       "      <td>0.0</td>\n",
       "      <td>0.0</td>\n",
       "      <td>0.0</td>\n",
       "      <td>0.0</td>\n",
       "      <td>0.0</td>\n",
       "      <td>0.0</td>\n",
       "      <td>0.0</td>\n",
       "      <td>0.0</td>\n",
       "      <td>0.0</td>\n",
       "      <td>0.0</td>\n",
       "      <td>0.0</td>\n",
       "      <td>0.0</td>\n",
       "      <td>0.0</td>\n",
       "      <td>1.0</td>\n",
       "      <td>0.0</td>\n",
       "      <td>0.0</td>\n",
       "      <td>0.0</td>\n",
       "      <td>0.0</td>\n",
       "      <td>0.0</td>\n",
       "      <td>0.0</td>\n",
       "      <td>0.0</td>\n",
       "      <td>0.0</td>\n",
       "      <td>0.0</td>\n",
       "      <td>0.0</td>\n",
       "      <td>1.0</td>\n",
       "      <td>0.0</td>\n",
       "      <td>0.0</td>\n",
       "      <td>48549.435603</td>\n",
       "      <td>34078.467113</td>\n",
       "      <td>93623.392461</td>\n",
       "      <td>81208.395382</td>\n",
       "    </tr>\n",
       "    <tr>\n",
       "      <th>1</th>\n",
       "      <td>skoda</td>\n",
       "      <td>fabia</td>\n",
       "      <td>gen-ii-2007</td>\n",
       "      <td>2010</td>\n",
       "      <td>207000</td>\n",
       "      <td>1200</td>\n",
       "      <td>Gasoline</td>\n",
       "      <td>Bydgoszcz</td>\n",
       "      <td>Kujawsko-pomorskie</td>\n",
       "      <td>11900</td>\n",
       "      <td>0.0</td>\n",
       "      <td>0.0</td>\n",
       "      <td>0.0</td>\n",
       "      <td>0.0</td>\n",
       "      <td>0.0</td>\n",
       "      <td>0.0</td>\n",
       "      <td>0.0</td>\n",
       "      <td>0.0</td>\n",
       "      <td>0.0</td>\n",
       "      <td>0.0</td>\n",
       "      <td>0.0</td>\n",
       "      <td>0.0</td>\n",
       "      <td>0.0</td>\n",
       "      <td>0.0</td>\n",
       "      <td>0.0</td>\n",
       "      <td>0.0</td>\n",
       "      <td>0.0</td>\n",
       "      <td>0.0</td>\n",
       "      <td>0.0</td>\n",
       "      <td>1.0</td>\n",
       "      <td>0.0</td>\n",
       "      <td>0.0</td>\n",
       "      <td>0.0</td>\n",
       "      <td>0.0</td>\n",
       "      <td>0.0</td>\n",
       "      <td>0.0</td>\n",
       "      <td>1.0</td>\n",
       "      <td>0.0</td>\n",
       "      <td>0.0</td>\n",
       "      <td>31821.475709</td>\n",
       "      <td>16643.232639</td>\n",
       "      <td>94334.920086</td>\n",
       "      <td>69342.069703</td>\n",
       "    </tr>\n",
       "    <tr>\n",
       "      <th>2</th>\n",
       "      <td>opel</td>\n",
       "      <td>insignia</td>\n",
       "      <td>gen-a-2008-2017</td>\n",
       "      <td>2013</td>\n",
       "      <td>195000</td>\n",
       "      <td>1956</td>\n",
       "      <td>Diesel</td>\n",
       "      <td>Ruda Śląska</td>\n",
       "      <td>Śląskie</td>\n",
       "      <td>24598</td>\n",
       "      <td>0.0</td>\n",
       "      <td>0.0</td>\n",
       "      <td>0.0</td>\n",
       "      <td>0.0</td>\n",
       "      <td>0.0</td>\n",
       "      <td>0.0</td>\n",
       "      <td>0.0</td>\n",
       "      <td>0.0</td>\n",
       "      <td>0.0</td>\n",
       "      <td>0.0</td>\n",
       "      <td>0.0</td>\n",
       "      <td>0.0</td>\n",
       "      <td>0.0</td>\n",
       "      <td>0.0</td>\n",
       "      <td>0.0</td>\n",
       "      <td>1.0</td>\n",
       "      <td>0.0</td>\n",
       "      <td>0.0</td>\n",
       "      <td>0.0</td>\n",
       "      <td>0.0</td>\n",
       "      <td>0.0</td>\n",
       "      <td>0.0</td>\n",
       "      <td>0.0</td>\n",
       "      <td>0.0</td>\n",
       "      <td>1.0</td>\n",
       "      <td>0.0</td>\n",
       "      <td>0.0</td>\n",
       "      <td>0.0</td>\n",
       "      <td>0.0</td>\n",
       "      <td>48549.435603</td>\n",
       "      <td>34078.467113</td>\n",
       "      <td>39264.196396</td>\n",
       "      <td>81208.395382</td>\n",
       "    </tr>\n",
       "    <tr>\n",
       "      <th>3</th>\n",
       "      <td>audi</td>\n",
       "      <td>a4</td>\n",
       "      <td>gen-b8-2007-2015</td>\n",
       "      <td>2012</td>\n",
       "      <td>280000</td>\n",
       "      <td>1968</td>\n",
       "      <td>Diesel</td>\n",
       "      <td>Białystok</td>\n",
       "      <td>Podlaskie</td>\n",
       "      <td>41900</td>\n",
       "      <td>0.0</td>\n",
       "      <td>1.0</td>\n",
       "      <td>0.0</td>\n",
       "      <td>0.0</td>\n",
       "      <td>0.0</td>\n",
       "      <td>0.0</td>\n",
       "      <td>0.0</td>\n",
       "      <td>0.0</td>\n",
       "      <td>0.0</td>\n",
       "      <td>0.0</td>\n",
       "      <td>0.0</td>\n",
       "      <td>0.0</td>\n",
       "      <td>0.0</td>\n",
       "      <td>0.0</td>\n",
       "      <td>0.0</td>\n",
       "      <td>0.0</td>\n",
       "      <td>0.0</td>\n",
       "      <td>0.0</td>\n",
       "      <td>0.0</td>\n",
       "      <td>0.0</td>\n",
       "      <td>0.0</td>\n",
       "      <td>0.0</td>\n",
       "      <td>0.0</td>\n",
       "      <td>0.0</td>\n",
       "      <td>1.0</td>\n",
       "      <td>0.0</td>\n",
       "      <td>0.0</td>\n",
       "      <td>0.0</td>\n",
       "      <td>0.0</td>\n",
       "      <td>53586.996332</td>\n",
       "      <td>42651.432258</td>\n",
       "      <td>78616.011442</td>\n",
       "      <td>67555.811944</td>\n",
       "    </tr>\n",
       "    <tr>\n",
       "      <th>4</th>\n",
       "      <td>citroen</td>\n",
       "      <td>c4-picasso</td>\n",
       "      <td>gen-ii-2013-c4-picasso</td>\n",
       "      <td>2014</td>\n",
       "      <td>122200</td>\n",
       "      <td>1560</td>\n",
       "      <td>Diesel</td>\n",
       "      <td>Dziemionna</td>\n",
       "      <td>Kujawsko-pomorskie</td>\n",
       "      <td>39500</td>\n",
       "      <td>0.0</td>\n",
       "      <td>0.0</td>\n",
       "      <td>0.0</td>\n",
       "      <td>0.0</td>\n",
       "      <td>1.0</td>\n",
       "      <td>0.0</td>\n",
       "      <td>0.0</td>\n",
       "      <td>0.0</td>\n",
       "      <td>0.0</td>\n",
       "      <td>0.0</td>\n",
       "      <td>0.0</td>\n",
       "      <td>0.0</td>\n",
       "      <td>0.0</td>\n",
       "      <td>0.0</td>\n",
       "      <td>0.0</td>\n",
       "      <td>0.0</td>\n",
       "      <td>0.0</td>\n",
       "      <td>0.0</td>\n",
       "      <td>0.0</td>\n",
       "      <td>0.0</td>\n",
       "      <td>0.0</td>\n",
       "      <td>0.0</td>\n",
       "      <td>0.0</td>\n",
       "      <td>0.0</td>\n",
       "      <td>1.0</td>\n",
       "      <td>0.0</td>\n",
       "      <td>0.0</td>\n",
       "      <td>0.0</td>\n",
       "      <td>0.0</td>\n",
       "      <td>29098.082418</td>\n",
       "      <td>45995.740967</td>\n",
       "      <td>39210.649854</td>\n",
       "      <td>69342.069703</td>\n",
       "    </tr>\n",
       "  </tbody>\n",
       "</table>\n",
       "</div>"
      ],
      "text/plain": [
       "      mark       model         generation_name  year  mileage  vol_engine  \\\n",
       "0     opel    insignia         gen-a-2008-2017  2009   106125        1796   \n",
       "1    skoda       fabia             gen-ii-2007  2010   207000        1200   \n",
       "2     opel    insignia         gen-a-2008-2017  2013   195000        1956   \n",
       "3     audi          a4        gen-b8-2007-2015  2012   280000        1968   \n",
       "4  citroen  c4-picasso  gen-ii-2013-c4-picasso  2014   122200        1560   \n",
       "\n",
       "       fuel         city            province  price  mark_alfa-romeo  \\\n",
       "0  Gasoline  Częstochowa             Śląskie  25000              0.0   \n",
       "1  Gasoline    Bydgoszcz  Kujawsko-pomorskie  11900              0.0   \n",
       "2    Diesel  Ruda Śląska             Śląskie  24598              0.0   \n",
       "3    Diesel    Białystok           Podlaskie  41900              0.0   \n",
       "4    Diesel   Dziemionna  Kujawsko-pomorskie  39500              0.0   \n",
       "\n",
       "   mark_audi  mark_bmw  mark_chevrolet  mark_citroen  mark_fiat  mark_ford  \\\n",
       "0        0.0       0.0             0.0           0.0        0.0        0.0   \n",
       "1        0.0       0.0             0.0           0.0        0.0        0.0   \n",
       "2        0.0       0.0             0.0           0.0        0.0        0.0   \n",
       "3        1.0       0.0             0.0           0.0        0.0        0.0   \n",
       "4        0.0       0.0             0.0           1.0        0.0        0.0   \n",
       "\n",
       "   mark_honda  mark_hyundai  mark_kia  mark_mazda  mark_mercedes-benz  \\\n",
       "0         0.0           0.0       0.0         0.0                 0.0   \n",
       "1         0.0           0.0       0.0         0.0                 0.0   \n",
       "2         0.0           0.0       0.0         0.0                 0.0   \n",
       "3         0.0           0.0       0.0         0.0                 0.0   \n",
       "4         0.0           0.0       0.0         0.0                 0.0   \n",
       "\n",
       "   mark_mini  mark_mitsubishi  mark_nissan  mark_opel  mark_peugeot  \\\n",
       "0        0.0              0.0          0.0        1.0           0.0   \n",
       "1        0.0              0.0          0.0        0.0           0.0   \n",
       "2        0.0              0.0          0.0        1.0           0.0   \n",
       "3        0.0              0.0          0.0        0.0           0.0   \n",
       "4        0.0              0.0          0.0        0.0           0.0   \n",
       "\n",
       "   mark_renault  mark_seat  mark_skoda  mark_toyota  mark_volkswagen  \\\n",
       "0           0.0        0.0         0.0          0.0              0.0   \n",
       "1           0.0        0.0         1.0          0.0              0.0   \n",
       "2           0.0        0.0         0.0          0.0              0.0   \n",
       "3           0.0        0.0         0.0          0.0              0.0   \n",
       "4           0.0        0.0         0.0          0.0              0.0   \n",
       "\n",
       "   mark_volvo  fuel_CNG  fuel_Diesel  fuel_Electric  fuel_Gasoline  \\\n",
       "0         0.0       0.0          0.0            0.0            1.0   \n",
       "1         0.0       0.0          0.0            0.0            1.0   \n",
       "2         0.0       0.0          1.0            0.0            0.0   \n",
       "3         0.0       0.0          1.0            0.0            0.0   \n",
       "4         0.0       0.0          1.0            0.0            0.0   \n",
       "\n",
       "   fuel_Hybrid  fuel_LPG      model_te  generation_name_te       city_te  \\\n",
       "0          0.0       0.0  48549.435603        34078.467113  93623.392461   \n",
       "1          0.0       0.0  31821.475709        16643.232639  94334.920086   \n",
       "2          0.0       0.0  48549.435603        34078.467113  39264.196396   \n",
       "3          0.0       0.0  53586.996332        42651.432258  78616.011442   \n",
       "4          0.0       0.0  29098.082418        45995.740967  39210.649854   \n",
       "\n",
       "    province_te  \n",
       "0  81208.395382  \n",
       "1  69342.069703  \n",
       "2  81208.395382  \n",
       "3  67555.811944  \n",
       "4  69342.069703  "
      ]
     },
     "execution_count": 10,
     "metadata": {},
     "output_type": "execute_result"
    }
   ],
   "source": [
    "X_train.head()"
   ]
  },
  {
   "cell_type": "markdown",
   "metadata": {},
   "source": [
    "#### Standardize Variables\n",
    "\n",
    "I will be calculating un-scaled coefficients, therefore I will scale \n",
    "all variables that will be input to the model excluding One-Hot-Encoded columns."
   ]
  },
  {
   "cell_type": "code",
   "execution_count": 11,
   "metadata": {},
   "outputs": [
    {
     "name": "stdout",
     "output_type": "stream",
     "text": [
      "Columns to scale:  ['year', 'mileage', 'vol_engine', 'model_te', 'generation_name_te', 'city_te', 'province_te']\n"
     ]
    }
   ],
   "source": [
    "columns_to_scale = num_orig_columns + te_columns\n",
    "print(\"Columns to scale: \", columns_to_scale)"
   ]
  },
  {
   "cell_type": "code",
   "execution_count": 12,
   "metadata": {},
   "outputs": [
    {
     "name": "stdout",
     "output_type": "stream",
     "text": [
      "StandardScaler scale of  year\n",
      "StandardScaler scale of  mileage\n",
      "StandardScaler scale of  vol_engine\n",
      "StandardScaler scale of  model_te\n",
      "StandardScaler scale of  generation_name_te\n",
      "StandardScaler scale of  city_te\n",
      "StandardScaler scale of  province_te\n"
     ]
    }
   ],
   "source": [
    "num_scalers = {}\n",
    "cols_numerical_sc = []\n",
    "\n",
    "# Scale only original numerical columns\n",
    "for col in X_train[columns_to_scale]:\n",
    "    print(\"StandardScaler scale of \", col)\n",
    "    scaler = StandardScaler()\n",
    "    scaler.fit(X_train[[col]])\n",
    "    X_train[col+\"_sc\"] = scaler.transform(X_train[[col]])\n",
    "    X_test[col+\"_sc\"] = scaler.transform(X_test[[col]])\n",
    "\n",
    "    num_scalers[col] = [deepcopy(scaler),\"StandardScaler\"]\n",
    "    cols_numerical_sc.append(col+\"_sc\")"
   ]
  },
  {
   "cell_type": "code",
   "execution_count": 13,
   "metadata": {},
   "outputs": [
    {
     "name": "stdout",
     "output_type": "stream",
     "text": [
      "Scaled columns: ['year_sc', 'mileage_sc', 'vol_engine_sc', 'model_te_sc', 'generation_name_te_sc', 'city_te_sc', 'province_te_sc']\n"
     ]
    }
   ],
   "source": [
    "print(\"Scaled columns:\", cols_numerical_sc)"
   ]
  },
  {
   "cell_type": "markdown",
   "metadata": {},
   "source": [
    "### Linear Regression Base Model\n",
    "\n",
    "To demonstrate multi-colinearity affect, I will first train model without dropping one of the One-Hot-Encoded columns."
   ]
  },
  {
   "cell_type": "code",
   "execution_count": 14,
   "metadata": {},
   "outputs": [
    {
     "name": "stdout",
     "output_type": "stream",
     "text": [
      "Columns to train: ['year_sc', 'mileage_sc', 'vol_engine_sc', 'model_te_sc', 'generation_name_te_sc', 'city_te_sc', 'province_te_sc', 'mark_alfa-romeo', 'mark_audi', 'mark_bmw', 'mark_chevrolet', 'mark_citroen', 'mark_fiat', 'mark_ford', 'mark_honda', 'mark_hyundai', 'mark_kia', 'mark_mazda', 'mark_mercedes-benz', 'mark_mini', 'mark_mitsubishi', 'mark_nissan', 'mark_opel', 'mark_peugeot', 'mark_renault', 'mark_seat', 'mark_skoda', 'mark_toyota', 'mark_volkswagen', 'mark_volvo', 'fuel_CNG', 'fuel_Diesel', 'fuel_Electric', 'fuel_Gasoline', 'fuel_Hybrid', 'fuel_LPG']\n"
     ]
    }
   ],
   "source": [
    "train_columns_v0 = cols_numerical_sc + all_ohe_columns\n",
    "print(\"Columns to train:\", train_columns_v0)"
   ]
  },
  {
   "cell_type": "code",
   "execution_count": 15,
   "metadata": {},
   "outputs": [
    {
     "name": "stdout",
     "output_type": "stream",
     "text": [
      "R^2 on Train: 0.7706977005588165\n",
      "R^2 on Test: 0.7907060282110733\n"
     ]
    }
   ],
   "source": [
    "lreg_v0 = LinearRegression()\n",
    "lreg_v0.fit(X_train[train_columns_v0], X_train.price)\n",
    "\n",
    "# Calculate R^2 score on Test\n",
    "print(\"R^2 on Train:\", r2_score(list(X_train.price), \n",
    "                                        list(lreg_v0.predict(X_train[train_columns_v0]))))\n",
    "print(\"R^2 on Test:\", r2_score(list(X_test.price), list(lreg_v0.predict(X_test[train_columns_v0]))))"
   ]
  },
  {
   "cell_type": "code",
   "execution_count": 16,
   "metadata": {},
   "outputs": [
    {
     "name": "stdout",
     "output_type": "stream",
     "text": [
      "fuel_CNG : 251430091814356.9\n",
      "fuel_Diesel : 251430091820271.3\n",
      "fuel_Electric : 251430091870260.1\n",
      "fuel_Gasoline : 251430091821189.6\n",
      "fuel_Hybrid : 251430091847188.2\n",
      "fuel_LPG : 251430091824901.8\n"
     ]
    }
   ],
   "source": [
    "coef_dict_v0 = dict(zip(train_columns_v0,lreg_v0.coef_))\n",
    "sorted_tuples = sorted(coef_dict_v0.items(), key=lambda item: item[0])\n",
    "for key, val in sorted_tuples:\n",
    "    if \"fuel_\" in key:\n",
    "        print(key,\":\",val)"
   ]
  },
  {
   "cell_type": "code",
   "execution_count": 17,
   "metadata": {},
   "outputs": [
    {
     "name": "stdout",
     "output_type": "stream",
     "text": [
      "Combine Coeficients For Electrical & Fuel: 49070.5\n"
     ]
    }
   ],
   "source": [
    "print(\"Combine Coeficients For Electrical & Fuel:\", \n",
    "      coef_dict_v0[\"fuel_Electric\"]- coef_dict_v0[\"fuel_Gasoline\"])"
   ]
  },
  {
   "cell_type": "code",
   "execution_count": 18,
   "metadata": {},
   "outputs": [
    {
     "name": "stdout",
     "output_type": "stream",
     "text": [
      "Predict Price For First Test Record: [66204.]\n"
     ]
    }
   ],
   "source": [
    "print(\"Predict Price For First Test Record:\",lreg_v0.predict(X_test[train_columns_v0].iloc[[0]]))"
   ]
  },
  {
   "cell_type": "markdown",
   "metadata": {},
   "source": [
    "### Linear Regression Model After Removing One Of The OHE Columns\n",
    "\n",
    "I will remove one category column for each of the columns I used OHE to encode:\n",
    "1. Remove BMW from 'mark' column\n",
    "2. Remove Gasoline from 'fuel' column\n",
    "\n",
    "I will set a new \"baseline\" for the model interpretation: \n",
    "- Coeficients for various 'mark_' values will be in relation to BMW\n",
    "- Coeficients for various 'fuel_' values will be in relation to Gasoline."
   ]
  },
  {
   "cell_type": "code",
   "execution_count": 19,
   "metadata": {},
   "outputs": [
    {
     "name": "stdout",
     "output_type": "stream",
     "text": [
      "Columns to train: ['year_sc', 'mileage_sc', 'vol_engine_sc', 'model_te_sc', 'generation_name_te_sc', 'city_te_sc', 'province_te_sc', 'mark_alfa-romeo', 'mark_audi', 'mark_chevrolet', 'mark_citroen', 'mark_fiat', 'mark_ford', 'mark_honda', 'mark_hyundai', 'mark_kia', 'mark_mazda', 'mark_mercedes-benz', 'mark_mini', 'mark_mitsubishi', 'mark_nissan', 'mark_opel', 'mark_peugeot', 'mark_renault', 'mark_seat', 'mark_skoda', 'mark_toyota', 'mark_volkswagen', 'mark_volvo', 'fuel_CNG', 'fuel_Diesel', 'fuel_Electric', 'fuel_Hybrid', 'fuel_LPG']\n"
     ]
    }
   ],
   "source": [
    "train_columns_v1 = cols_numerical_sc + all_ohe_columns\n",
    "train_columns_v1.remove(\"mark_bmw\")\n",
    "train_columns_v1.remove(\"fuel_Gasoline\")\n",
    "print(\"Columns to train:\", train_columns_v1)"
   ]
  },
  {
   "cell_type": "code",
   "execution_count": 20,
   "metadata": {},
   "outputs": [
    {
     "name": "stdout",
     "output_type": "stream",
     "text": [
      "R^2 on Train: 0.7707279670836584\n",
      "R^2 on Test: 0.7907628135879805\n"
     ]
    }
   ],
   "source": [
    "lreg_v1 = LinearRegression()\n",
    "lreg_v1.fit(X_train[train_columns_v1], X_train.price)\n",
    "\n",
    "# Calculate R^2 score on Test dataset\n",
    "print(\"R^2 on Train:\", r2_score(list(X_train.price), \n",
    "                                        list(lreg_v1.predict(X_train[train_columns_v1]))))\n",
    "print(\"R^2 on Test:\", r2_score(list(X_test.price), list(lreg_v1.predict(X_test[train_columns_v1]))))"
   ]
  },
  {
   "cell_type": "code",
   "execution_count": 21,
   "metadata": {},
   "outputs": [
    {
     "name": "stdout",
     "output_type": "stream",
     "text": [
      "fuel_CNG : 671.6858414589716\n",
      "fuel_Diesel : -955.4161439631692\n",
      "fuel_Electric : 49247.28441248662\n",
      "fuel_Hybrid : 25785.11338309157\n",
      "fuel_LPG : 2867.0410660811626\n"
     ]
    }
   ],
   "source": [
    "coef_dict_v1 = dict(zip(train_columns_v1,lreg_v1.coef_))\n",
    "sorted_tuples = sorted(coef_dict_v1.items(), key=lambda item: item[0])\n",
    "for key, val in sorted_tuples:\n",
    "    if \"fuel_\" in key:\n",
    "        print(key,\":\",val)"
   ]
  },
  {
   "cell_type": "code",
   "execution_count": 22,
   "metadata": {},
   "outputs": [
    {
     "name": "stdout",
     "output_type": "stream",
     "text": [
      "Predict Price For First Test Record: [66080.47203478]\n"
     ]
    }
   ],
   "source": [
    "print(\"Predict Price For First Test Record:\",lreg_v1.predict(X_test[train_columns_v1].iloc[[0]]))"
   ]
  },
  {
   "cell_type": "markdown",
   "metadata": {},
   "source": [
    "### Conclusion\n",
    "\n",
    "After removing one of the OHE columns, it doesn't impact model prediction.\n",
    "\n",
    "As a result of the removal, I will take care of multi-colinearity which impacts coefficient value as a predictor for the contribution of specific valid value in the categorical variable.\n",
    "\n",
    "However, the colinearity didn't actually affect the model because number of valid values in the column Fuel was relatively high. As a result, pairwise colinearity was relatively low."
   ]
  }
 ],
 "metadata": {
  "kernelspec": {
   "display_name": "ba_venv",
   "language": "python",
   "name": "ba_venv"
  },
  "language_info": {
   "codemirror_mode": {
    "name": "ipython",
    "version": 3
   },
   "file_extension": ".py",
   "mimetype": "text/x-python",
   "name": "python",
   "nbconvert_exporter": "python",
   "pygments_lexer": "ipython3",
   "version": "3.11.7"
  }
 },
 "nbformat": 4,
 "nbformat_minor": 2
}
