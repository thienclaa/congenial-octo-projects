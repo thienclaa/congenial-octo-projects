{
 "cells": [
  {
   "cell_type": "markdown",
   "id": "cab09f5b",
   "metadata": {},
   "source": [
    "## Loan Approved or Denied - Random Forest\n",
    "**=======================================================**"
   ]
  },
  {
   "cell_type": "markdown",
   "id": "a0c9b618",
   "metadata": {},
   "source": [
    "### Data Preparation"
   ]
  },
  {
   "cell_type": "code",
   "execution_count": 1,
   "id": "3ca7e035",
   "metadata": {},
   "outputs": [
    {
     "data": {
      "text/html": [
       "<style>.container { width:80% !important; }</style>"
      ],
      "text/plain": [
       "<IPython.core.display.HTML object>"
      ]
     },
     "metadata": {},
     "output_type": "display_data"
    }
   ],
   "source": [
    "import pandas as pd\n",
    "pd.set_option('display.max_columns', 1500)\n",
    "\n",
    "import warnings\n",
    "warnings.filterwarnings('ignore')\n",
    "\n",
    "#Extend cell width\n",
    "from IPython.core.display import display, HTML\n",
    "display(HTML(\"<style>.container { width:80% !important; }</style>\"))"
   ]
  },
  {
   "cell_type": "code",
   "execution_count": 2,
   "id": "a19bd163",
   "metadata": {},
   "outputs": [],
   "source": [
    "X_train = pd.read_csv('/Users/thienla/Desktop/Portfolio/Machine Learning/Module 4/Lab 5/SBA_loans_train.csv')\n",
    "X_test  = pd.read_csv('/Users/thienla/Desktop/Portfolio/Machine Learning/Module 4/Lab 5/SBA_loans_test.csv')\n",
    "orig_columns = list(X_train.columns)"
   ]
  },
  {
   "cell_type": "code",
   "execution_count": 3,
   "id": "b9856f8b",
   "metadata": {},
   "outputs": [
    {
     "name": "stdout",
     "output_type": "stream",
     "text": [
      "['City', 'State', 'Zip', 'Bank', 'BankState', 'NAICS', 'Term', 'NoEmp', 'NewExist', 'CreateJob', 'RetainedJob', 'FranchiseCode', 'UrbanRural', 'RevLineCr', 'LowDoc', 'DisbursementGross', 'BalanceGross', 'GrAppv', 'SBA_Appv', 'Defaulted']\n"
     ]
    }
   ],
   "source": [
    "print(orig_columns)"
   ]
  },
  {
   "cell_type": "code",
   "execution_count": 4,
   "id": "2301a5ed",
   "metadata": {},
   "outputs": [
    {
     "name": "stdout",
     "output_type": "stream",
     "text": [
      "Train shape: (337186, 20)\n",
      "Test shape: (112396, 20)\n"
     ]
    }
   ],
   "source": [
    "print(\"Train shape:\", X_train.shape)\n",
    "print(\"Test shape:\", X_test.shape)"
   ]
  },
  {
   "cell_type": "code",
   "execution_count": 5,
   "id": "75a0705b",
   "metadata": {},
   "outputs": [],
   "source": [
    "values_to_fill = {}\n",
    "for col in X_train.drop(columns=['Defaulted']).columns:\n",
    "    if X_train[col].dtype == 'object':\n",
    "        values_to_fill[col] = \"Missing\"\n",
    "    else:\n",
    "        values_to_fill[col] = 0\n",
    "\n",
    "X_train.fillna(value=values_to_fill,inplace=True)\n",
    "X_test.fillna(value=values_to_fill, inplace=True)"
   ]
  },
  {
   "cell_type": "markdown",
   "id": "73065d9d",
   "metadata": {},
   "source": [
    "#### Variables Encoding"
   ]
  },
  {
   "cell_type": "code",
   "execution_count": 6,
   "id": "021ee2f7",
   "metadata": {},
   "outputs": [],
   "source": [
    "from sklearn.preprocessing import LabelEncoder\n",
    "import category_encoders as ce\n",
    "from copy import deepcopy\n",
    "\n",
    "label_col = 'Defaulted'\n",
    "orig_categorical_columns = [\"City\", \"State\", \"Bank\", \"BankState\", \"RevLineCr\", \"LowDoc\"]\n",
    "cat_encoders = {}\n",
    "\n",
    "# Target Encoding\n",
    "target_encoder = ce.TargetEncoder(cols=orig_categorical_columns, min_samples_leaf=20, smoothing=10)\n",
    "target_encoder.fit(X_train[orig_categorical_columns],X_train[label_col])\n",
    "X_train_target_enc = target_encoder.transform(X_train[orig_categorical_columns])\n",
    "X_test_target_enc = target_encoder.transform(X_test[orig_categorical_columns])\n",
    "\n",
    "# Weight of Evidence Encoding\n",
    "woe_encoder = ce.WOEEncoder(cols=orig_categorical_columns)\n",
    "woe_encoder.fit(X_train[orig_categorical_columns],X_train[label_col])\n",
    "X_train_woe_enc = woe_encoder.transform(X_train[orig_categorical_columns])\n",
    "X_test_woe_enc = woe_encoder.transform(X_test[orig_categorical_columns])\n",
    "\n",
    "te_columns = []\n",
    "woe_columns = []\n",
    "for col in orig_categorical_columns:\n",
    "    X_train[col+\"_te\"] = X_train_target_enc[col]\n",
    "    X_test[col+\"_te\"] = X_test_target_enc[col]\n",
    "    te_columns.append(col+\"_te\")\n",
    "    \n",
    "    X_train[col+\"_woe\"] = X_train_woe_enc[col]\n",
    "    X_test[col+\"_woe\"] = X_test_woe_enc[col]\n",
    "    woe_columns.append(col+\"_woe\")\n",
    "\n",
    "cat_encoders[(\"orig_categorical_columns\",\"te\")] = [deepcopy(target_encoder),\"te\"]\n",
    "cat_encoders[(\"orig_categorical_columns\",\"woe\")] = [deepcopy(woe_encoder),\"woe\"]"
   ]
  },
  {
   "cell_type": "code",
   "execution_count": 7,
   "id": "e0907703",
   "metadata": {},
   "outputs": [
    {
     "data": {
      "text/plain": [
       "{('orig_categorical_columns',\n",
       "  'te'): [TargetEncoder(cols=['City', 'State', 'Bank', 'BankState', 'RevLineCr',\n",
       "                      'LowDoc']), 'te'],\n",
       " ('orig_categorical_columns',\n",
       "  'woe'): [WOEEncoder(cols=['City', 'State', 'Bank', 'BankState', 'RevLineCr', 'LowDoc']), 'woe']}"
      ]
     },
     "execution_count": 7,
     "metadata": {},
     "output_type": "execute_result"
    }
   ],
   "source": [
    "cat_encoders"
   ]
  },
  {
   "cell_type": "code",
   "execution_count": 8,
   "id": "e2763416",
   "metadata": {},
   "outputs": [
    {
     "data": {
      "text/html": [
       "<div>\n",
       "<style scoped>\n",
       "    .dataframe tbody tr th:only-of-type {\n",
       "        vertical-align: middle;\n",
       "    }\n",
       "\n",
       "    .dataframe tbody tr th {\n",
       "        vertical-align: top;\n",
       "    }\n",
       "\n",
       "    .dataframe thead th {\n",
       "        text-align: right;\n",
       "    }\n",
       "</style>\n",
       "<table border=\"1\" class=\"dataframe\">\n",
       "  <thead>\n",
       "    <tr style=\"text-align: right;\">\n",
       "      <th></th>\n",
       "      <th>City</th>\n",
       "      <th>State</th>\n",
       "      <th>Zip</th>\n",
       "      <th>Bank</th>\n",
       "      <th>BankState</th>\n",
       "      <th>NAICS</th>\n",
       "      <th>Term</th>\n",
       "      <th>NoEmp</th>\n",
       "      <th>NewExist</th>\n",
       "      <th>CreateJob</th>\n",
       "      <th>RetainedJob</th>\n",
       "      <th>FranchiseCode</th>\n",
       "      <th>UrbanRural</th>\n",
       "      <th>RevLineCr</th>\n",
       "      <th>LowDoc</th>\n",
       "      <th>DisbursementGross</th>\n",
       "      <th>BalanceGross</th>\n",
       "      <th>GrAppv</th>\n",
       "      <th>SBA_Appv</th>\n",
       "      <th>Defaulted</th>\n",
       "      <th>City_te</th>\n",
       "      <th>City_woe</th>\n",
       "      <th>State_te</th>\n",
       "      <th>State_woe</th>\n",
       "      <th>Bank_te</th>\n",
       "      <th>Bank_woe</th>\n",
       "      <th>BankState_te</th>\n",
       "      <th>BankState_woe</th>\n",
       "      <th>RevLineCr_te</th>\n",
       "      <th>RevLineCr_woe</th>\n",
       "      <th>LowDoc_te</th>\n",
       "      <th>LowDoc_woe</th>\n",
       "    </tr>\n",
       "  </thead>\n",
       "  <tbody>\n",
       "    <tr>\n",
       "      <th>0</th>\n",
       "      <td>Huntsville</td>\n",
       "      <td>AL</td>\n",
       "      <td>35811</td>\n",
       "      <td>BUSINESS LOAN CENTER, LLC</td>\n",
       "      <td>FL</td>\n",
       "      <td>621310</td>\n",
       "      <td>73</td>\n",
       "      <td>1</td>\n",
       "      <td>2.0</td>\n",
       "      <td>2</td>\n",
       "      <td>1</td>\n",
       "      <td>0</td>\n",
       "      <td>1</td>\n",
       "      <td>N</td>\n",
       "      <td>N</td>\n",
       "      <td>25000.0</td>\n",
       "      <td>0.0</td>\n",
       "      <td>25000.0</td>\n",
       "      <td>21250.0</td>\n",
       "      <td>1</td>\n",
       "      <td>0.283212</td>\n",
       "      <td>1.107415</td>\n",
       "      <td>0.167744</td>\n",
       "      <td>-0.050917</td>\n",
       "      <td>0.308181</td>\n",
       "      <td>0.741374</td>\n",
       "      <td>0.158105</td>\n",
       "      <td>-0.122172</td>\n",
       "      <td>0.146342</td>\n",
       "      <td>-0.214300</td>\n",
       "      <td>0.186457</td>\n",
       "      <td>0.076065</td>\n",
       "    </tr>\n",
       "    <tr>\n",
       "      <th>1</th>\n",
       "      <td>SCOTTSDALE</td>\n",
       "      <td>AZ</td>\n",
       "      <td>85254</td>\n",
       "      <td>WELLS FARGO BANK NATL ASSOC</td>\n",
       "      <td>CA</td>\n",
       "      <td>0</td>\n",
       "      <td>84</td>\n",
       "      <td>3</td>\n",
       "      <td>2.0</td>\n",
       "      <td>0</td>\n",
       "      <td>0</td>\n",
       "      <td>0</td>\n",
       "      <td>0</td>\n",
       "      <td>N</td>\n",
       "      <td>N</td>\n",
       "      <td>52000.0</td>\n",
       "      <td>0.0</td>\n",
       "      <td>52000.0</td>\n",
       "      <td>46800.0</td>\n",
       "      <td>1</td>\n",
       "      <td>0.191919</td>\n",
       "      <td>0.118312</td>\n",
       "      <td>0.200634</td>\n",
       "      <td>0.167471</td>\n",
       "      <td>0.138341</td>\n",
       "      <td>-0.279641</td>\n",
       "      <td>0.221678</td>\n",
       "      <td>0.293405</td>\n",
       "      <td>0.146342</td>\n",
       "      <td>-0.214300</td>\n",
       "      <td>0.186457</td>\n",
       "      <td>0.076065</td>\n",
       "    </tr>\n",
       "    <tr>\n",
       "      <th>2</th>\n",
       "      <td>BANGOR</td>\n",
       "      <td>ME</td>\n",
       "      <td>4401</td>\n",
       "      <td>BANGOR SAVINGS BANK</td>\n",
       "      <td>ME</td>\n",
       "      <td>323110</td>\n",
       "      <td>84</td>\n",
       "      <td>9</td>\n",
       "      <td>1.0</td>\n",
       "      <td>0</td>\n",
       "      <td>0</td>\n",
       "      <td>1</td>\n",
       "      <td>1</td>\n",
       "      <td>0</td>\n",
       "      <td>Y</td>\n",
       "      <td>150000.0</td>\n",
       "      <td>0.0</td>\n",
       "      <td>150000.0</td>\n",
       "      <td>127500.0</td>\n",
       "      <td>0</td>\n",
       "      <td>0.125985</td>\n",
       "      <td>-0.336038</td>\n",
       "      <td>0.096586</td>\n",
       "      <td>-0.682359</td>\n",
       "      <td>0.062502</td>\n",
       "      <td>-1.049319</td>\n",
       "      <td>0.076696</td>\n",
       "      <td>-0.930088</td>\n",
       "      <td>0.149252</td>\n",
       "      <td>-0.191171</td>\n",
       "      <td>0.090740</td>\n",
       "      <td>-0.755151</td>\n",
       "    </tr>\n",
       "    <tr>\n",
       "      <th>3</th>\n",
       "      <td>AVONDALE</td>\n",
       "      <td>AZ</td>\n",
       "      <td>85323</td>\n",
       "      <td>NATIONAL BANK OF ARIZONA</td>\n",
       "      <td>AZ</td>\n",
       "      <td>722110</td>\n",
       "      <td>27</td>\n",
       "      <td>20</td>\n",
       "      <td>1.0</td>\n",
       "      <td>0</td>\n",
       "      <td>20</td>\n",
       "      <td>10625</td>\n",
       "      <td>2</td>\n",
       "      <td>Y</td>\n",
       "      <td>N</td>\n",
       "      <td>186959.0</td>\n",
       "      <td>0.0</td>\n",
       "      <td>100000.0</td>\n",
       "      <td>50000.0</td>\n",
       "      <td>1</td>\n",
       "      <td>0.351182</td>\n",
       "      <td>1.063740</td>\n",
       "      <td>0.200634</td>\n",
       "      <td>0.167471</td>\n",
       "      <td>0.059406</td>\n",
       "      <td>-1.162305</td>\n",
       "      <td>0.068197</td>\n",
       "      <td>-1.056343</td>\n",
       "      <td>0.253136</td>\n",
       "      <td>0.467327</td>\n",
       "      <td>0.186457</td>\n",
       "      <td>0.076065</td>\n",
       "    </tr>\n",
       "    <tr>\n",
       "      <th>4</th>\n",
       "      <td>HAMMOND</td>\n",
       "      <td>LA</td>\n",
       "      <td>70403</td>\n",
       "      <td>BIZCAPITAL BIDCO II, LLC</td>\n",
       "      <td>LA</td>\n",
       "      <td>0</td>\n",
       "      <td>60</td>\n",
       "      <td>1</td>\n",
       "      <td>1.0</td>\n",
       "      <td>0</td>\n",
       "      <td>0</td>\n",
       "      <td>1</td>\n",
       "      <td>1</td>\n",
       "      <td>0</td>\n",
       "      <td>Y</td>\n",
       "      <td>50000.0</td>\n",
       "      <td>0.0</td>\n",
       "      <td>50000.0</td>\n",
       "      <td>40000.0</td>\n",
       "      <td>0</td>\n",
       "      <td>0.275805</td>\n",
       "      <td>0.622485</td>\n",
       "      <td>0.179574</td>\n",
       "      <td>0.031247</td>\n",
       "      <td>0.362410</td>\n",
       "      <td>1.072323</td>\n",
       "      <td>0.101741</td>\n",
       "      <td>-0.624053</td>\n",
       "      <td>0.149252</td>\n",
       "      <td>-0.191171</td>\n",
       "      <td>0.090740</td>\n",
       "      <td>-0.755151</td>\n",
       "    </tr>\n",
       "  </tbody>\n",
       "</table>\n",
       "</div>"
      ],
      "text/plain": [
       "         City State    Zip                         Bank BankState   NAICS  \\\n",
       "0  Huntsville    AL  35811    BUSINESS LOAN CENTER, LLC        FL  621310   \n",
       "1  SCOTTSDALE    AZ  85254  WELLS FARGO BANK NATL ASSOC        CA       0   \n",
       "2      BANGOR    ME   4401          BANGOR SAVINGS BANK        ME  323110   \n",
       "3    AVONDALE    AZ  85323     NATIONAL BANK OF ARIZONA        AZ  722110   \n",
       "4     HAMMOND    LA  70403     BIZCAPITAL BIDCO II, LLC        LA       0   \n",
       "\n",
       "   Term  NoEmp  NewExist  CreateJob  RetainedJob  FranchiseCode  UrbanRural  \\\n",
       "0    73      1       2.0          2            1              0           1   \n",
       "1    84      3       2.0          0            0              0           0   \n",
       "2    84      9       1.0          0            0              1           1   \n",
       "3    27     20       1.0          0           20          10625           2   \n",
       "4    60      1       1.0          0            0              1           1   \n",
       "\n",
       "  RevLineCr LowDoc  DisbursementGross  BalanceGross    GrAppv  SBA_Appv  \\\n",
       "0         N      N            25000.0           0.0   25000.0   21250.0   \n",
       "1         N      N            52000.0           0.0   52000.0   46800.0   \n",
       "2         0      Y           150000.0           0.0  150000.0  127500.0   \n",
       "3         Y      N           186959.0           0.0  100000.0   50000.0   \n",
       "4         0      Y            50000.0           0.0   50000.0   40000.0   \n",
       "\n",
       "   Defaulted   City_te  City_woe  State_te  State_woe   Bank_te  Bank_woe  \\\n",
       "0          1  0.283212  1.107415  0.167744  -0.050917  0.308181  0.741374   \n",
       "1          1  0.191919  0.118312  0.200634   0.167471  0.138341 -0.279641   \n",
       "2          0  0.125985 -0.336038  0.096586  -0.682359  0.062502 -1.049319   \n",
       "3          1  0.351182  1.063740  0.200634   0.167471  0.059406 -1.162305   \n",
       "4          0  0.275805  0.622485  0.179574   0.031247  0.362410  1.072323   \n",
       "\n",
       "   BankState_te  BankState_woe  RevLineCr_te  RevLineCr_woe  LowDoc_te  \\\n",
       "0      0.158105      -0.122172      0.146342      -0.214300   0.186457   \n",
       "1      0.221678       0.293405      0.146342      -0.214300   0.186457   \n",
       "2      0.076696      -0.930088      0.149252      -0.191171   0.090740   \n",
       "3      0.068197      -1.056343      0.253136       0.467327   0.186457   \n",
       "4      0.101741      -0.624053      0.149252      -0.191171   0.090740   \n",
       "\n",
       "   LowDoc_woe  \n",
       "0    0.076065  \n",
       "1    0.076065  \n",
       "2   -0.755151  \n",
       "3    0.076065  \n",
       "4   -0.755151  "
      ]
     },
     "execution_count": 8,
     "metadata": {},
     "output_type": "execute_result"
    }
   ],
   "source": [
    "X_train.head()"
   ]
  },
  {
   "cell_type": "markdown",
   "id": "5597d508",
   "metadata": {},
   "source": [
    "### Random Forest Models"
   ]
  },
  {
   "cell_type": "code",
   "execution_count": 9,
   "id": "75060bf3",
   "metadata": {},
   "outputs": [],
   "source": [
    "from sklearn.ensemble import RandomForestClassifier\n",
    "from sklearn.model_selection import train_test_split\n",
    "from sklearn.metrics import f1_score\n",
    "\n",
    "best_f1 = 0\n",
    "best_params = {}\n",
    "best_model = None\n",
    "label_col = 'Defaulted'\n",
    "\n",
    "Y_tr = X_train[label_col].copy()\n",
    "X_tr = X_train.drop(columns=orig_categorical_columns).drop(columns=label_col).copy()\n",
    "\n",
    "Y_tst = X_test[label_col].copy()\n",
    "X_tst = X_test.drop(columns=orig_categorical_columns).drop(columns=label_col).copy()"
   ]
  },
  {
   "cell_type": "code",
   "execution_count": 10,
   "id": "d42b0d82",
   "metadata": {},
   "outputs": [],
   "source": [
    "# Perform split of the Training dataset to Train and Validation datasets. Use Validation dataset to find best performing model.\n",
    "X_tr, X_valid, Y_tr, Y_valid = train_test_split(X_tr, Y_tr, test_size=0.2, random_state=42)"
   ]
  },
  {
   "cell_type": "code",
   "execution_count": 11,
   "id": "c3533540",
   "metadata": {},
   "outputs": [
    {
     "data": {
      "text/html": [
       "<div>\n",
       "<style scoped>\n",
       "    .dataframe tbody tr th:only-of-type {\n",
       "        vertical-align: middle;\n",
       "    }\n",
       "\n",
       "    .dataframe tbody tr th {\n",
       "        vertical-align: top;\n",
       "    }\n",
       "\n",
       "    .dataframe thead th {\n",
       "        text-align: right;\n",
       "    }\n",
       "</style>\n",
       "<table border=\"1\" class=\"dataframe\">\n",
       "  <thead>\n",
       "    <tr style=\"text-align: right;\">\n",
       "      <th></th>\n",
       "      <th>Zip</th>\n",
       "      <th>NAICS</th>\n",
       "      <th>Term</th>\n",
       "      <th>NoEmp</th>\n",
       "      <th>NewExist</th>\n",
       "      <th>CreateJob</th>\n",
       "      <th>RetainedJob</th>\n",
       "      <th>FranchiseCode</th>\n",
       "      <th>UrbanRural</th>\n",
       "      <th>DisbursementGross</th>\n",
       "      <th>BalanceGross</th>\n",
       "      <th>GrAppv</th>\n",
       "      <th>SBA_Appv</th>\n",
       "      <th>City_te</th>\n",
       "      <th>City_woe</th>\n",
       "      <th>State_te</th>\n",
       "      <th>State_woe</th>\n",
       "      <th>Bank_te</th>\n",
       "      <th>Bank_woe</th>\n",
       "      <th>BankState_te</th>\n",
       "      <th>BankState_woe</th>\n",
       "      <th>RevLineCr_te</th>\n",
       "      <th>RevLineCr_woe</th>\n",
       "      <th>LowDoc_te</th>\n",
       "      <th>LowDoc_woe</th>\n",
       "    </tr>\n",
       "  </thead>\n",
       "  <tbody>\n",
       "    <tr>\n",
       "      <th>315787</th>\n",
       "      <td>43055</td>\n",
       "      <td>624410</td>\n",
       "      <td>84</td>\n",
       "      <td>8</td>\n",
       "      <td>1.0</td>\n",
       "      <td>0</td>\n",
       "      <td>8</td>\n",
       "      <td>0</td>\n",
       "      <td>1</td>\n",
       "      <td>25000.0</td>\n",
       "      <td>0.0</td>\n",
       "      <td>25000.0</td>\n",
       "      <td>12500.0</td>\n",
       "      <td>0.190024</td>\n",
       "      <td>0.108886</td>\n",
       "      <td>0.162080</td>\n",
       "      <td>-0.093177</td>\n",
       "      <td>0.413289</td>\n",
       "      <td>1.198946</td>\n",
       "      <td>0.382280</td>\n",
       "      <td>1.069458</td>\n",
       "      <td>0.146342</td>\n",
       "      <td>-0.2143</td>\n",
       "      <td>0.186457</td>\n",
       "      <td>0.076065</td>\n",
       "    </tr>\n",
       "    <tr>\n",
       "      <th>77896</th>\n",
       "      <td>55418</td>\n",
       "      <td>0</td>\n",
       "      <td>84</td>\n",
       "      <td>2</td>\n",
       "      <td>1.0</td>\n",
       "      <td>0</td>\n",
       "      <td>0</td>\n",
       "      <td>1</td>\n",
       "      <td>0</td>\n",
       "      <td>40000.0</td>\n",
       "      <td>0.0</td>\n",
       "      <td>40000.0</td>\n",
       "      <td>32000.0</td>\n",
       "      <td>0.116101</td>\n",
       "      <td>-0.472486</td>\n",
       "      <td>0.115061</td>\n",
       "      <td>-0.489985</td>\n",
       "      <td>0.166975</td>\n",
       "      <td>0.102328</td>\n",
       "      <td>0.075003</td>\n",
       "      <td>-0.961358</td>\n",
       "      <td>0.146342</td>\n",
       "      <td>-0.2143</td>\n",
       "      <td>0.090740</td>\n",
       "      <td>-0.755151</td>\n",
       "    </tr>\n",
       "    <tr>\n",
       "      <th>219153</th>\n",
       "      <td>3289</td>\n",
       "      <td>313311</td>\n",
       "      <td>119</td>\n",
       "      <td>7</td>\n",
       "      <td>1.0</td>\n",
       "      <td>0</td>\n",
       "      <td>0</td>\n",
       "      <td>1</td>\n",
       "      <td>0</td>\n",
       "      <td>64000.0</td>\n",
       "      <td>0.0</td>\n",
       "      <td>64000.0</td>\n",
       "      <td>51200.0</td>\n",
       "      <td>0.150340</td>\n",
       "      <td>0.450635</td>\n",
       "      <td>0.106169</td>\n",
       "      <td>-0.579384</td>\n",
       "      <td>0.178571</td>\n",
       "      <td>0.045170</td>\n",
       "      <td>0.059538</td>\n",
       "      <td>-1.204155</td>\n",
       "      <td>0.146342</td>\n",
       "      <td>-0.2143</td>\n",
       "      <td>0.186457</td>\n",
       "      <td>0.076065</td>\n",
       "    </tr>\n",
       "    <tr>\n",
       "      <th>88526</th>\n",
       "      <td>36701</td>\n",
       "      <td>621111</td>\n",
       "      <td>84</td>\n",
       "      <td>3</td>\n",
       "      <td>1.0</td>\n",
       "      <td>0</td>\n",
       "      <td>0</td>\n",
       "      <td>1</td>\n",
       "      <td>2</td>\n",
       "      <td>125000.0</td>\n",
       "      <td>0.0</td>\n",
       "      <td>125000.0</td>\n",
       "      <td>62500.0</td>\n",
       "      <td>0.252687</td>\n",
       "      <td>1.836929</td>\n",
       "      <td>0.167744</td>\n",
       "      <td>-0.050917</td>\n",
       "      <td>0.413289</td>\n",
       "      <td>1.198946</td>\n",
       "      <td>0.382280</td>\n",
       "      <td>1.069458</td>\n",
       "      <td>0.146342</td>\n",
       "      <td>-0.2143</td>\n",
       "      <td>0.186457</td>\n",
       "      <td>0.076065</td>\n",
       "    </tr>\n",
       "    <tr>\n",
       "      <th>183654</th>\n",
       "      <td>78577</td>\n",
       "      <td>541519</td>\n",
       "      <td>54</td>\n",
       "      <td>2</td>\n",
       "      <td>1.0</td>\n",
       "      <td>0</td>\n",
       "      <td>0</td>\n",
       "      <td>1</td>\n",
       "      <td>1</td>\n",
       "      <td>60285.0</td>\n",
       "      <td>0.0</td>\n",
       "      <td>60285.0</td>\n",
       "      <td>51242.0</td>\n",
       "      <td>0.232732</td>\n",
       "      <td>0.484537</td>\n",
       "      <td>0.192113</td>\n",
       "      <td>0.113060</td>\n",
       "      <td>0.128049</td>\n",
       "      <td>-0.329523</td>\n",
       "      <td>0.141874</td>\n",
       "      <td>-0.250239</td>\n",
       "      <td>0.146342</td>\n",
       "      <td>-0.2143</td>\n",
       "      <td>0.186457</td>\n",
       "      <td>0.076065</td>\n",
       "    </tr>\n",
       "  </tbody>\n",
       "</table>\n",
       "</div>"
      ],
      "text/plain": [
       "          Zip   NAICS  Term  NoEmp  NewExist  CreateJob  RetainedJob  \\\n",
       "315787  43055  624410    84      8       1.0          0            8   \n",
       "77896   55418       0    84      2       1.0          0            0   \n",
       "219153   3289  313311   119      7       1.0          0            0   \n",
       "88526   36701  621111    84      3       1.0          0            0   \n",
       "183654  78577  541519    54      2       1.0          0            0   \n",
       "\n",
       "        FranchiseCode  UrbanRural  DisbursementGross  BalanceGross    GrAppv  \\\n",
       "315787              0           1            25000.0           0.0   25000.0   \n",
       "77896               1           0            40000.0           0.0   40000.0   \n",
       "219153              1           0            64000.0           0.0   64000.0   \n",
       "88526               1           2           125000.0           0.0  125000.0   \n",
       "183654              1           1            60285.0           0.0   60285.0   \n",
       "\n",
       "        SBA_Appv   City_te  City_woe  State_te  State_woe   Bank_te  Bank_woe  \\\n",
       "315787   12500.0  0.190024  0.108886  0.162080  -0.093177  0.413289  1.198946   \n",
       "77896    32000.0  0.116101 -0.472486  0.115061  -0.489985  0.166975  0.102328   \n",
       "219153   51200.0  0.150340  0.450635  0.106169  -0.579384  0.178571  0.045170   \n",
       "88526    62500.0  0.252687  1.836929  0.167744  -0.050917  0.413289  1.198946   \n",
       "183654   51242.0  0.232732  0.484537  0.192113   0.113060  0.128049 -0.329523   \n",
       "\n",
       "        BankState_te  BankState_woe  RevLineCr_te  RevLineCr_woe  LowDoc_te  \\\n",
       "315787      0.382280       1.069458      0.146342        -0.2143   0.186457   \n",
       "77896       0.075003      -0.961358      0.146342        -0.2143   0.090740   \n",
       "219153      0.059538      -1.204155      0.146342        -0.2143   0.186457   \n",
       "88526       0.382280       1.069458      0.146342        -0.2143   0.186457   \n",
       "183654      0.141874      -0.250239      0.146342        -0.2143   0.186457   \n",
       "\n",
       "        LowDoc_woe  \n",
       "315787    0.076065  \n",
       "77896    -0.755151  \n",
       "219153    0.076065  \n",
       "88526     0.076065  \n",
       "183654    0.076065  "
      ]
     },
     "execution_count": 11,
     "metadata": {},
     "output_type": "execute_result"
    }
   ],
   "source": [
    "X_tr.head()"
   ]
  },
  {
   "cell_type": "markdown",
   "id": "2ae85ec7",
   "metadata": {},
   "source": [
    "#### Optimal Hyper-Parameters"
   ]
  },
  {
   "cell_type": "markdown",
   "id": "25cb7602",
   "metadata": {},
   "source": [
    "Depending on quality of computer, increase or decrease the speed of model training by specifying n_jobs parameter."
   ]
  },
  {
   "cell_type": "code",
   "execution_count": null,
   "id": "c299a236",
   "metadata": {
    "scrolled": true
   },
   "outputs": [
    {
     "name": "stdout",
     "output_type": "stream",
     "text": [
      "Better Model found. Trained Decision Tree with (n_estimators, max_depth, max_features,max_samples):( 50 5 sqrt 0.2 )\n",
      "F1 for Validation: 0.8774484584501934\n",
      "Better Model found. Trained Decision Tree with (n_estimators, max_depth, max_features,max_samples):( 50 5 sqrt 0.4 )\n",
      "F1 for Validation: 0.8804712692135904\n",
      "Better Model found. Trained Decision Tree with (n_estimators, max_depth, max_features,max_samples):( 50 7 sqrt 0.2 )\n",
      "F1 for Validation: 0.8985631730088207\n",
      "Better Model found. Trained Decision Tree with (n_estimators, max_depth, max_features,max_samples):( 50 7 sqrt 0.4 )\n",
      "F1 for Validation: 0.9057662981539798\n",
      "Better Model found. Trained Decision Tree with (n_estimators, max_depth, max_features,max_samples):( 50 10 sqrt 0.2 )\n",
      "F1 for Validation: 0.919848942011958\n",
      "Better Model found. Trained Decision Tree with (n_estimators, max_depth, max_features,max_samples):( 50 10 sqrt 0.4 )\n",
      "F1 for Validation: 0.9214827529255847\n",
      "Better Model found. Trained Decision Tree with (n_estimators, max_depth, max_features,max_samples):( 50 10 sqrt 0.6 )\n",
      "F1 for Validation: 0.9230978217257597\n",
      "Better Model found. Trained Decision Tree with (n_estimators, max_depth, max_features,max_samples):( 100 10 sqrt 0.6 )\n",
      "F1 for Validation: 0.9232370436693608\n"
     ]
    }
   ],
   "source": [
    "best_f1 = 0\n",
    "best_params = {}\n",
    "best_model = None\n",
    "label_col = 'Defaulted'\n",
    "\n",
    "\n",
    "for n_estimators in [50, 100, 200]:\n",
    "    for max_depth in [5,7,10]:\n",
    "        for max_features in [\"sqrt\", \"log2\", 5]:\n",
    "            for max_samples in [0.2, 0.4, 0.6]:\n",
    "                rfc = RandomForestClassifier(n_jobs=7,\n",
    "                                             random_state=0, \n",
    "                                             bootstrap=True,\n",
    "                                             n_estimators=n_estimators,\n",
    "                                             max_depth=max_depth,\n",
    "                                             max_features=max_features,\n",
    "                                             max_samples=max_samples)\n",
    "\n",
    "                rfc.fit(X_tr, Y_tr)\n",
    "                y_valid_pred = rfc.predict(X_valid)\n",
    "                f1 = f1_score(Y_valid, y_valid_pred, average='weighted')\n",
    "                if f1>best_f1:\n",
    "                    best_f1 = f1\n",
    "                    best_params[\"n_estimators\"] = n_estimators\n",
    "                    best_params[\"max_depth\"] = max_depth\n",
    "                    best_params[\"max_features\"] = max_features\n",
    "                    best_params[\"max_samples\"] = max_samples\n",
    "                    print(\"Better Model found. Trained Random Forest with (n_estimators, max_depth, max_features,max_samples):(\", \\\n",
    "                                    n_estimators, max_depth,max_features,max_samples,\")\")"
   ]
  },
  {
   "cell_type": "code",
   "execution_count": 18,
   "id": "81cc4b18",
   "metadata": {},
   "outputs": [
    {
     "name": "stdout",
     "output_type": "stream",
     "text": [
      "F1 for Validation: 0.9133688907237967\n"
     ]
    }
   ],
   "source": [
    "print(\"F1 for Validation:\", f1)"
   ]
  },
  {
   "cell_type": "code",
   "execution_count": 19,
   "id": "daab0cb9",
   "metadata": {},
   "outputs": [
    {
     "name": "stdout",
     "output_type": "stream",
     "text": [
      "Best params: {'n_estimators': 100, 'max_depth': 10, 'max_features': 'sqrt', 'max_samples': 0.6}\n"
     ]
    }
   ],
   "source": [
    "print(\"Best params:\", best_params)"
   ]
  },
  {
   "cell_type": "markdown",
   "id": "37500243",
   "metadata": {},
   "source": [
    "#### Best Parameters Random Forest Model "
   ]
  },
  {
   "cell_type": "code",
   "execution_count": 20,
   "id": "2f998bb6",
   "metadata": {},
   "outputs": [
    {
     "data": {
      "text/html": [
       "<style>#sk-container-id-2 {color: black;}#sk-container-id-2 pre{padding: 0;}#sk-container-id-2 div.sk-toggleable {background-color: white;}#sk-container-id-2 label.sk-toggleable__label {cursor: pointer;display: block;width: 100%;margin-bottom: 0;padding: 0.3em;box-sizing: border-box;text-align: center;}#sk-container-id-2 label.sk-toggleable__label-arrow:before {content: \"▸\";float: left;margin-right: 0.25em;color: #696969;}#sk-container-id-2 label.sk-toggleable__label-arrow:hover:before {color: black;}#sk-container-id-2 div.sk-estimator:hover label.sk-toggleable__label-arrow:before {color: black;}#sk-container-id-2 div.sk-toggleable__content {max-height: 0;max-width: 0;overflow: hidden;text-align: left;background-color: #f0f8ff;}#sk-container-id-2 div.sk-toggleable__content pre {margin: 0.2em;color: black;border-radius: 0.25em;background-color: #f0f8ff;}#sk-container-id-2 input.sk-toggleable__control:checked~div.sk-toggleable__content {max-height: 200px;max-width: 100%;overflow: auto;}#sk-container-id-2 input.sk-toggleable__control:checked~label.sk-toggleable__label-arrow:before {content: \"▾\";}#sk-container-id-2 div.sk-estimator input.sk-toggleable__control:checked~label.sk-toggleable__label {background-color: #d4ebff;}#sk-container-id-2 div.sk-label input.sk-toggleable__control:checked~label.sk-toggleable__label {background-color: #d4ebff;}#sk-container-id-2 input.sk-hidden--visually {border: 0;clip: rect(1px 1px 1px 1px);clip: rect(1px, 1px, 1px, 1px);height: 1px;margin: -1px;overflow: hidden;padding: 0;position: absolute;width: 1px;}#sk-container-id-2 div.sk-estimator {font-family: monospace;background-color: #f0f8ff;border: 1px dotted black;border-radius: 0.25em;box-sizing: border-box;margin-bottom: 0.5em;}#sk-container-id-2 div.sk-estimator:hover {background-color: #d4ebff;}#sk-container-id-2 div.sk-parallel-item::after {content: \"\";width: 100%;border-bottom: 1px solid gray;flex-grow: 1;}#sk-container-id-2 div.sk-label:hover label.sk-toggleable__label {background-color: #d4ebff;}#sk-container-id-2 div.sk-serial::before {content: \"\";position: absolute;border-left: 1px solid gray;box-sizing: border-box;top: 0;bottom: 0;left: 50%;z-index: 0;}#sk-container-id-2 div.sk-serial {display: flex;flex-direction: column;align-items: center;background-color: white;padding-right: 0.2em;padding-left: 0.2em;position: relative;}#sk-container-id-2 div.sk-item {position: relative;z-index: 1;}#sk-container-id-2 div.sk-parallel {display: flex;align-items: stretch;justify-content: center;background-color: white;position: relative;}#sk-container-id-2 div.sk-item::before, #sk-container-id-2 div.sk-parallel-item::before {content: \"\";position: absolute;border-left: 1px solid gray;box-sizing: border-box;top: 0;bottom: 0;left: 50%;z-index: -1;}#sk-container-id-2 div.sk-parallel-item {display: flex;flex-direction: column;z-index: 1;position: relative;background-color: white;}#sk-container-id-2 div.sk-parallel-item:first-child::after {align-self: flex-end;width: 50%;}#sk-container-id-2 div.sk-parallel-item:last-child::after {align-self: flex-start;width: 50%;}#sk-container-id-2 div.sk-parallel-item:only-child::after {width: 0;}#sk-container-id-2 div.sk-dashed-wrapped {border: 1px dashed gray;margin: 0 0.4em 0.5em 0.4em;box-sizing: border-box;padding-bottom: 0.4em;background-color: white;}#sk-container-id-2 div.sk-label label {font-family: monospace;font-weight: bold;display: inline-block;line-height: 1.2em;}#sk-container-id-2 div.sk-label-container {text-align: center;}#sk-container-id-2 div.sk-container {/* jupyter's `normalize.less` sets `[hidden] { display: none; }` but bootstrap.min.css set `[hidden] { display: none !important; }` so we also need the `!important` here to be able to override the default hidden behavior on the sphinx rendered scikit-learn.org. See: https://github.com/scikit-learn/scikit-learn/issues/21755 */display: inline-block !important;position: relative;}#sk-container-id-2 div.sk-text-repr-fallback {display: none;}</style><div id=\"sk-container-id-2\" class=\"sk-top-container\"><div class=\"sk-text-repr-fallback\"><pre>RandomForestClassifier(max_depth=10, max_samples=0.6, n_jobs=4, random_state=0)</pre><b>In a Jupyter environment, please rerun this cell to show the HTML representation or trust the notebook. <br />On GitHub, the HTML representation is unable to render, please try loading this page with nbviewer.org.</b></div><div class=\"sk-container\" hidden><div class=\"sk-item\"><div class=\"sk-estimator sk-toggleable\"><input class=\"sk-toggleable__control sk-hidden--visually\" id=\"sk-estimator-id-2\" type=\"checkbox\" checked><label for=\"sk-estimator-id-2\" class=\"sk-toggleable__label sk-toggleable__label-arrow\">RandomForestClassifier</label><div class=\"sk-toggleable__content\"><pre>RandomForestClassifier(max_depth=10, max_samples=0.6, n_jobs=4, random_state=0)</pre></div></div></div></div></div>"
      ],
      "text/plain": [
       "RandomForestClassifier(max_depth=10, max_samples=0.6, n_jobs=4, random_state=0)"
      ]
     },
     "execution_count": 20,
     "metadata": {},
     "output_type": "execute_result"
    }
   ],
   "source": [
    "from sklearn.metrics import confusion_matrix\n",
    "Y_tr = X_train[label_col].copy()\n",
    "X_tr = X_train.drop(columns=orig_categorical_columns).drop(columns=label_col).copy()\n",
    "\n",
    "best_model = RandomForestClassifier(n_jobs=4,\n",
    "                                    random_state=0,\n",
    "                                    bootstrap=True,\n",
    "                                    n_estimators=best_params[\"n_estimators\"],\n",
    "                                    max_depth=best_params[\"max_depth\"],\n",
    "                                    max_features=best_params[\"max_features\"],\n",
    "                                    max_samples=best_params[\"max_samples\"])\n",
    "\n",
    "best_model.fit(X_tr, Y_tr)"
   ]
  },
  {
   "cell_type": "markdown",
   "id": "f37744d2",
   "metadata": {},
   "source": [
    "Reporting metrics"
   ]
  },
  {
   "cell_type": "code",
   "execution_count": 15,
   "id": "2ca26a2a",
   "metadata": {},
   "outputs": [
    {
     "name": "stdout",
     "output_type": "stream",
     "text": [
      "Trained Decision Tree with parameters:\n",
      "{'n_estimators': 100, 'max_depth': 10, 'max_features': 'sqrt', 'max_samples': 0.6}\n",
      "F1 for Train: 0.9256760952498487\n",
      "F1 for Test: 0.9133688907237967\n",
      "Test set confusion matrix:\n",
      "[[90804  1885]\n",
      " [ 7259 12448]]\n"
     ]
    }
   ],
   "source": [
    "y_tst_pred = best_model.predict(X_tst)\n",
    "y_tr_pred = best_model.predict(X_tr)\n",
    "print(\"Trained Decision Tree with parameters:\")\n",
    "print(best_params)\n",
    "print(\"F1 for Train:\", f1_score(Y_tr, y_tr_pred, average='weighted'))\n",
    "f1 = f1_score(Y_tst, y_tst_pred, average='weighted')\n",
    "print(\"F1 for Test:\", f1)\n",
    "print(\"Test set confusion matrix:\")\n",
    "print(confusion_matrix(Y_tst, y_tst_pred))"
   ]
  },
  {
   "cell_type": "code",
   "execution_count": 16,
   "id": "3962fba0",
   "metadata": {},
   "outputs": [
    {
     "data": {
      "image/png": "[encoded data removed]",
      "text/plain": [
       "<Figure size 640x480 with 2 Axes>"
      ]
     },
     "metadata": {},
     "output_type": "display_data"
    }
   ],
   "source": [
    "import matplotlib.pyplot as plt\n",
    "from sklearn.metrics import confusion_matrix, ConfusionMatrixDisplay\n",
    "cm = confusion_matrix(Y_tst, y_tst_pred, labels=best_model.classes_)\n",
    "disp = ConfusionMatrixDisplay(confusion_matrix=cm,\n",
    "                              display_labels=best_model.classes_)\n",
    "disp.plot()\n",
    "plt.show()"
   ]
  },
  {
   "cell_type": "markdown",
   "id": "dd19bf8a",
   "metadata": {},
   "source": [
    "### Feature Importances"
   ]
  },
  {
   "cell_type": "markdown",
   "id": "3c14003c",
   "metadata": {},
   "source": [
    "Calculate best model feature importances using permutation method\n",
    "\n",
    "Produce visualization of the best model feature importances"
   ]
  },
  {
   "cell_type": "code",
   "execution_count": 17,
   "id": "37c3cbe9",
   "metadata": {},
   "outputs": [
    {
     "data": {
      "image/png": "[encoded data removed]",
      "text/plain": [
       "<Figure size 640x480 with 1 Axes>"
      ]
     },
     "metadata": {},
     "output_type": "display_data"
    }
   ],
   "source": [
    "from sklearn.inspection import permutation_importance\n",
    "import pandas as pd\n",
    "result = permutation_importance(\n",
    "    best_model, X_tst, Y_tst, n_repeats=10, random_state=42, n_jobs=8\n",
    ")\n",
    "\n",
    "tree_importances = pd.Series(result.importances_mean, index=X_tst.columns)\n",
    "\n",
    "feature_names = X_tst.columns\n",
    "tree_importances = tree_importances.sort_values(ascending=False)\n",
    "\n",
    "fig, ax = plt.subplots()\n",
    "tree_importances.plot.bar(ax=ax)\n",
    "ax.set_title(\"Sorted Permutation Feature importances\")\n",
    "ax.set_ylabel(\"Permutation Feature importance\")\n",
    "fig.tight_layout()"
   ]
  }
 ],
 "metadata": {
  "kernelspec": {
   "display_name": "ba_venv",
   "language": "python",
   "name": "ba_venv"
  },
  "language_info": {
   "codemirror_mode": {
    "name": "ipython",
    "version": 3
   },
   "file_extension": ".py",
   "mimetype": "text/x-python",
   "name": "python",
   "nbconvert_exporter": "python",
   "pygments_lexer": "ipython3",
   "version": "3.11.7"
  }
 },
 "nbformat": 4,
 "nbformat_minor": 5
}
