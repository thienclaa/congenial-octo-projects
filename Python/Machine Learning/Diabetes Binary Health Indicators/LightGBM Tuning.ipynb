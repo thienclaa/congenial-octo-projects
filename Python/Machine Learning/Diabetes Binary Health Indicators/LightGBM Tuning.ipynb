{
 "cells": [
  {
   "attachments": {},
   "cell_type": "markdown",
   "metadata": {},
   "source": [
    "## Tuning LightGBM Model\n",
    "\n",
    "Dataset: \n",
    "\n",
    "- https://www.kaggle.com/datasets/alexteboul/diabetes-health-indicators-dataset?select=diabetes_binary_health_indicators_BRFSS2015.csv\n",
    "\n",
    "**=========================================================**"
   ]
  },
  {
   "cell_type": "markdown",
   "metadata": {},
   "source": [
    "### Data Preparation"
   ]
  },
  {
   "cell_type": "code",
   "execution_count": 1,
   "metadata": {},
   "outputs": [],
   "source": [
    "import pandas as pd\n",
    "import numpy as np\n",
    "import lightgbm as lgb"
   ]
  },
  {
   "attachments": {},
   "cell_type": "markdown",
   "metadata": {},
   "source": [
    "#### Load Dataset"
   ]
  },
  {
   "cell_type": "code",
   "execution_count": 2,
   "metadata": {},
   "outputs": [],
   "source": [
    "# I will use function to reduce Pandas dataframe memory usage\n",
    "def reduce_mem_usage(df):\n",
    "    \"\"\" iterate through all the columns of a dataframe and modify the data type\n",
    "        to reduce memory usage.        \n",
    "    \"\"\"\n",
    "    start_mem = df.memory_usage().sum() / 1024**2\n",
    "    print('Memory usage of dataframe is {:.2f} MB'.format(start_mem))\n",
    "    \n",
    "    for col in df.columns:\n",
    "        col_type = df[col].dtype\n",
    "        \n",
    "        if col_type != object:\n",
    "            c_min = df[col].min()\n",
    "            c_max = df[col].max()\n",
    "            if str(col_type)[:3] == 'int':\n",
    "                if c_min > np.iinfo(np.int8).min and c_max < np.iinfo(np.int8).max:\n",
    "                    df[col] = df[col].astype(np.int8)\n",
    "                elif c_min > np.iinfo(np.int16).min and c_max < np.iinfo(np.int16).max:\n",
    "                    df[col] = df[col].astype(np.int16)\n",
    "                elif c_min > np.iinfo(np.int32).min and c_max < np.iinfo(np.int32).max:\n",
    "                    df[col] = df[col].astype(np.int32)\n",
    "                elif c_min > np.iinfo(np.int64).min and c_max < np.iinfo(np.int64).max:\n",
    "                    df[col] = df[col].astype(np.int64)  \n",
    "            else:\n",
    "                if c_min > np.finfo(np.float16).min and c_max < np.finfo(np.float16).max:\n",
    "                    df[col] = df[col].astype(np.float16)\n",
    "                elif c_min > np.finfo(np.float32).min and c_max < np.finfo(np.float32).max:\n",
    "                    df[col] = df[col].astype(np.float32)\n",
    "                else:\n",
    "                    df[col] = df[col].astype(np.float64)\n",
    "        else:\n",
    "            df[col] = df[col].astype('category')\n",
    "\n",
    "    end_mem = df.memory_usage().sum() / 1024**2\n",
    "    print('Memory usage after optimization is: {:.2f} MB'.format(end_mem))\n",
    "    print('Decreased by {:.1f}%'.format(100 * (start_mem - end_mem) / start_mem))\n",
    "    \n",
    "    return df\n",
    "\n",
    "def import_data(file):\n",
    "    \"\"\"create a dataframe and optimize its memory usage\"\"\"\n",
    "    df = pd.read_csv(file, parse_dates=True, keep_date_col=True)\n",
    "    df = reduce_mem_usage(df)\n",
    "    return df"
   ]
  },
  {
   "cell_type": "code",
   "execution_count": null,
   "metadata": {},
   "outputs": [
    {
     "name": "stdout",
     "output_type": "stream",
     "text": [
      "Memory usage of dataframe is 42.58 MB\n",
      "Memory usage after optimization is: 10.64 MB\n",
      "Decreased by 75.0%\n"
     ]
    }
   ],
   "source": [
    "df = import_data('diabetes_binary_health_indicators_BRFSS2015(1).csv')"
   ]
  },
  {
   "cell_type": "code",
   "execution_count": 4,
   "metadata": {},
   "outputs": [
    {
     "data": {
      "text/html": [
       "<div>\n",
       "<style scoped>\n",
       "    .dataframe tbody tr th:only-of-type {\n",
       "        vertical-align: middle;\n",
       "    }\n",
       "\n",
       "    .dataframe tbody tr th {\n",
       "        vertical-align: top;\n",
       "    }\n",
       "\n",
       "    .dataframe thead th {\n",
       "        text-align: right;\n",
       "    }\n",
       "</style>\n",
       "<table border=\"1\" class=\"dataframe\">\n",
       "  <thead>\n",
       "    <tr style=\"text-align: right;\">\n",
       "      <th></th>\n",
       "      <th>Diabetes_binary</th>\n",
       "      <th>HighBP</th>\n",
       "      <th>HighChol</th>\n",
       "      <th>CholCheck</th>\n",
       "      <th>BMI</th>\n",
       "      <th>Smoker</th>\n",
       "      <th>Stroke</th>\n",
       "      <th>HeartDiseaseorAttack</th>\n",
       "      <th>PhysActivity</th>\n",
       "      <th>Fruits</th>\n",
       "      <th>Veggies</th>\n",
       "      <th>HvyAlcoholConsump</th>\n",
       "      <th>AnyHealthcare</th>\n",
       "      <th>NoDocbcCost</th>\n",
       "      <th>GenHlth</th>\n",
       "      <th>MentHlth</th>\n",
       "      <th>PhysHlth</th>\n",
       "      <th>DiffWalk</th>\n",
       "      <th>Sex</th>\n",
       "      <th>Age</th>\n",
       "      <th>Education</th>\n",
       "      <th>Income</th>\n",
       "    </tr>\n",
       "  </thead>\n",
       "  <tbody>\n",
       "    <tr>\n",
       "      <th>0</th>\n",
       "      <td>0.0</td>\n",
       "      <td>1.0</td>\n",
       "      <td>1.0</td>\n",
       "      <td>1.0</td>\n",
       "      <td>40.0</td>\n",
       "      <td>1.0</td>\n",
       "      <td>0.0</td>\n",
       "      <td>0.0</td>\n",
       "      <td>0.0</td>\n",
       "      <td>0.0</td>\n",
       "      <td>1.0</td>\n",
       "      <td>0.0</td>\n",
       "      <td>1.0</td>\n",
       "      <td>0.0</td>\n",
       "      <td>5.0</td>\n",
       "      <td>18.0</td>\n",
       "      <td>15.0</td>\n",
       "      <td>1.0</td>\n",
       "      <td>0.0</td>\n",
       "      <td>9.0</td>\n",
       "      <td>4.0</td>\n",
       "      <td>3.0</td>\n",
       "    </tr>\n",
       "    <tr>\n",
       "      <th>1</th>\n",
       "      <td>0.0</td>\n",
       "      <td>0.0</td>\n",
       "      <td>0.0</td>\n",
       "      <td>0.0</td>\n",
       "      <td>25.0</td>\n",
       "      <td>1.0</td>\n",
       "      <td>0.0</td>\n",
       "      <td>0.0</td>\n",
       "      <td>1.0</td>\n",
       "      <td>0.0</td>\n",
       "      <td>0.0</td>\n",
       "      <td>0.0</td>\n",
       "      <td>0.0</td>\n",
       "      <td>1.0</td>\n",
       "      <td>3.0</td>\n",
       "      <td>0.0</td>\n",
       "      <td>0.0</td>\n",
       "      <td>0.0</td>\n",
       "      <td>0.0</td>\n",
       "      <td>7.0</td>\n",
       "      <td>6.0</td>\n",
       "      <td>1.0</td>\n",
       "    </tr>\n",
       "    <tr>\n",
       "      <th>2</th>\n",
       "      <td>0.0</td>\n",
       "      <td>1.0</td>\n",
       "      <td>1.0</td>\n",
       "      <td>1.0</td>\n",
       "      <td>28.0</td>\n",
       "      <td>0.0</td>\n",
       "      <td>0.0</td>\n",
       "      <td>0.0</td>\n",
       "      <td>0.0</td>\n",
       "      <td>1.0</td>\n",
       "      <td>0.0</td>\n",
       "      <td>0.0</td>\n",
       "      <td>1.0</td>\n",
       "      <td>1.0</td>\n",
       "      <td>5.0</td>\n",
       "      <td>30.0</td>\n",
       "      <td>30.0</td>\n",
       "      <td>1.0</td>\n",
       "      <td>0.0</td>\n",
       "      <td>9.0</td>\n",
       "      <td>4.0</td>\n",
       "      <td>8.0</td>\n",
       "    </tr>\n",
       "    <tr>\n",
       "      <th>3</th>\n",
       "      <td>0.0</td>\n",
       "      <td>1.0</td>\n",
       "      <td>0.0</td>\n",
       "      <td>1.0</td>\n",
       "      <td>27.0</td>\n",
       "      <td>0.0</td>\n",
       "      <td>0.0</td>\n",
       "      <td>0.0</td>\n",
       "      <td>1.0</td>\n",
       "      <td>1.0</td>\n",
       "      <td>1.0</td>\n",
       "      <td>0.0</td>\n",
       "      <td>1.0</td>\n",
       "      <td>0.0</td>\n",
       "      <td>2.0</td>\n",
       "      <td>0.0</td>\n",
       "      <td>0.0</td>\n",
       "      <td>0.0</td>\n",
       "      <td>0.0</td>\n",
       "      <td>11.0</td>\n",
       "      <td>3.0</td>\n",
       "      <td>6.0</td>\n",
       "    </tr>\n",
       "    <tr>\n",
       "      <th>4</th>\n",
       "      <td>0.0</td>\n",
       "      <td>1.0</td>\n",
       "      <td>1.0</td>\n",
       "      <td>1.0</td>\n",
       "      <td>24.0</td>\n",
       "      <td>0.0</td>\n",
       "      <td>0.0</td>\n",
       "      <td>0.0</td>\n",
       "      <td>1.0</td>\n",
       "      <td>1.0</td>\n",
       "      <td>1.0</td>\n",
       "      <td>0.0</td>\n",
       "      <td>1.0</td>\n",
       "      <td>0.0</td>\n",
       "      <td>2.0</td>\n",
       "      <td>3.0</td>\n",
       "      <td>0.0</td>\n",
       "      <td>0.0</td>\n",
       "      <td>0.0</td>\n",
       "      <td>11.0</td>\n",
       "      <td>5.0</td>\n",
       "      <td>4.0</td>\n",
       "    </tr>\n",
       "  </tbody>\n",
       "</table>\n",
       "</div>"
      ],
      "text/plain": [
       "   Diabetes_binary  HighBP  HighChol  CholCheck   BMI  Smoker  Stroke  \\\n",
       "0              0.0     1.0       1.0        1.0  40.0     1.0     0.0   \n",
       "1              0.0     0.0       0.0        0.0  25.0     1.0     0.0   \n",
       "2              0.0     1.0       1.0        1.0  28.0     0.0     0.0   \n",
       "3              0.0     1.0       0.0        1.0  27.0     0.0     0.0   \n",
       "4              0.0     1.0       1.0        1.0  24.0     0.0     0.0   \n",
       "\n",
       "   HeartDiseaseorAttack  PhysActivity  Fruits  Veggies  HvyAlcoholConsump  \\\n",
       "0                   0.0           0.0     0.0      1.0                0.0   \n",
       "1                   0.0           1.0     0.0      0.0                0.0   \n",
       "2                   0.0           0.0     1.0      0.0                0.0   \n",
       "3                   0.0           1.0     1.0      1.0                0.0   \n",
       "4                   0.0           1.0     1.0      1.0                0.0   \n",
       "\n",
       "   AnyHealthcare  NoDocbcCost  GenHlth  MentHlth  PhysHlth  DiffWalk  Sex  \\\n",
       "0            1.0          0.0      5.0      18.0      15.0       1.0  0.0   \n",
       "1            0.0          1.0      3.0       0.0       0.0       0.0  0.0   \n",
       "2            1.0          1.0      5.0      30.0      30.0       1.0  0.0   \n",
       "3            1.0          0.0      2.0       0.0       0.0       0.0  0.0   \n",
       "4            1.0          0.0      2.0       3.0       0.0       0.0  0.0   \n",
       "\n",
       "    Age  Education  Income  \n",
       "0   9.0        4.0     3.0  \n",
       "1   7.0        6.0     1.0  \n",
       "2   9.0        4.0     8.0  \n",
       "3  11.0        3.0     6.0  \n",
       "4  11.0        5.0     4.0  "
      ]
     },
     "execution_count": 4,
     "metadata": {},
     "output_type": "execute_result"
    }
   ],
   "source": [
    "pd.set_option('display.max_columns', None)\n",
    "df.head()"
   ]
  },
  {
   "attachments": {},
   "cell_type": "markdown",
   "metadata": {},
   "source": [
    "#### Variable Types\n",
    "\n",
    "LightGBM is able to handle categorical variables out-of-the-box and I will use this feature.\n",
    "\n",
    "However, in real life scenario, categorical features encoding might get better performance models."
   ]
  },
  {
   "cell_type": "code",
   "execution_count": 5,
   "metadata": {},
   "outputs": [
    {
     "name": "stdout",
     "output_type": "stream",
     "text": [
      "Response column: Diabetes_binary\n",
      "Categorical columns: ['HighBP', 'HighChol', 'CholCheck', 'Smoker', 'Stroke', 'HeartDiseaseorAttack', 'PhysActivity', 'Fruits', 'Veggies', 'HvyAlcoholConsump', 'AnyHealthcare', 'NoDocbcCost', 'DiffWalk', 'Sex', 'Income']\n",
      "Numerical columns: ['Education', 'Age', 'MentHlth', 'GenHlth', 'BMI', 'PhysHlth']\n",
      "Processing column: HighBP\n",
      "Processing column: HighChol\n",
      "Processing column: CholCheck\n",
      "Processing column: Smoker\n",
      "Processing column: Stroke\n",
      "Processing column: HeartDiseaseorAttack\n",
      "Processing column: PhysActivity\n",
      "Processing column: Fruits\n",
      "Processing column: Veggies\n",
      "Processing column: HvyAlcoholConsump\n",
      "Processing column: AnyHealthcare\n",
      "Processing column: NoDocbcCost\n",
      "Processing column: DiffWalk\n",
      "Processing column: Sex\n",
      "Processing column: Income\n"
     ]
    }
   ],
   "source": [
    "x_columns = list(df.columns)\n",
    "response_column = 'Diabetes_binary'\n",
    "x_columns.remove(response_column)\n",
    "\n",
    "categorical_columns = ['HighBP', 'HighChol', 'CholCheck', 'Smoker',\n",
    "       'Stroke', 'HeartDiseaseorAttack', 'PhysActivity', 'Fruits', 'Veggies',\n",
    "       'HvyAlcoholConsump', 'AnyHealthcare', 'NoDocbcCost',\n",
    "       'DiffWalk', 'Sex',\n",
    "       'Income']\n",
    "numerical_columns = list(set(x_columns)-set(categorical_columns))\n",
    "print(\"Response column:\", response_column)\n",
    "print(\"Categorical columns:\", categorical_columns)\n",
    "print(\"Numerical columns:\", numerical_columns)\n",
    "\n",
    "# This is only needed if you are planning to use Sklearn API\n",
    "for column in categorical_columns:\n",
    "    print(\"Processing column:\", column)\n",
    "    df[column] = df[column].astype('int64') # Convert float to integer then to categorical\n",
    "    df[column] = df[column].astype('category')"
   ]
  },
  {
   "cell_type": "code",
   "execution_count": 6,
   "metadata": {},
   "outputs": [
    {
     "name": "stdout",
     "output_type": "stream",
     "text": [
      "<class 'pandas.core.frame.DataFrame'>\n",
      "RangeIndex: 253680 entries, 0 to 253679\n",
      "Data columns (total 22 columns):\n",
      " #   Column                Non-Null Count   Dtype   \n",
      "---  ------                --------------   -----   \n",
      " 0   Diabetes_binary       253680 non-null  float16 \n",
      " 1   HighBP                253680 non-null  category\n",
      " 2   HighChol              253680 non-null  category\n",
      " 3   CholCheck             253680 non-null  category\n",
      " 4   BMI                   253680 non-null  float16 \n",
      " 5   Smoker                253680 non-null  category\n",
      " 6   Stroke                253680 non-null  category\n",
      " 7   HeartDiseaseorAttack  253680 non-null  category\n",
      " 8   PhysActivity          253680 non-null  category\n",
      " 9   Fruits                253680 non-null  category\n",
      " 10  Veggies               253680 non-null  category\n",
      " 11  HvyAlcoholConsump     253680 non-null  category\n",
      " 12  AnyHealthcare         253680 non-null  category\n",
      " 13  NoDocbcCost           253680 non-null  category\n",
      " 14  GenHlth               253680 non-null  float16 \n",
      " 15  MentHlth              253680 non-null  float16 \n",
      " 16  PhysHlth              253680 non-null  float16 \n",
      " 17  DiffWalk              253680 non-null  category\n",
      " 18  Sex                   253680 non-null  category\n",
      " 19  Age                   253680 non-null  float16 \n",
      " 20  Education             253680 non-null  float16 \n",
      " 21  Income                253680 non-null  category\n",
      "dtypes: category(15), float16(7)\n",
      "memory usage: 7.0 MB\n"
     ]
    }
   ],
   "source": [
    "df.info()"
   ]
  },
  {
   "cell_type": "code",
   "execution_count": 7,
   "metadata": {},
   "outputs": [],
   "source": [
    "from sklearn.model_selection import train_test_split\n",
    "X_train, X_test, y_train, y_test = train_test_split(df[x_columns], \n",
    "                                                    df[response_column], \n",
    "                                                    test_size=0.20, \n",
    "                                                    random_state=314, \n",
    "                                                    stratify=df[response_column])"
   ]
  },
  {
   "cell_type": "code",
   "execution_count": 8,
   "metadata": {},
   "outputs": [
    {
     "name": "stdout",
     "output_type": "stream",
     "text": [
      "Train dimensions: (202944, 21)\n",
      "Test dimensions: (50736, 21)\n"
     ]
    }
   ],
   "source": [
    "print(\"Train dimensions:\",X_train.shape)\n",
    "print(\"Test dimensions:\",X_test.shape)"
   ]
  },
  {
   "cell_type": "code",
   "execution_count": 9,
   "metadata": {},
   "outputs": [
    {
     "data": {
      "text/plain": [
       "Diabetes_binary\n",
       "0.0    218334\n",
       "1.0     35346\n",
       "Name: count, dtype: int64"
      ]
     },
     "execution_count": 9,
     "metadata": {},
     "output_type": "execute_result"
    }
   ],
   "source": [
    "df[response_column].value_counts()"
   ]
  },
  {
   "cell_type": "code",
   "execution_count": 10,
   "metadata": {},
   "outputs": [
    {
     "name": "stdout",
     "output_type": "stream",
     "text": [
      "<class 'pandas.core.frame.DataFrame'>\n",
      "Index: 202944 entries, 210000 to 68327\n",
      "Data columns (total 21 columns):\n",
      " #   Column                Non-Null Count   Dtype   \n",
      "---  ------                --------------   -----   \n",
      " 0   HighBP                202944 non-null  category\n",
      " 1   HighChol              202944 non-null  category\n",
      " 2   CholCheck             202944 non-null  category\n",
      " 3   BMI                   202944 non-null  float16 \n",
      " 4   Smoker                202944 non-null  category\n",
      " 5   Stroke                202944 non-null  category\n",
      " 6   HeartDiseaseorAttack  202944 non-null  category\n",
      " 7   PhysActivity          202944 non-null  category\n",
      " 8   Fruits                202944 non-null  category\n",
      " 9   Veggies               202944 non-null  category\n",
      " 10  HvyAlcoholConsump     202944 non-null  category\n",
      " 11  AnyHealthcare         202944 non-null  category\n",
      " 12  NoDocbcCost           202944 non-null  category\n",
      " 13  GenHlth               202944 non-null  float16 \n",
      " 14  MentHlth              202944 non-null  float16 \n",
      " 15  PhysHlth              202944 non-null  float16 \n",
      " 16  DiffWalk              202944 non-null  category\n",
      " 17  Sex                   202944 non-null  category\n",
      " 18  Age                   202944 non-null  float16 \n",
      " 19  Education             202944 non-null  float16 \n",
      " 20  Income                202944 non-null  category\n",
      "dtypes: category(15), float16(6)\n",
      "memory usage: 6.8 MB\n"
     ]
    }
   ],
   "source": [
    "X_train.info()"
   ]
  },
  {
   "attachments": {},
   "cell_type": "markdown",
   "metadata": {},
   "source": [
    "### Train LightGBM"
   ]
  },
  {
   "cell_type": "code",
   "execution_count": 11,
   "metadata": {},
   "outputs": [
    {
     "data": {
      "text/html": [
       "<div>\n",
       "<style scoped>\n",
       "    .dataframe tbody tr th:only-of-type {\n",
       "        vertical-align: middle;\n",
       "    }\n",
       "\n",
       "    .dataframe tbody tr th {\n",
       "        vertical-align: top;\n",
       "    }\n",
       "\n",
       "    .dataframe thead th {\n",
       "        text-align: right;\n",
       "    }\n",
       "</style>\n",
       "<table border=\"1\" class=\"dataframe\">\n",
       "  <thead>\n",
       "    <tr style=\"text-align: right;\">\n",
       "      <th></th>\n",
       "      <th>HighBP</th>\n",
       "      <th>HighChol</th>\n",
       "      <th>CholCheck</th>\n",
       "      <th>BMI</th>\n",
       "      <th>Smoker</th>\n",
       "      <th>Stroke</th>\n",
       "      <th>HeartDiseaseorAttack</th>\n",
       "      <th>PhysActivity</th>\n",
       "      <th>Fruits</th>\n",
       "      <th>Veggies</th>\n",
       "      <th>HvyAlcoholConsump</th>\n",
       "      <th>AnyHealthcare</th>\n",
       "      <th>NoDocbcCost</th>\n",
       "      <th>GenHlth</th>\n",
       "      <th>MentHlth</th>\n",
       "      <th>PhysHlth</th>\n",
       "      <th>DiffWalk</th>\n",
       "      <th>Sex</th>\n",
       "      <th>Age</th>\n",
       "      <th>Education</th>\n",
       "      <th>Income</th>\n",
       "    </tr>\n",
       "  </thead>\n",
       "  <tbody>\n",
       "    <tr>\n",
       "      <th>210000</th>\n",
       "      <td>1</td>\n",
       "      <td>1</td>\n",
       "      <td>1</td>\n",
       "      <td>24.0</td>\n",
       "      <td>1</td>\n",
       "      <td>0</td>\n",
       "      <td>0</td>\n",
       "      <td>1</td>\n",
       "      <td>0</td>\n",
       "      <td>0</td>\n",
       "      <td>0</td>\n",
       "      <td>1</td>\n",
       "      <td>0</td>\n",
       "      <td>4.0</td>\n",
       "      <td>0.0</td>\n",
       "      <td>5.0</td>\n",
       "      <td>1</td>\n",
       "      <td>0</td>\n",
       "      <td>12.0</td>\n",
       "      <td>5.0</td>\n",
       "      <td>6</td>\n",
       "    </tr>\n",
       "    <tr>\n",
       "      <th>27201</th>\n",
       "      <td>0</td>\n",
       "      <td>1</td>\n",
       "      <td>1</td>\n",
       "      <td>30.0</td>\n",
       "      <td>0</td>\n",
       "      <td>0</td>\n",
       "      <td>0</td>\n",
       "      <td>1</td>\n",
       "      <td>1</td>\n",
       "      <td>1</td>\n",
       "      <td>0</td>\n",
       "      <td>1</td>\n",
       "      <td>0</td>\n",
       "      <td>2.0</td>\n",
       "      <td>2.0</td>\n",
       "      <td>1.0</td>\n",
       "      <td>0</td>\n",
       "      <td>0</td>\n",
       "      <td>6.0</td>\n",
       "      <td>6.0</td>\n",
       "      <td>7</td>\n",
       "    </tr>\n",
       "    <tr>\n",
       "      <th>31381</th>\n",
       "      <td>1</td>\n",
       "      <td>0</td>\n",
       "      <td>1</td>\n",
       "      <td>33.0</td>\n",
       "      <td>0</td>\n",
       "      <td>0</td>\n",
       "      <td>0</td>\n",
       "      <td>1</td>\n",
       "      <td>0</td>\n",
       "      <td>0</td>\n",
       "      <td>0</td>\n",
       "      <td>1</td>\n",
       "      <td>1</td>\n",
       "      <td>4.0</td>\n",
       "      <td>0.0</td>\n",
       "      <td>0.0</td>\n",
       "      <td>0</td>\n",
       "      <td>0</td>\n",
       "      <td>8.0</td>\n",
       "      <td>5.0</td>\n",
       "      <td>7</td>\n",
       "    </tr>\n",
       "    <tr>\n",
       "      <th>25244</th>\n",
       "      <td>1</td>\n",
       "      <td>0</td>\n",
       "      <td>1</td>\n",
       "      <td>22.0</td>\n",
       "      <td>0</td>\n",
       "      <td>0</td>\n",
       "      <td>0</td>\n",
       "      <td>1</td>\n",
       "      <td>1</td>\n",
       "      <td>1</td>\n",
       "      <td>0</td>\n",
       "      <td>1</td>\n",
       "      <td>0</td>\n",
       "      <td>2.0</td>\n",
       "      <td>30.0</td>\n",
       "      <td>0.0</td>\n",
       "      <td>1</td>\n",
       "      <td>1</td>\n",
       "      <td>10.0</td>\n",
       "      <td>5.0</td>\n",
       "      <td>5</td>\n",
       "    </tr>\n",
       "    <tr>\n",
       "      <th>32644</th>\n",
       "      <td>0</td>\n",
       "      <td>1</td>\n",
       "      <td>1</td>\n",
       "      <td>32.0</td>\n",
       "      <td>1</td>\n",
       "      <td>1</td>\n",
       "      <td>0</td>\n",
       "      <td>1</td>\n",
       "      <td>1</td>\n",
       "      <td>1</td>\n",
       "      <td>0</td>\n",
       "      <td>1</td>\n",
       "      <td>0</td>\n",
       "      <td>3.0</td>\n",
       "      <td>0.0</td>\n",
       "      <td>20.0</td>\n",
       "      <td>0</td>\n",
       "      <td>1</td>\n",
       "      <td>9.0</td>\n",
       "      <td>6.0</td>\n",
       "      <td>7</td>\n",
       "    </tr>\n",
       "  </tbody>\n",
       "</table>\n",
       "</div>"
      ],
      "text/plain": [
       "       HighBP HighChol CholCheck   BMI Smoker Stroke HeartDiseaseorAttack  \\\n",
       "210000      1        1         1  24.0      1      0                    0   \n",
       "27201       0        1         1  30.0      0      0                    0   \n",
       "31381       1        0         1  33.0      0      0                    0   \n",
       "25244       1        0         1  22.0      0      0                    0   \n",
       "32644       0        1         1  32.0      1      1                    0   \n",
       "\n",
       "       PhysActivity Fruits Veggies HvyAlcoholConsump AnyHealthcare  \\\n",
       "210000            1      0       0                 0             1   \n",
       "27201             1      1       1                 0             1   \n",
       "31381             1      0       0                 0             1   \n",
       "25244             1      1       1                 0             1   \n",
       "32644             1      1       1                 0             1   \n",
       "\n",
       "       NoDocbcCost  GenHlth  MentHlth  PhysHlth DiffWalk Sex   Age  Education  \\\n",
       "210000           0      4.0       0.0       5.0        1   0  12.0        5.0   \n",
       "27201            0      2.0       2.0       1.0        0   0   6.0        6.0   \n",
       "31381            1      4.0       0.0       0.0        0   0   8.0        5.0   \n",
       "25244            0      2.0      30.0       0.0        1   1  10.0        5.0   \n",
       "32644            0      3.0       0.0      20.0        0   1   9.0        6.0   \n",
       "\n",
       "       Income  \n",
       "210000      6  \n",
       "27201       7  \n",
       "31381       7  \n",
       "25244       5  \n",
       "32644       7  "
      ]
     },
     "execution_count": 11,
     "metadata": {},
     "output_type": "execute_result"
    }
   ],
   "source": [
    "X_train.head()"
   ]
  },
  {
   "cell_type": "code",
   "execution_count": 12,
   "metadata": {},
   "outputs": [],
   "source": [
    "train_data = lgb.Dataset(data=X_train, label=y_train, params={\"verbose\":-1}, categorical_feature=categorical_columns)\n",
    "test_data = lgb.Dataset(data=X_test, label=y_test, params={\"verbose\":-1}, categorical_feature=categorical_columns)\n",
    "lgb_clf = lgb.train(params={\"verbose\":-1},\n",
    "                    train_set=train_data)"
   ]
  },
  {
   "cell_type": "code",
   "execution_count": 13,
   "metadata": {},
   "outputs": [
    {
     "name": "stdout",
     "output_type": "stream",
     "text": [
      "AUC score on Test dataset: 0.8291245162663716\n",
      "AUC score on Train dataset: 0.8391701749746283\n"
     ]
    }
   ],
   "source": [
    "from sklearn.metrics import roc_auc_score\n",
    "print(\"AUC score on Test dataset:\", roc_auc_score(y_test, lgb_clf.predict(X_test)))\n",
    "print(\"AUC score on Train dataset:\", roc_auc_score(y_train, lgb_clf.predict(X_train)))"
   ]
  },
  {
   "attachments": {},
   "cell_type": "markdown",
   "metadata": {},
   "source": [
    "#### Hyper-Parameters Optimization\n",
    "\n",
    "First try produce pretty close AUC metric for both train and test dataset. I will look for ways to improve it."
   ]
  },
  {
   "cell_type": "code",
   "execution_count": 14,
   "metadata": {},
   "outputs": [],
   "source": [
    "from optuna.integration import LightGBMPruningCallback\n",
    "import tqdm as notebook_tqdm\n",
    "from sklearn.model_selection import StratifiedKFold\n",
    "from sklearn.metrics import roc_auc_score\n",
    "import optuna\n",
    "import warnings\n",
    "\n",
    "warnings.filterwarnings(\"ignore\", category=UserWarning)\n",
    "study_model_iteractions = {}\n",
    "\n",
    "def objective(trial, X, y):\n",
    "    param_grid = {\n",
    "        \"num_iterations\": 10000,\n",
    "        \"learning_rate\": trial.suggest_float(\"learning_rate\", 0.01, 0.3, step=0.05),\n",
    "        \"num_leaves\": trial.suggest_int(\"num_leaves\", 50, 150, step=5),\n",
    "        \"max_depth\": trial.suggest_int(\"max_depth\", 5, 20, step=2),\n",
    "        \"min_data_in_leaf\": trial.suggest_int(\"min_data_in_leaf\", 100, 1000, step=100),\n",
    "        ##############################\n",
    "        'lambda_l1': trial.suggest_float('lambda_l1', 1e-8, 10.0, log=True),\n",
    "        'lambda_l2': trial.suggest_float('lambda_l2', 1e-8, 10.0, log=True),\n",
    "        #\"lambda_l1\": trial.suggest_float(\"lambda_l1\", 0.01, 0.1, step=0.01),\n",
    "        #\"lambda_l2\": trial.suggest_float(\"lambda_l2\", 0.01, 0.1, step=0.01),\n",
    "        ########################\n",
    "        \"bagging_fraction\": trial.suggest_float(\"bagging_fraction\", 0.8, 1.0, step=0.1),\n",
    "        \"bagging_freq\": trial.suggest_categorical(\"bagging_freq\", [5]),\n",
    "        \"feature_fraction\": trial.suggest_float(\"feature_fraction\", 0.8, 1.0, step=0.1),\n",
    "        #######################\n",
    "        \"is_unbalance\": trial.suggest_categorical(\"is_unbalance\",[True, False]),\n",
    "        ########################\n",
    "        \"verbose\": -1,\n",
    "        \"objective\":\"binary\",\n",
    "        \"metric\":\"auc\"\n",
    "    }\n",
    "\n",
    "    cv = StratifiedKFold(n_splits=5, shuffle=True, random_state=1121218)\n",
    "\n",
    "    cv_scores = np.empty(5)\n",
    "    cv_iteractions = np.empty(5)\n",
    "    for idx, (train_idx, test_idx) in enumerate(cv.split(X, y)):\n",
    "        X_train, X_valid = X.iloc[train_idx], X.iloc[test_idx]\n",
    "        y_train, y_valid = y.iloc[train_idx], y.iloc[test_idx]\n",
    "\n",
    "        train_data = lgb.Dataset(data=X_train, label=y_train, params={\"verbose\":-1}, categorical_feature=categorical_columns)\n",
    "        valid_data = lgb.Dataset(data=X_valid, label=y_valid, params={\"verbose\":-1}, categorical_feature=categorical_columns)\n",
    "        lgb_clf = lgb.train(params=param_grid,\n",
    "                            train_set=train_data,\n",
    "                            valid_sets=[valid_data],\n",
    "                            categorical_feature=categorical_columns,\n",
    "                            callbacks=[LightGBMPruningCallback(trial, \"auc\"),\n",
    "                                        lgb.early_stopping(stopping_rounds=5)]  \n",
    "                            )\n",
    "        preds = lgb_clf.predict(X_valid)\n",
    "        cv_scores[idx] = roc_auc_score(y_valid, preds)\n",
    "        cv_iteractions[idx] = lgb_clf.best_iteration\n",
    "    \n",
    "    study_model_iteractions[trial.number] = np.mean(cv_iteractions)\n",
    "\n",
    "    return np.mean(cv_scores)"
   ]
  },
  {
   "cell_type": "code",
   "execution_count": 15,
   "metadata": {},
   "outputs": [
    {
     "name": "stderr",
     "output_type": "stream",
     "text": [
      "[I 2024-12-09 17:28:18,633] A new study created in memory with name: LGBM Classifier\n",
      "/Users/thienla/ba_venv/lib/python3.11/site-packages/lightgbm/engine.py:186: LGBMDeprecationWarning: Argument 'categorical_feature' to train() is deprecated and will be removed in a future release. Set 'categorical_feature' when calling lightgbm.Dataset() instead. See https://github.com/microsoft/LightGBM/issues/6435.\n",
      "  _emit_dataset_kwarg_warning(\"train\", \"categorical_feature\")\n"
     ]
    },
    {
     "name": "stdout",
     "output_type": "stream",
     "text": [
      "Training until validation scores don't improve for 5 rounds\n",
      "Early stopping, best iteration is:\n",
      "[45]\tvalid_0's auc: 0.83364\n",
      "Training until validation scores don't improve for 5 rounds\n"
     ]
    },
    {
     "name": "stderr",
     "output_type": "stream",
     "text": [
      "/Users/thienla/ba_venv/lib/python3.11/site-packages/lightgbm/engine.py:186: LGBMDeprecationWarning: Argument 'categorical_feature' to train() is deprecated and will be removed in a future release. Set 'categorical_feature' when calling lightgbm.Dataset() instead. See https://github.com/microsoft/LightGBM/issues/6435.\n",
      "  _emit_dataset_kwarg_warning(\"train\", \"categorical_feature\")\n"
     ]
    },
    {
     "name": "stdout",
     "output_type": "stream",
     "text": [
      "Early stopping, best iteration is:\n",
      "[51]\tvalid_0's auc: 0.825236\n",
      "Training until validation scores don't improve for 5 rounds\n"
     ]
    },
    {
     "name": "stderr",
     "output_type": "stream",
     "text": [
      "/Users/thienla/ba_venv/lib/python3.11/site-packages/lightgbm/engine.py:186: LGBMDeprecationWarning: Argument 'categorical_feature' to train() is deprecated and will be removed in a future release. Set 'categorical_feature' when calling lightgbm.Dataset() instead. See https://github.com/microsoft/LightGBM/issues/6435.\n",
      "  _emit_dataset_kwarg_warning(\"train\", \"categorical_feature\")\n"
     ]
    },
    {
     "name": "stdout",
     "output_type": "stream",
     "text": [
      "Early stopping, best iteration is:\n",
      "[49]\tvalid_0's auc: 0.830115\n",
      "Training until validation scores don't improve for 5 rounds\n"
     ]
    },
    {
     "name": "stderr",
     "output_type": "stream",
     "text": [
      "/Users/thienla/ba_venv/lib/python3.11/site-packages/lightgbm/engine.py:186: LGBMDeprecationWarning: Argument 'categorical_feature' to train() is deprecated and will be removed in a future release. Set 'categorical_feature' when calling lightgbm.Dataset() instead. See https://github.com/microsoft/LightGBM/issues/6435.\n",
      "  _emit_dataset_kwarg_warning(\"train\", \"categorical_feature\")\n"
     ]
    },
    {
     "name": "stdout",
     "output_type": "stream",
     "text": [
      "Early stopping, best iteration is:\n",
      "[44]\tvalid_0's auc: 0.830377\n",
      "Training until validation scores don't improve for 5 rounds\n"
     ]
    },
    {
     "name": "stderr",
     "output_type": "stream",
     "text": [
      "/Users/thienla/ba_venv/lib/python3.11/site-packages/lightgbm/engine.py:186: LGBMDeprecationWarning: Argument 'categorical_feature' to train() is deprecated and will be removed in a future release. Set 'categorical_feature' when calling lightgbm.Dataset() instead. See https://github.com/microsoft/LightGBM/issues/6435.\n",
      "  _emit_dataset_kwarg_warning(\"train\", \"categorical_feature\")\n",
      "[I 2024-12-09 17:28:21,690] Trial 0 finished with value: 0.8299180999828092 and parameters: {'learning_rate': 0.11, 'num_leaves': 60, 'max_depth': 9, 'min_data_in_leaf': 1000, 'lambda_l1': 2.7746339916922e-05, 'lambda_l2': 0.00020954551165614708, 'bagging_fraction': 1.0, 'bagging_freq': 5, 'feature_fraction': 1.0, 'is_unbalance': True}. Best is trial 0 with value: 0.8299180999828092.\n"
     ]
    },
    {
     "name": "stdout",
     "output_type": "stream",
     "text": [
      "Early stopping, best iteration is:\n",
      "[49]\tvalid_0's auc: 0.830223\n",
      "Training until validation scores don't improve for 5 rounds\n"
     ]
    },
    {
     "name": "stderr",
     "output_type": "stream",
     "text": [
      "/Users/thienla/ba_venv/lib/python3.11/site-packages/lightgbm/engine.py:186: LGBMDeprecationWarning: Argument 'categorical_feature' to train() is deprecated and will be removed in a future release. Set 'categorical_feature' when calling lightgbm.Dataset() instead. See https://github.com/microsoft/LightGBM/issues/6435.\n",
      "  _emit_dataset_kwarg_warning(\"train\", \"categorical_feature\")\n"
     ]
    },
    {
     "name": "stdout",
     "output_type": "stream",
     "text": [
      "Early stopping, best iteration is:\n",
      "[39]\tvalid_0's auc: 0.833029\n",
      "Training until validation scores don't improve for 5 rounds\n"
     ]
    },
    {
     "name": "stderr",
     "output_type": "stream",
     "text": [
      "/Users/thienla/ba_venv/lib/python3.11/site-packages/lightgbm/engine.py:186: LGBMDeprecationWarning: Argument 'categorical_feature' to train() is deprecated and will be removed in a future release. Set 'categorical_feature' when calling lightgbm.Dataset() instead. See https://github.com/microsoft/LightGBM/issues/6435.\n",
      "  _emit_dataset_kwarg_warning(\"train\", \"categorical_feature\")\n"
     ]
    },
    {
     "name": "stdout",
     "output_type": "stream",
     "text": [
      "Early stopping, best iteration is:\n",
      "[46]\tvalid_0's auc: 0.825026\n",
      "Training until validation scores don't improve for 5 rounds\n"
     ]
    },
    {
     "name": "stderr",
     "output_type": "stream",
     "text": [
      "/Users/thienla/ba_venv/lib/python3.11/site-packages/lightgbm/engine.py:186: LGBMDeprecationWarning: Argument 'categorical_feature' to train() is deprecated and will be removed in a future release. Set 'categorical_feature' when calling lightgbm.Dataset() instead. See https://github.com/microsoft/LightGBM/issues/6435.\n",
      "  _emit_dataset_kwarg_warning(\"train\", \"categorical_feature\")\n"
     ]
    },
    {
     "name": "stdout",
     "output_type": "stream",
     "text": [
      "Early stopping, best iteration is:\n",
      "[38]\tvalid_0's auc: 0.82998\n",
      "Training until validation scores don't improve for 5 rounds\n"
     ]
    },
    {
     "name": "stderr",
     "output_type": "stream",
     "text": [
      "/Users/thienla/ba_venv/lib/python3.11/site-packages/lightgbm/engine.py:186: LGBMDeprecationWarning: Argument 'categorical_feature' to train() is deprecated and will be removed in a future release. Set 'categorical_feature' when calling lightgbm.Dataset() instead. See https://github.com/microsoft/LightGBM/issues/6435.\n",
      "  _emit_dataset_kwarg_warning(\"train\", \"categorical_feature\")\n"
     ]
    },
    {
     "name": "stdout",
     "output_type": "stream",
     "text": [
      "Early stopping, best iteration is:\n",
      "[42]\tvalid_0's auc: 0.830432\n",
      "Training until validation scores don't improve for 5 rounds\n"
     ]
    },
    {
     "name": "stderr",
     "output_type": "stream",
     "text": [
      "/Users/thienla/ba_venv/lib/python3.11/site-packages/lightgbm/engine.py:186: LGBMDeprecationWarning: Argument 'categorical_feature' to train() is deprecated and will be removed in a future release. Set 'categorical_feature' when calling lightgbm.Dataset() instead. See https://github.com/microsoft/LightGBM/issues/6435.\n",
      "  _emit_dataset_kwarg_warning(\"train\", \"categorical_feature\")\n",
      "[I 2024-12-09 17:28:27,030] Trial 1 finished with value: 0.8297834442576921 and parameters: {'learning_rate': 0.11, 'num_leaves': 125, 'max_depth': 15, 'min_data_in_leaf': 1000, 'lambda_l1': 1.8499936338264708e-08, 'lambda_l2': 0.0018418522022393801, 'bagging_fraction': 0.8, 'bagging_freq': 5, 'feature_fraction': 0.8, 'is_unbalance': True}. Best is trial 0 with value: 0.8299180999828092.\n"
     ]
    },
    {
     "name": "stdout",
     "output_type": "stream",
     "text": [
      "Early stopping, best iteration is:\n",
      "[46]\tvalid_0's auc: 0.830451\n",
      "Training until validation scores don't improve for 5 rounds\n"
     ]
    },
    {
     "name": "stderr",
     "output_type": "stream",
     "text": [
      "/Users/thienla/ba_venv/lib/python3.11/site-packages/lightgbm/engine.py:186: LGBMDeprecationWarning: Argument 'categorical_feature' to train() is deprecated and will be removed in a future release. Set 'categorical_feature' when calling lightgbm.Dataset() instead. See https://github.com/microsoft/LightGBM/issues/6435.\n",
      "  _emit_dataset_kwarg_warning(\"train\", \"categorical_feature\")\n"
     ]
    },
    {
     "name": "stdout",
     "output_type": "stream",
     "text": [
      "Early stopping, best iteration is:\n",
      "[536]\tvalid_0's auc: 0.832977\n"
     ]
    },
    {
     "name": "stderr",
     "output_type": "stream",
     "text": [
      "/Users/thienla/ba_venv/lib/python3.11/site-packages/lightgbm/engine.py:186: LGBMDeprecationWarning: Argument 'categorical_feature' to train() is deprecated and will be removed in a future release. Set 'categorical_feature' when calling lightgbm.Dataset() instead. See https://github.com/microsoft/LightGBM/issues/6435.\n",
      "  _emit_dataset_kwarg_warning(\"train\", \"categorical_feature\")\n"
     ]
    },
    {
     "name": "stdout",
     "output_type": "stream",
     "text": [
      "Training until validation scores don't improve for 5 rounds\n",
      "Early stopping, best iteration is:\n",
      "[545]\tvalid_0's auc: 0.824909\n"
     ]
    },
    {
     "name": "stderr",
     "output_type": "stream",
     "text": [
      "/Users/thienla/ba_venv/lib/python3.11/site-packages/lightgbm/engine.py:186: LGBMDeprecationWarning: Argument 'categorical_feature' to train() is deprecated and will be removed in a future release. Set 'categorical_feature' when calling lightgbm.Dataset() instead. See https://github.com/microsoft/LightGBM/issues/6435.\n",
      "  _emit_dataset_kwarg_warning(\"train\", \"categorical_feature\")\n"
     ]
    },
    {
     "name": "stdout",
     "output_type": "stream",
     "text": [
      "Training until validation scores don't improve for 5 rounds\n",
      "Early stopping, best iteration is:\n",
      "[423]\tvalid_0's auc: 0.830017\n"
     ]
    },
    {
     "name": "stderr",
     "output_type": "stream",
     "text": [
      "/Users/thienla/ba_venv/lib/python3.11/site-packages/lightgbm/engine.py:186: LGBMDeprecationWarning: Argument 'categorical_feature' to train() is deprecated and will be removed in a future release. Set 'categorical_feature' when calling lightgbm.Dataset() instead. See https://github.com/microsoft/LightGBM/issues/6435.\n",
      "  _emit_dataset_kwarg_warning(\"train\", \"categorical_feature\")\n"
     ]
    },
    {
     "name": "stdout",
     "output_type": "stream",
     "text": [
      "Training until validation scores don't improve for 5 rounds\n",
      "Early stopping, best iteration is:\n",
      "[467]\tvalid_0's auc: 0.830197\n"
     ]
    },
    {
     "name": "stderr",
     "output_type": "stream",
     "text": [
      "/Users/thienla/ba_venv/lib/python3.11/site-packages/lightgbm/engine.py:186: LGBMDeprecationWarning: Argument 'categorical_feature' to train() is deprecated and will be removed in a future release. Set 'categorical_feature' when calling lightgbm.Dataset() instead. See https://github.com/microsoft/LightGBM/issues/6435.\n",
      "  _emit_dataset_kwarg_warning(\"train\", \"categorical_feature\")\n"
     ]
    },
    {
     "name": "stdout",
     "output_type": "stream",
     "text": [
      "Training until validation scores don't improve for 5 rounds\n",
      "Early stopping, best iteration is:\n",
      "[623]\tvalid_0's auc: 0.830595\n"
     ]
    },
    {
     "name": "stderr",
     "output_type": "stream",
     "text": [
      "[I 2024-12-09 17:28:50,269] Trial 2 finished with value: 0.8297391152389446 and parameters: {'learning_rate': 0.01, 'num_leaves': 135, 'max_depth': 9, 'min_data_in_leaf': 700, 'lambda_l1': 1.579123217569578e-05, 'lambda_l2': 5.3650334350163566e-05, 'bagging_fraction': 1.0, 'bagging_freq': 5, 'feature_fraction': 1.0, 'is_unbalance': False}. Best is trial 0 with value: 0.8299180999828092.\n",
      "/Users/thienla/ba_venv/lib/python3.11/site-packages/lightgbm/engine.py:186: LGBMDeprecationWarning: Argument 'categorical_feature' to train() is deprecated and will be removed in a future release. Set 'categorical_feature' when calling lightgbm.Dataset() instead. See https://github.com/microsoft/LightGBM/issues/6435.\n",
      "  _emit_dataset_kwarg_warning(\"train\", \"categorical_feature\")\n"
     ]
    },
    {
     "name": "stdout",
     "output_type": "stream",
     "text": [
      "Training until validation scores don't improve for 5 rounds\n",
      "Early stopping, best iteration is:\n",
      "[40]\tvalid_0's auc: 0.832857\n",
      "Training until validation scores don't improve for 5 rounds\n"
     ]
    },
    {
     "name": "stderr",
     "output_type": "stream",
     "text": [
      "/Users/thienla/ba_venv/lib/python3.11/site-packages/lightgbm/engine.py:186: LGBMDeprecationWarning: Argument 'categorical_feature' to train() is deprecated and will be removed in a future release. Set 'categorical_feature' when calling lightgbm.Dataset() instead. See https://github.com/microsoft/LightGBM/issues/6435.\n",
      "  _emit_dataset_kwarg_warning(\"train\", \"categorical_feature\")\n"
     ]
    },
    {
     "name": "stdout",
     "output_type": "stream",
     "text": [
      "Early stopping, best iteration is:\n",
      "[42]\tvalid_0's auc: 0.82492\n",
      "Training until validation scores don't improve for 5 rounds\n"
     ]
    },
    {
     "name": "stderr",
     "output_type": "stream",
     "text": [
      "/Users/thienla/ba_venv/lib/python3.11/site-packages/lightgbm/engine.py:186: LGBMDeprecationWarning: Argument 'categorical_feature' to train() is deprecated and will be removed in a future release. Set 'categorical_feature' when calling lightgbm.Dataset() instead. See https://github.com/microsoft/LightGBM/issues/6435.\n",
      "  _emit_dataset_kwarg_warning(\"train\", \"categorical_feature\")\n"
     ]
    },
    {
     "name": "stdout",
     "output_type": "stream",
     "text": [
      "Early stopping, best iteration is:\n",
      "[33]\tvalid_0's auc: 0.829399\n",
      "Training until validation scores don't improve for 5 rounds\n"
     ]
    },
    {
     "name": "stderr",
     "output_type": "stream",
     "text": [
      "/Users/thienla/ba_venv/lib/python3.11/site-packages/lightgbm/engine.py:186: LGBMDeprecationWarning: Argument 'categorical_feature' to train() is deprecated and will be removed in a future release. Set 'categorical_feature' when calling lightgbm.Dataset() instead. See https://github.com/microsoft/LightGBM/issues/6435.\n",
      "  _emit_dataset_kwarg_warning(\"train\", \"categorical_feature\")\n"
     ]
    },
    {
     "name": "stdout",
     "output_type": "stream",
     "text": [
      "Early stopping, best iteration is:\n",
      "[36]\tvalid_0's auc: 0.830499\n",
      "Training until validation scores don't improve for 5 rounds\n"
     ]
    },
    {
     "name": "stderr",
     "output_type": "stream",
     "text": [
      "/Users/thienla/ba_venv/lib/python3.11/site-packages/lightgbm/engine.py:186: LGBMDeprecationWarning: Argument 'categorical_feature' to train() is deprecated and will be removed in a future release. Set 'categorical_feature' when calling lightgbm.Dataset() instead. See https://github.com/microsoft/LightGBM/issues/6435.\n",
      "  _emit_dataset_kwarg_warning(\"train\", \"categorical_feature\")\n",
      "[I 2024-12-09 17:28:53,004] Trial 3 finished with value: 0.8297010286061879 and parameters: {'learning_rate': 0.11, 'num_leaves': 80, 'max_depth': 9, 'min_data_in_leaf': 100, 'lambda_l1': 6.5295516768436784e-06, 'lambda_l2': 0.5226566403818748, 'bagging_fraction': 1.0, 'bagging_freq': 5, 'feature_fraction': 0.8, 'is_unbalance': True}. Best is trial 0 with value: 0.8299180999828092.\n"
     ]
    },
    {
     "name": "stdout",
     "output_type": "stream",
     "text": [
      "Early stopping, best iteration is:\n",
      "[47]\tvalid_0's auc: 0.830831\n",
      "Training until validation scores don't improve for 5 rounds\n"
     ]
    },
    {
     "name": "stderr",
     "output_type": "stream",
     "text": [
      "/Users/thienla/ba_venv/lib/python3.11/site-packages/lightgbm/engine.py:186: LGBMDeprecationWarning: Argument 'categorical_feature' to train() is deprecated and will be removed in a future release. Set 'categorical_feature' when calling lightgbm.Dataset() instead. See https://github.com/microsoft/LightGBM/issues/6435.\n",
      "  _emit_dataset_kwarg_warning(\"train\", \"categorical_feature\")\n"
     ]
    },
    {
     "name": "stdout",
     "output_type": "stream",
     "text": [
      "Early stopping, best iteration is:\n",
      "[620]\tvalid_0's auc: 0.833315\n"
     ]
    },
    {
     "name": "stderr",
     "output_type": "stream",
     "text": [
      "/Users/thienla/ba_venv/lib/python3.11/site-packages/lightgbm/engine.py:186: LGBMDeprecationWarning: Argument 'categorical_feature' to train() is deprecated and will be removed in a future release. Set 'categorical_feature' when calling lightgbm.Dataset() instead. See https://github.com/microsoft/LightGBM/issues/6435.\n",
      "  _emit_dataset_kwarg_warning(\"train\", \"categorical_feature\")\n"
     ]
    },
    {
     "name": "stdout",
     "output_type": "stream",
     "text": [
      "Training until validation scores don't improve for 5 rounds\n",
      "Early stopping, best iteration is:\n",
      "[389]\tvalid_0's auc: 0.824717\n"
     ]
    },
    {
     "name": "stderr",
     "output_type": "stream",
     "text": [
      "/Users/thienla/ba_venv/lib/python3.11/site-packages/lightgbm/engine.py:186: LGBMDeprecationWarning: Argument 'categorical_feature' to train() is deprecated and will be removed in a future release. Set 'categorical_feature' when calling lightgbm.Dataset() instead. See https://github.com/microsoft/LightGBM/issues/6435.\n",
      "  _emit_dataset_kwarg_warning(\"train\", \"categorical_feature\")\n"
     ]
    },
    {
     "name": "stdout",
     "output_type": "stream",
     "text": [
      "Training until validation scores don't improve for 5 rounds\n",
      "Early stopping, best iteration is:\n",
      "[425]\tvalid_0's auc: 0.829779\n"
     ]
    },
    {
     "name": "stderr",
     "output_type": "stream",
     "text": [
      "/Users/thienla/ba_venv/lib/python3.11/site-packages/lightgbm/engine.py:186: LGBMDeprecationWarning: Argument 'categorical_feature' to train() is deprecated and will be removed in a future release. Set 'categorical_feature' when calling lightgbm.Dataset() instead. See https://github.com/microsoft/LightGBM/issues/6435.\n",
      "  _emit_dataset_kwarg_warning(\"train\", \"categorical_feature\")\n"
     ]
    },
    {
     "name": "stdout",
     "output_type": "stream",
     "text": [
      "Training until validation scores don't improve for 5 rounds\n",
      "Early stopping, best iteration is:\n",
      "[360]\tvalid_0's auc: 0.829796\n"
     ]
    },
    {
     "name": "stderr",
     "output_type": "stream",
     "text": [
      "/Users/thienla/ba_venv/lib/python3.11/site-packages/lightgbm/engine.py:186: LGBMDeprecationWarning: Argument 'categorical_feature' to train() is deprecated and will be removed in a future release. Set 'categorical_feature' when calling lightgbm.Dataset() instead. See https://github.com/microsoft/LightGBM/issues/6435.\n",
      "  _emit_dataset_kwarg_warning(\"train\", \"categorical_feature\")\n"
     ]
    },
    {
     "name": "stdout",
     "output_type": "stream",
     "text": [
      "Training until validation scores don't improve for 5 rounds\n",
      "Early stopping, best iteration is:\n",
      "[472]\tvalid_0's auc: 0.829862\n"
     ]
    },
    {
     "name": "stderr",
     "output_type": "stream",
     "text": [
      "[I 2024-12-09 17:29:21,265] Trial 4 finished with value: 0.8294937806161975 and parameters: {'learning_rate': 0.01, 'num_leaves': 100, 'max_depth': 11, 'min_data_in_leaf': 100, 'lambda_l1': 9.251733515129592, 'lambda_l2': 0.17283364094528558, 'bagging_fraction': 0.9, 'bagging_freq': 5, 'feature_fraction': 1.0, 'is_unbalance': False}. Best is trial 0 with value: 0.8299180999828092.\n",
      "/Users/thienla/ba_venv/lib/python3.11/site-packages/lightgbm/engine.py:186: LGBMDeprecationWarning: Argument 'categorical_feature' to train() is deprecated and will be removed in a future release. Set 'categorical_feature' when calling lightgbm.Dataset() instead. See https://github.com/microsoft/LightGBM/issues/6435.\n",
      "  _emit_dataset_kwarg_warning(\"train\", \"categorical_feature\")\n",
      "[I 2024-12-09 17:29:21,397] Trial 5 pruned. Trial was pruned at iteration 0.\n",
      "/Users/thienla/ba_venv/lib/python3.11/site-packages/lightgbm/engine.py:186: LGBMDeprecationWarning: Argument 'categorical_feature' to train() is deprecated and will be removed in a future release. Set 'categorical_feature' when calling lightgbm.Dataset() instead. See https://github.com/microsoft/LightGBM/issues/6435.\n",
      "  _emit_dataset_kwarg_warning(\"train\", \"categorical_feature\")\n",
      "[I 2024-12-09 17:29:21,527] Trial 6 pruned. Trial was pruned at iteration 0.\n",
      "/Users/thienla/ba_venv/lib/python3.11/site-packages/lightgbm/engine.py:186: LGBMDeprecationWarning: Argument 'categorical_feature' to train() is deprecated and will be removed in a future release. Set 'categorical_feature' when calling lightgbm.Dataset() instead. See https://github.com/microsoft/LightGBM/issues/6435.\n",
      "  _emit_dataset_kwarg_warning(\"train\", \"categorical_feature\")\n",
      "[I 2024-12-09 17:29:21,646] Trial 7 pruned. Trial was pruned at iteration 0.\n",
      "/Users/thienla/ba_venv/lib/python3.11/site-packages/lightgbm/engine.py:186: LGBMDeprecationWarning: Argument 'categorical_feature' to train() is deprecated and will be removed in a future release. Set 'categorical_feature' when calling lightgbm.Dataset() instead. See https://github.com/microsoft/LightGBM/issues/6435.\n",
      "  _emit_dataset_kwarg_warning(\"train\", \"categorical_feature\")\n",
      "[I 2024-12-09 17:29:21,806] Trial 8 pruned. Trial was pruned at iteration 1.\n",
      "/Users/thienla/ba_venv/lib/python3.11/site-packages/lightgbm/engine.py:186: LGBMDeprecationWarning: Argument 'categorical_feature' to train() is deprecated and will be removed in a future release. Set 'categorical_feature' when calling lightgbm.Dataset() instead. See https://github.com/microsoft/LightGBM/issues/6435.\n",
      "  _emit_dataset_kwarg_warning(\"train\", \"categorical_feature\")\n"
     ]
    },
    {
     "name": "stdout",
     "output_type": "stream",
     "text": [
      "Training until validation scores don't improve for 5 rounds\n",
      "Training until validation scores don't improve for 5 rounds\n",
      "Early stopping, best iteration is:\n",
      "[18]\tvalid_0's auc: 0.831803\n",
      "Training until validation scores don't improve for 5 rounds\n"
     ]
    },
    {
     "name": "stderr",
     "output_type": "stream",
     "text": [
      "/Users/thienla/ba_venv/lib/python3.11/site-packages/lightgbm/engine.py:186: LGBMDeprecationWarning: Argument 'categorical_feature' to train() is deprecated and will be removed in a future release. Set 'categorical_feature' when calling lightgbm.Dataset() instead. See https://github.com/microsoft/LightGBM/issues/6435.\n",
      "  _emit_dataset_kwarg_warning(\"train\", \"categorical_feature\")\n",
      "[I 2024-12-09 17:29:22,429] Trial 9 pruned. Trial was pruned at iteration 24.\n",
      "/Users/thienla/ba_venv/lib/python3.11/site-packages/lightgbm/engine.py:186: LGBMDeprecationWarning: Argument 'categorical_feature' to train() is deprecated and will be removed in a future release. Set 'categorical_feature' when calling lightgbm.Dataset() instead. See https://github.com/microsoft/LightGBM/issues/6435.\n",
      "  _emit_dataset_kwarg_warning(\"train\", \"categorical_feature\")\n",
      "[I 2024-12-09 17:29:22,552] Trial 10 pruned. Trial was pruned at iteration 0.\n",
      "/Users/thienla/ba_venv/lib/python3.11/site-packages/lightgbm/engine.py:186: LGBMDeprecationWarning: Argument 'categorical_feature' to train() is deprecated and will be removed in a future release. Set 'categorical_feature' when calling lightgbm.Dataset() instead. See https://github.com/microsoft/LightGBM/issues/6435.\n",
      "  _emit_dataset_kwarg_warning(\"train\", \"categorical_feature\")\n",
      "[I 2024-12-09 17:29:22,680] Trial 11 pruned. Trial was pruned at iteration 0.\n",
      "/Users/thienla/ba_venv/lib/python3.11/site-packages/lightgbm/engine.py:186: LGBMDeprecationWarning: Argument 'categorical_feature' to train() is deprecated and will be removed in a future release. Set 'categorical_feature' when calling lightgbm.Dataset() instead. See https://github.com/microsoft/LightGBM/issues/6435.\n",
      "  _emit_dataset_kwarg_warning(\"train\", \"categorical_feature\")\n",
      "[I 2024-12-09 17:29:22,803] Trial 12 pruned. Trial was pruned at iteration 0.\n",
      "/Users/thienla/ba_venv/lib/python3.11/site-packages/lightgbm/engine.py:186: LGBMDeprecationWarning: Argument 'categorical_feature' to train() is deprecated and will be removed in a future release. Set 'categorical_feature' when calling lightgbm.Dataset() instead. See https://github.com/microsoft/LightGBM/issues/6435.\n",
      "  _emit_dataset_kwarg_warning(\"train\", \"categorical_feature\")\n",
      "[I 2024-12-09 17:29:22,927] Trial 13 pruned. Trial was pruned at iteration 0.\n",
      "/Users/thienla/ba_venv/lib/python3.11/site-packages/lightgbm/engine.py:186: LGBMDeprecationWarning: Argument 'categorical_feature' to train() is deprecated and will be removed in a future release. Set 'categorical_feature' when calling lightgbm.Dataset() instead. See https://github.com/microsoft/LightGBM/issues/6435.\n",
      "  _emit_dataset_kwarg_warning(\"train\", \"categorical_feature\")\n",
      "[I 2024-12-09 17:29:23,096] Trial 14 pruned. Trial was pruned at iteration 0.\n",
      "/Users/thienla/ba_venv/lib/python3.11/site-packages/lightgbm/engine.py:186: LGBMDeprecationWarning: Argument 'categorical_feature' to train() is deprecated and will be removed in a future release. Set 'categorical_feature' when calling lightgbm.Dataset() instead. See https://github.com/microsoft/LightGBM/issues/6435.\n",
      "  _emit_dataset_kwarg_warning(\"train\", \"categorical_feature\")\n",
      "[I 2024-12-09 17:29:23,267] Trial 15 pruned. Trial was pruned at iteration 1.\n",
      "/Users/thienla/ba_venv/lib/python3.11/site-packages/lightgbm/engine.py:186: LGBMDeprecationWarning: Argument 'categorical_feature' to train() is deprecated and will be removed in a future release. Set 'categorical_feature' when calling lightgbm.Dataset() instead. See https://github.com/microsoft/LightGBM/issues/6435.\n",
      "  _emit_dataset_kwarg_warning(\"train\", \"categorical_feature\")\n",
      "[I 2024-12-09 17:29:23,403] Trial 16 pruned. Trial was pruned at iteration 0.\n"
     ]
    },
    {
     "name": "stdout",
     "output_type": "stream",
     "text": [
      "Training until validation scores don't improve for 5 rounds\n"
     ]
    },
    {
     "name": "stderr",
     "output_type": "stream",
     "text": [
      "/Users/thienla/ba_venv/lib/python3.11/site-packages/lightgbm/engine.py:186: LGBMDeprecationWarning: Argument 'categorical_feature' to train() is deprecated and will be removed in a future release. Set 'categorical_feature' when calling lightgbm.Dataset() instead. See https://github.com/microsoft/LightGBM/issues/6435.\n",
      "  _emit_dataset_kwarg_warning(\"train\", \"categorical_feature\")\n",
      "[I 2024-12-09 17:29:23,549] Trial 17 pruned. Trial was pruned at iteration 0.\n",
      "/Users/thienla/ba_venv/lib/python3.11/site-packages/lightgbm/engine.py:186: LGBMDeprecationWarning: Argument 'categorical_feature' to train() is deprecated and will be removed in a future release. Set 'categorical_feature' when calling lightgbm.Dataset() instead. See https://github.com/microsoft/LightGBM/issues/6435.\n",
      "  _emit_dataset_kwarg_warning(\"train\", \"categorical_feature\")\n",
      "[I 2024-12-09 17:29:23,684] Trial 18 pruned. Trial was pruned at iteration 0.\n",
      "/Users/thienla/ba_venv/lib/python3.11/site-packages/lightgbm/engine.py:186: LGBMDeprecationWarning: Argument 'categorical_feature' to train() is deprecated and will be removed in a future release. Set 'categorical_feature' when calling lightgbm.Dataset() instead. See https://github.com/microsoft/LightGBM/issues/6435.\n",
      "  _emit_dataset_kwarg_warning(\"train\", \"categorical_feature\")\n",
      "[I 2024-12-09 17:29:23,823] Trial 19 pruned. Trial was pruned at iteration 0.\n",
      "/Users/thienla/ba_venv/lib/python3.11/site-packages/lightgbm/engine.py:186: LGBMDeprecationWarning: Argument 'categorical_feature' to train() is deprecated and will be removed in a future release. Set 'categorical_feature' when calling lightgbm.Dataset() instead. See https://github.com/microsoft/LightGBM/issues/6435.\n",
      "  _emit_dataset_kwarg_warning(\"train\", \"categorical_feature\")\n",
      "[I 2024-12-09 17:29:23,966] Trial 20 pruned. Trial was pruned at iteration 0.\n",
      "/Users/thienla/ba_venv/lib/python3.11/site-packages/lightgbm/engine.py:186: LGBMDeprecationWarning: Argument 'categorical_feature' to train() is deprecated and will be removed in a future release. Set 'categorical_feature' when calling lightgbm.Dataset() instead. See https://github.com/microsoft/LightGBM/issues/6435.\n",
      "  _emit_dataset_kwarg_warning(\"train\", \"categorical_feature\")\n",
      "[I 2024-12-09 17:29:24,140] Trial 21 pruned. Trial was pruned at iteration 1.\n",
      "/Users/thienla/ba_venv/lib/python3.11/site-packages/lightgbm/engine.py:186: LGBMDeprecationWarning: Argument 'categorical_feature' to train() is deprecated and will be removed in a future release. Set 'categorical_feature' when calling lightgbm.Dataset() instead. See https://github.com/microsoft/LightGBM/issues/6435.\n",
      "  _emit_dataset_kwarg_warning(\"train\", \"categorical_feature\")\n",
      "[I 2024-12-09 17:29:24,309] Trial 22 pruned. Trial was pruned at iteration 1.\n"
     ]
    },
    {
     "name": "stdout",
     "output_type": "stream",
     "text": [
      "Training until validation scores don't improve for 5 rounds\n",
      "Training until validation scores don't improve for 5 rounds\n"
     ]
    },
    {
     "name": "stderr",
     "output_type": "stream",
     "text": [
      "/Users/thienla/ba_venv/lib/python3.11/site-packages/lightgbm/engine.py:186: LGBMDeprecationWarning: Argument 'categorical_feature' to train() is deprecated and will be removed in a future release. Set 'categorical_feature' when calling lightgbm.Dataset() instead. See https://github.com/microsoft/LightGBM/issues/6435.\n",
      "  _emit_dataset_kwarg_warning(\"train\", \"categorical_feature\")\n",
      "[I 2024-12-09 17:29:24,460] Trial 23 pruned. Trial was pruned at iteration 1.\n",
      "/Users/thienla/ba_venv/lib/python3.11/site-packages/lightgbm/engine.py:186: LGBMDeprecationWarning: Argument 'categorical_feature' to train() is deprecated and will be removed in a future release. Set 'categorical_feature' when calling lightgbm.Dataset() instead. See https://github.com/microsoft/LightGBM/issues/6435.\n",
      "  _emit_dataset_kwarg_warning(\"train\", \"categorical_feature\")\n",
      "[I 2024-12-09 17:29:24,634] Trial 24 pruned. Trial was pruned at iteration 1.\n"
     ]
    },
    {
     "name": "stdout",
     "output_type": "stream",
     "text": [
      "Training until validation scores don't improve for 5 rounds\n",
      "Training until validation scores don't improve for 5 rounds\n"
     ]
    },
    {
     "name": "stderr",
     "output_type": "stream",
     "text": [
      "/Users/thienla/ba_venv/lib/python3.11/site-packages/lightgbm/engine.py:186: LGBMDeprecationWarning: Argument 'categorical_feature' to train() is deprecated and will be removed in a future release. Set 'categorical_feature' when calling lightgbm.Dataset() instead. See https://github.com/microsoft/LightGBM/issues/6435.\n",
      "  _emit_dataset_kwarg_warning(\"train\", \"categorical_feature\")\n",
      "[I 2024-12-09 17:29:24,826] Trial 25 pruned. Trial was pruned at iteration 1.\n",
      "/Users/thienla/ba_venv/lib/python3.11/site-packages/lightgbm/engine.py:186: LGBMDeprecationWarning: Argument 'categorical_feature' to train() is deprecated and will be removed in a future release. Set 'categorical_feature' when calling lightgbm.Dataset() instead. See https://github.com/microsoft/LightGBM/issues/6435.\n",
      "  _emit_dataset_kwarg_warning(\"train\", \"categorical_feature\")\n",
      "[I 2024-12-09 17:29:24,981] Trial 26 pruned. Trial was pruned at iteration 0.\n"
     ]
    },
    {
     "name": "stdout",
     "output_type": "stream",
     "text": [
      "Training until validation scores don't improve for 5 rounds\n"
     ]
    },
    {
     "name": "stderr",
     "output_type": "stream",
     "text": [
      "/Users/thienla/ba_venv/lib/python3.11/site-packages/lightgbm/engine.py:186: LGBMDeprecationWarning: Argument 'categorical_feature' to train() is deprecated and will be removed in a future release. Set 'categorical_feature' when calling lightgbm.Dataset() instead. See https://github.com/microsoft/LightGBM/issues/6435.\n",
      "  _emit_dataset_kwarg_warning(\"train\", \"categorical_feature\")\n",
      "[I 2024-12-09 17:29:25,139] Trial 27 pruned. Trial was pruned at iteration 0.\n",
      "/Users/thienla/ba_venv/lib/python3.11/site-packages/lightgbm/engine.py:186: LGBMDeprecationWarning: Argument 'categorical_feature' to train() is deprecated and will be removed in a future release. Set 'categorical_feature' when calling lightgbm.Dataset() instead. See https://github.com/microsoft/LightGBM/issues/6435.\n",
      "  _emit_dataset_kwarg_warning(\"train\", \"categorical_feature\")\n",
      "[I 2024-12-09 17:29:25,444] Trial 28 pruned. Trial was pruned at iteration 11.\n"
     ]
    },
    {
     "name": "stdout",
     "output_type": "stream",
     "text": [
      "Training until validation scores don't improve for 5 rounds\n"
     ]
    },
    {
     "name": "stderr",
     "output_type": "stream",
     "text": [
      "/Users/thienla/ba_venv/lib/python3.11/site-packages/lightgbm/engine.py:186: LGBMDeprecationWarning: Argument 'categorical_feature' to train() is deprecated and will be removed in a future release. Set 'categorical_feature' when calling lightgbm.Dataset() instead. See https://github.com/microsoft/LightGBM/issues/6435.\n",
      "  _emit_dataset_kwarg_warning(\"train\", \"categorical_feature\")\n",
      "[I 2024-12-09 17:29:25,605] Trial 29 pruned. Trial was pruned at iteration 0.\n",
      "/Users/thienla/ba_venv/lib/python3.11/site-packages/lightgbm/engine.py:186: LGBMDeprecationWarning: Argument 'categorical_feature' to train() is deprecated and will be removed in a future release. Set 'categorical_feature' when calling lightgbm.Dataset() instead. See https://github.com/microsoft/LightGBM/issues/6435.\n",
      "  _emit_dataset_kwarg_warning(\"train\", \"categorical_feature\")\n",
      "[I 2024-12-09 17:29:25,747] Trial 30 pruned. Trial was pruned at iteration 0.\n",
      "/Users/thienla/ba_venv/lib/python3.11/site-packages/lightgbm/engine.py:186: LGBMDeprecationWarning: Argument 'categorical_feature' to train() is deprecated and will be removed in a future release. Set 'categorical_feature' when calling lightgbm.Dataset() instead. See https://github.com/microsoft/LightGBM/issues/6435.\n",
      "  _emit_dataset_kwarg_warning(\"train\", \"categorical_feature\")\n",
      "[I 2024-12-09 17:29:25,901] Trial 31 pruned. Trial was pruned at iteration 0.\n",
      "/Users/thienla/ba_venv/lib/python3.11/site-packages/lightgbm/engine.py:186: LGBMDeprecationWarning: Argument 'categorical_feature' to train() is deprecated and will be removed in a future release. Set 'categorical_feature' when calling lightgbm.Dataset() instead. See https://github.com/microsoft/LightGBM/issues/6435.\n",
      "  _emit_dataset_kwarg_warning(\"train\", \"categorical_feature\")\n",
      "[I 2024-12-09 17:29:26,054] Trial 32 pruned. Trial was pruned at iteration 0.\n",
      "/Users/thienla/ba_venv/lib/python3.11/site-packages/lightgbm/engine.py:186: LGBMDeprecationWarning: Argument 'categorical_feature' to train() is deprecated and will be removed in a future release. Set 'categorical_feature' when calling lightgbm.Dataset() instead. See https://github.com/microsoft/LightGBM/issues/6435.\n",
      "  _emit_dataset_kwarg_warning(\"train\", \"categorical_feature\")\n",
      "[I 2024-12-09 17:29:26,204] Trial 33 pruned. Trial was pruned at iteration 0.\n",
      "/Users/thienla/ba_venv/lib/python3.11/site-packages/lightgbm/engine.py:186: LGBMDeprecationWarning: Argument 'categorical_feature' to train() is deprecated and will be removed in a future release. Set 'categorical_feature' when calling lightgbm.Dataset() instead. See https://github.com/microsoft/LightGBM/issues/6435.\n",
      "  _emit_dataset_kwarg_warning(\"train\", \"categorical_feature\")\n",
      "[I 2024-12-09 17:29:26,369] Trial 34 pruned. Trial was pruned at iteration 0.\n",
      "/Users/thienla/ba_venv/lib/python3.11/site-packages/lightgbm/engine.py:186: LGBMDeprecationWarning: Argument 'categorical_feature' to train() is deprecated and will be removed in a future release. Set 'categorical_feature' when calling lightgbm.Dataset() instead. See https://github.com/microsoft/LightGBM/issues/6435.\n",
      "  _emit_dataset_kwarg_warning(\"train\", \"categorical_feature\")\n",
      "[I 2024-12-09 17:29:26,576] Trial 35 pruned. Trial was pruned at iteration 0.\n",
      "/Users/thienla/ba_venv/lib/python3.11/site-packages/lightgbm/engine.py:186: LGBMDeprecationWarning: Argument 'categorical_feature' to train() is deprecated and will be removed in a future release. Set 'categorical_feature' when calling lightgbm.Dataset() instead. See https://github.com/microsoft/LightGBM/issues/6435.\n",
      "  _emit_dataset_kwarg_warning(\"train\", \"categorical_feature\")\n",
      "[I 2024-12-09 17:29:26,725] Trial 36 pruned. Trial was pruned at iteration 0.\n",
      "/Users/thienla/ba_venv/lib/python3.11/site-packages/lightgbm/engine.py:186: LGBMDeprecationWarning: Argument 'categorical_feature' to train() is deprecated and will be removed in a future release. Set 'categorical_feature' when calling lightgbm.Dataset() instead. See https://github.com/microsoft/LightGBM/issues/6435.\n",
      "  _emit_dataset_kwarg_warning(\"train\", \"categorical_feature\")\n",
      "[I 2024-12-09 17:29:26,867] Trial 37 pruned. Trial was pruned at iteration 0.\n",
      "/Users/thienla/ba_venv/lib/python3.11/site-packages/lightgbm/engine.py:186: LGBMDeprecationWarning: Argument 'categorical_feature' to train() is deprecated and will be removed in a future release. Set 'categorical_feature' when calling lightgbm.Dataset() instead. See https://github.com/microsoft/LightGBM/issues/6435.\n",
      "  _emit_dataset_kwarg_warning(\"train\", \"categorical_feature\")\n",
      "[I 2024-12-09 17:29:27,023] Trial 38 pruned. Trial was pruned at iteration 0.\n",
      "/Users/thienla/ba_venv/lib/python3.11/site-packages/lightgbm/engine.py:186: LGBMDeprecationWarning: Argument 'categorical_feature' to train() is deprecated and will be removed in a future release. Set 'categorical_feature' when calling lightgbm.Dataset() instead. See https://github.com/microsoft/LightGBM/issues/6435.\n",
      "  _emit_dataset_kwarg_warning(\"train\", \"categorical_feature\")\n",
      "[I 2024-12-09 17:29:27,167] Trial 39 pruned. Trial was pruned at iteration 0.\n",
      "/Users/thienla/ba_venv/lib/python3.11/site-packages/lightgbm/engine.py:186: LGBMDeprecationWarning: Argument 'categorical_feature' to train() is deprecated and will be removed in a future release. Set 'categorical_feature' when calling lightgbm.Dataset() instead. See https://github.com/microsoft/LightGBM/issues/6435.\n",
      "  _emit_dataset_kwarg_warning(\"train\", \"categorical_feature\")\n",
      "[I 2024-12-09 17:29:27,320] Trial 40 pruned. Trial was pruned at iteration 0.\n",
      "/Users/thienla/ba_venv/lib/python3.11/site-packages/lightgbm/engine.py:186: LGBMDeprecationWarning: Argument 'categorical_feature' to train() is deprecated and will be removed in a future release. Set 'categorical_feature' when calling lightgbm.Dataset() instead. See https://github.com/microsoft/LightGBM/issues/6435.\n",
      "  _emit_dataset_kwarg_warning(\"train\", \"categorical_feature\")\n",
      "[I 2024-12-09 17:29:27,502] Trial 41 pruned. Trial was pruned at iteration 1.\n",
      "/Users/thienla/ba_venv/lib/python3.11/site-packages/lightgbm/engine.py:186: LGBMDeprecationWarning: Argument 'categorical_feature' to train() is deprecated and will be removed in a future release. Set 'categorical_feature' when calling lightgbm.Dataset() instead. See https://github.com/microsoft/LightGBM/issues/6435.\n",
      "  _emit_dataset_kwarg_warning(\"train\", \"categorical_feature\")\n",
      "[I 2024-12-09 17:29:27,681] Trial 42 pruned. Trial was pruned at iteration 1.\n"
     ]
    },
    {
     "name": "stdout",
     "output_type": "stream",
     "text": [
      "Training until validation scores don't improve for 5 rounds\n",
      "Training until validation scores don't improve for 5 rounds\n"
     ]
    },
    {
     "name": "stderr",
     "output_type": "stream",
     "text": [
      "/Users/thienla/ba_venv/lib/python3.11/site-packages/lightgbm/engine.py:186: LGBMDeprecationWarning: Argument 'categorical_feature' to train() is deprecated and will be removed in a future release. Set 'categorical_feature' when calling lightgbm.Dataset() instead. See https://github.com/microsoft/LightGBM/issues/6435.\n",
      "  _emit_dataset_kwarg_warning(\"train\", \"categorical_feature\")\n",
      "[I 2024-12-09 17:29:27,855] Trial 43 pruned. Trial was pruned at iteration 1.\n",
      "/Users/thienla/ba_venv/lib/python3.11/site-packages/lightgbm/engine.py:186: LGBMDeprecationWarning: Argument 'categorical_feature' to train() is deprecated and will be removed in a future release. Set 'categorical_feature' when calling lightgbm.Dataset() instead. See https://github.com/microsoft/LightGBM/issues/6435.\n",
      "  _emit_dataset_kwarg_warning(\"train\", \"categorical_feature\")\n",
      "[I 2024-12-09 17:29:28,022] Trial 44 pruned. Trial was pruned at iteration 1.\n"
     ]
    },
    {
     "name": "stdout",
     "output_type": "stream",
     "text": [
      "Training until validation scores don't improve for 5 rounds\n",
      "Training until validation scores don't improve for 5 rounds\n"
     ]
    },
    {
     "name": "stderr",
     "output_type": "stream",
     "text": [
      "/Users/thienla/ba_venv/lib/python3.11/site-packages/lightgbm/engine.py:186: LGBMDeprecationWarning: Argument 'categorical_feature' to train() is deprecated and will be removed in a future release. Set 'categorical_feature' when calling lightgbm.Dataset() instead. See https://github.com/microsoft/LightGBM/issues/6435.\n",
      "  _emit_dataset_kwarg_warning(\"train\", \"categorical_feature\")\n"
     ]
    },
    {
     "name": "stdout",
     "output_type": "stream",
     "text": [
      "Training until validation scores don't improve for 5 rounds\n",
      "Early stopping, best iteration is:\n",
      "[39]\tvalid_0's auc: 0.83301\n",
      "Training until validation scores don't improve for 5 rounds\n"
     ]
    },
    {
     "name": "stderr",
     "output_type": "stream",
     "text": [
      "/Users/thienla/ba_venv/lib/python3.11/site-packages/lightgbm/engine.py:186: LGBMDeprecationWarning: Argument 'categorical_feature' to train() is deprecated and will be removed in a future release. Set 'categorical_feature' when calling lightgbm.Dataset() instead. See https://github.com/microsoft/LightGBM/issues/6435.\n",
      "  _emit_dataset_kwarg_warning(\"train\", \"categorical_feature\")\n"
     ]
    },
    {
     "name": "stdout",
     "output_type": "stream",
     "text": [
      "Early stopping, best iteration is:\n",
      "[33]\tvalid_0's auc: 0.825324\n",
      "Training until validation scores don't improve for 5 rounds\n"
     ]
    },
    {
     "name": "stderr",
     "output_type": "stream",
     "text": [
      "/Users/thienla/ba_venv/lib/python3.11/site-packages/lightgbm/engine.py:186: LGBMDeprecationWarning: Argument 'categorical_feature' to train() is deprecated and will be removed in a future release. Set 'categorical_feature' when calling lightgbm.Dataset() instead. See https://github.com/microsoft/LightGBM/issues/6435.\n",
      "  _emit_dataset_kwarg_warning(\"train\", \"categorical_feature\")\n"
     ]
    },
    {
     "name": "stdout",
     "output_type": "stream",
     "text": [
      "Early stopping, best iteration is:\n",
      "[35]\tvalid_0's auc: 0.830124\n",
      "Training until validation scores don't improve for 5 rounds\n"
     ]
    },
    {
     "name": "stderr",
     "output_type": "stream",
     "text": [
      "/Users/thienla/ba_venv/lib/python3.11/site-packages/lightgbm/engine.py:186: LGBMDeprecationWarning: Argument 'categorical_feature' to train() is deprecated and will be removed in a future release. Set 'categorical_feature' when calling lightgbm.Dataset() instead. See https://github.com/microsoft/LightGBM/issues/6435.\n",
      "  _emit_dataset_kwarg_warning(\"train\", \"categorical_feature\")\n"
     ]
    },
    {
     "name": "stdout",
     "output_type": "stream",
     "text": [
      "Early stopping, best iteration is:\n",
      "[32]\tvalid_0's auc: 0.829924\n",
      "Training until validation scores don't improve for 5 rounds\n"
     ]
    },
    {
     "name": "stderr",
     "output_type": "stream",
     "text": [
      "/Users/thienla/ba_venv/lib/python3.11/site-packages/lightgbm/engine.py:186: LGBMDeprecationWarning: Argument 'categorical_feature' to train() is deprecated and will be removed in a future release. Set 'categorical_feature' when calling lightgbm.Dataset() instead. See https://github.com/microsoft/LightGBM/issues/6435.\n",
      "  _emit_dataset_kwarg_warning(\"train\", \"categorical_feature\")\n",
      "[I 2024-12-09 17:29:30,526] Trial 45 finished with value: 0.8296739246580594 and parameters: {'learning_rate': 0.16000000000000003, 'num_leaves': 135, 'max_depth': 7, 'min_data_in_leaf': 800, 'lambda_l1': 0.028515121773680256, 'lambda_l2': 0.10638215596383571, 'bagging_fraction': 0.9, 'bagging_freq': 5, 'feature_fraction': 1.0, 'is_unbalance': True}. Best is trial 0 with value: 0.8299180999828092.\n"
     ]
    },
    {
     "name": "stdout",
     "output_type": "stream",
     "text": [
      "Early stopping, best iteration is:\n",
      "[45]\tvalid_0's auc: 0.829987\n",
      "Training until validation scores don't improve for 5 rounds\n"
     ]
    },
    {
     "name": "stderr",
     "output_type": "stream",
     "text": [
      "/Users/thienla/ba_venv/lib/python3.11/site-packages/lightgbm/engine.py:186: LGBMDeprecationWarning: Argument 'categorical_feature' to train() is deprecated and will be removed in a future release. Set 'categorical_feature' when calling lightgbm.Dataset() instead. See https://github.com/microsoft/LightGBM/issues/6435.\n",
      "  _emit_dataset_kwarg_warning(\"train\", \"categorical_feature\")\n"
     ]
    },
    {
     "name": "stdout",
     "output_type": "stream",
     "text": [
      "Early stopping, best iteration is:\n",
      "[43]\tvalid_0's auc: 0.833364\n",
      "Training until validation scores don't improve for 5 rounds\n"
     ]
    },
    {
     "name": "stderr",
     "output_type": "stream",
     "text": [
      "/Users/thienla/ba_venv/lib/python3.11/site-packages/lightgbm/engine.py:186: LGBMDeprecationWarning: Argument 'categorical_feature' to train() is deprecated and will be removed in a future release. Set 'categorical_feature' when calling lightgbm.Dataset() instead. See https://github.com/microsoft/LightGBM/issues/6435.\n",
      "  _emit_dataset_kwarg_warning(\"train\", \"categorical_feature\")\n"
     ]
    },
    {
     "name": "stdout",
     "output_type": "stream",
     "text": [
      "Early stopping, best iteration is:\n",
      "[51]\tvalid_0's auc: 0.825385\n",
      "Training until validation scores don't improve for 5 rounds\n"
     ]
    },
    {
     "name": "stderr",
     "output_type": "stream",
     "text": [
      "/Users/thienla/ba_venv/lib/python3.11/site-packages/lightgbm/engine.py:186: LGBMDeprecationWarning: Argument 'categorical_feature' to train() is deprecated and will be removed in a future release. Set 'categorical_feature' when calling lightgbm.Dataset() instead. See https://github.com/microsoft/LightGBM/issues/6435.\n",
      "  _emit_dataset_kwarg_warning(\"train\", \"categorical_feature\")\n"
     ]
    },
    {
     "name": "stdout",
     "output_type": "stream",
     "text": [
      "Early stopping, best iteration is:\n",
      "[36]\tvalid_0's auc: 0.829536\n",
      "Training until validation scores don't improve for 5 rounds\n"
     ]
    },
    {
     "name": "stderr",
     "output_type": "stream",
     "text": [
      "/Users/thienla/ba_venv/lib/python3.11/site-packages/lightgbm/engine.py:186: LGBMDeprecationWarning: Argument 'categorical_feature' to train() is deprecated and will be removed in a future release. Set 'categorical_feature' when calling lightgbm.Dataset() instead. See https://github.com/microsoft/LightGBM/issues/6435.\n",
      "  _emit_dataset_kwarg_warning(\"train\", \"categorical_feature\")\n"
     ]
    },
    {
     "name": "stdout",
     "output_type": "stream",
     "text": [
      "Early stopping, best iteration is:\n",
      "[34]\tvalid_0's auc: 0.830387\n",
      "Training until validation scores don't improve for 5 rounds\n"
     ]
    },
    {
     "name": "stderr",
     "output_type": "stream",
     "text": [
      "/Users/thienla/ba_venv/lib/python3.11/site-packages/lightgbm/engine.py:186: LGBMDeprecationWarning: Argument 'categorical_feature' to train() is deprecated and will be removed in a future release. Set 'categorical_feature' when calling lightgbm.Dataset() instead. See https://github.com/microsoft/LightGBM/issues/6435.\n",
      "  _emit_dataset_kwarg_warning(\"train\", \"categorical_feature\")\n",
      "[I 2024-12-09 17:29:32,979] Trial 46 finished with value: 0.8297563621573184 and parameters: {'learning_rate': 0.16000000000000003, 'num_leaves': 135, 'max_depth': 7, 'min_data_in_leaf': 800, 'lambda_l1': 0.00022994737833337237, 'lambda_l2': 0.04625924115188199, 'bagging_fraction': 0.8, 'bagging_freq': 5, 'feature_fraction': 1.0, 'is_unbalance': True}. Best is trial 0 with value: 0.8299180999828092.\n",
      "/Users/thienla/ba_venv/lib/python3.11/site-packages/lightgbm/engine.py:186: LGBMDeprecationWarning: Argument 'categorical_feature' to train() is deprecated and will be removed in a future release. Set 'categorical_feature' when calling lightgbm.Dataset() instead. See https://github.com/microsoft/LightGBM/issues/6435.\n",
      "  _emit_dataset_kwarg_warning(\"train\", \"categorical_feature\")\n",
      "[I 2024-12-09 17:29:33,127] Trial 47 pruned. Trial was pruned at iteration 0.\n"
     ]
    },
    {
     "name": "stdout",
     "output_type": "stream",
     "text": [
      "Early stopping, best iteration is:\n",
      "[33]\tvalid_0's auc: 0.83011\n"
     ]
    },
    {
     "name": "stderr",
     "output_type": "stream",
     "text": [
      "/Users/thienla/ba_venv/lib/python3.11/site-packages/lightgbm/engine.py:186: LGBMDeprecationWarning: Argument 'categorical_feature' to train() is deprecated and will be removed in a future release. Set 'categorical_feature' when calling lightgbm.Dataset() instead. See https://github.com/microsoft/LightGBM/issues/6435.\n",
      "  _emit_dataset_kwarg_warning(\"train\", \"categorical_feature\")\n",
      "[I 2024-12-09 17:29:33,282] Trial 48 pruned. Trial was pruned at iteration 2.\n",
      "/Users/thienla/ba_venv/lib/python3.11/site-packages/lightgbm/engine.py:186: LGBMDeprecationWarning: Argument 'categorical_feature' to train() is deprecated and will be removed in a future release. Set 'categorical_feature' when calling lightgbm.Dataset() instead. See https://github.com/microsoft/LightGBM/issues/6435.\n",
      "  _emit_dataset_kwarg_warning(\"train\", \"categorical_feature\")\n",
      "[I 2024-12-09 17:29:33,422] Trial 49 pruned. Trial was pruned at iteration 0.\n"
     ]
    },
    {
     "name": "stdout",
     "output_type": "stream",
     "text": [
      "Training until validation scores don't improve for 5 rounds\n"
     ]
    },
    {
     "name": "stderr",
     "output_type": "stream",
     "text": [
      "/Users/thienla/ba_venv/lib/python3.11/site-packages/lightgbm/engine.py:186: LGBMDeprecationWarning: Argument 'categorical_feature' to train() is deprecated and will be removed in a future release. Set 'categorical_feature' when calling lightgbm.Dataset() instead. See https://github.com/microsoft/LightGBM/issues/6435.\n",
      "  _emit_dataset_kwarg_warning(\"train\", \"categorical_feature\")\n",
      "[I 2024-12-09 17:29:33,575] Trial 50 pruned. Trial was pruned at iteration 0.\n",
      "/Users/thienla/ba_venv/lib/python3.11/site-packages/lightgbm/engine.py:186: LGBMDeprecationWarning: Argument 'categorical_feature' to train() is deprecated and will be removed in a future release. Set 'categorical_feature' when calling lightgbm.Dataset() instead. See https://github.com/microsoft/LightGBM/issues/6435.\n",
      "  _emit_dataset_kwarg_warning(\"train\", \"categorical_feature\")\n",
      "[I 2024-12-09 17:29:33,720] Trial 51 pruned. Trial was pruned at iteration 2.\n",
      "/Users/thienla/ba_venv/lib/python3.11/site-packages/lightgbm/engine.py:186: LGBMDeprecationWarning: Argument 'categorical_feature' to train() is deprecated and will be removed in a future release. Set 'categorical_feature' when calling lightgbm.Dataset() instead. See https://github.com/microsoft/LightGBM/issues/6435.\n",
      "  _emit_dataset_kwarg_warning(\"train\", \"categorical_feature\")\n",
      "[I 2024-12-09 17:29:33,874] Trial 52 pruned. Trial was pruned at iteration 0.\n"
     ]
    },
    {
     "name": "stdout",
     "output_type": "stream",
     "text": [
      "Training until validation scores don't improve for 5 rounds\n"
     ]
    },
    {
     "name": "stderr",
     "output_type": "stream",
     "text": [
      "/Users/thienla/ba_venv/lib/python3.11/site-packages/lightgbm/engine.py:186: LGBMDeprecationWarning: Argument 'categorical_feature' to train() is deprecated and will be removed in a future release. Set 'categorical_feature' when calling lightgbm.Dataset() instead. See https://github.com/microsoft/LightGBM/issues/6435.\n",
      "  _emit_dataset_kwarg_warning(\"train\", \"categorical_feature\")\n",
      "[I 2024-12-09 17:29:34,028] Trial 53 pruned. Trial was pruned at iteration 2.\n",
      "/Users/thienla/ba_venv/lib/python3.11/site-packages/lightgbm/engine.py:186: LGBMDeprecationWarning: Argument 'categorical_feature' to train() is deprecated and will be removed in a future release. Set 'categorical_feature' when calling lightgbm.Dataset() instead. See https://github.com/microsoft/LightGBM/issues/6435.\n",
      "  _emit_dataset_kwarg_warning(\"train\", \"categorical_feature\")\n"
     ]
    },
    {
     "name": "stdout",
     "output_type": "stream",
     "text": [
      "Training until validation scores don't improve for 5 rounds\n",
      "Training until validation scores don't improve for 5 rounds\n"
     ]
    },
    {
     "name": "stderr",
     "output_type": "stream",
     "text": [
      "[I 2024-12-09 17:29:34,554] Trial 54 pruned. Trial was pruned at iteration 36.\n",
      "/Users/thienla/ba_venv/lib/python3.11/site-packages/lightgbm/engine.py:186: LGBMDeprecationWarning: Argument 'categorical_feature' to train() is deprecated and will be removed in a future release. Set 'categorical_feature' when calling lightgbm.Dataset() instead. See https://github.com/microsoft/LightGBM/issues/6435.\n",
      "  _emit_dataset_kwarg_warning(\"train\", \"categorical_feature\")\n"
     ]
    },
    {
     "name": "stdout",
     "output_type": "stream",
     "text": [
      "Training until validation scores don't improve for 5 rounds\n",
      "Early stopping, best iteration is:\n",
      "[26]\tvalid_0's auc: 0.833094\n"
     ]
    },
    {
     "name": "stderr",
     "output_type": "stream",
     "text": [
      "/Users/thienla/ba_venv/lib/python3.11/site-packages/lightgbm/engine.py:186: LGBMDeprecationWarning: Argument 'categorical_feature' to train() is deprecated and will be removed in a future release. Set 'categorical_feature' when calling lightgbm.Dataset() instead. See https://github.com/microsoft/LightGBM/issues/6435.\n",
      "  _emit_dataset_kwarg_warning(\"train\", \"categorical_feature\")\n"
     ]
    },
    {
     "name": "stdout",
     "output_type": "stream",
     "text": [
      "Training until validation scores don't improve for 5 rounds\n",
      "Early stopping, best iteration is:\n",
      "[32]\tvalid_0's auc: 0.82448\n"
     ]
    },
    {
     "name": "stderr",
     "output_type": "stream",
     "text": [
      "/Users/thienla/ba_venv/lib/python3.11/site-packages/lightgbm/engine.py:186: LGBMDeprecationWarning: Argument 'categorical_feature' to train() is deprecated and will be removed in a future release. Set 'categorical_feature' when calling lightgbm.Dataset() instead. See https://github.com/microsoft/LightGBM/issues/6435.\n",
      "  _emit_dataset_kwarg_warning(\"train\", \"categorical_feature\")\n"
     ]
    },
    {
     "name": "stdout",
     "output_type": "stream",
     "text": [
      "Training until validation scores don't improve for 5 rounds\n",
      "Early stopping, best iteration is:\n",
      "[20]\tvalid_0's auc: 0.829884\n"
     ]
    },
    {
     "name": "stderr",
     "output_type": "stream",
     "text": [
      "/Users/thienla/ba_venv/lib/python3.11/site-packages/lightgbm/engine.py:186: LGBMDeprecationWarning: Argument 'categorical_feature' to train() is deprecated and will be removed in a future release. Set 'categorical_feature' when calling lightgbm.Dataset() instead. See https://github.com/microsoft/LightGBM/issues/6435.\n",
      "  _emit_dataset_kwarg_warning(\"train\", \"categorical_feature\")\n"
     ]
    },
    {
     "name": "stdout",
     "output_type": "stream",
     "text": [
      "Training until validation scores don't improve for 5 rounds\n",
      "Early stopping, best iteration is:\n",
      "[21]\tvalid_0's auc: 0.829963\n"
     ]
    },
    {
     "name": "stderr",
     "output_type": "stream",
     "text": [
      "/Users/thienla/ba_venv/lib/python3.11/site-packages/lightgbm/engine.py:186: LGBMDeprecationWarning: Argument 'categorical_feature' to train() is deprecated and will be removed in a future release. Set 'categorical_feature' when calling lightgbm.Dataset() instead. See https://github.com/microsoft/LightGBM/issues/6435.\n",
      "  _emit_dataset_kwarg_warning(\"train\", \"categorical_feature\")\n",
      "[I 2024-12-09 17:29:36,010] Trial 55 finished with value: 0.8295010377553339 and parameters: {'learning_rate': 0.21000000000000002, 'num_leaves': 135, 'max_depth': 7, 'min_data_in_leaf': 700, 'lambda_l1': 0.019590266359572384, 'lambda_l2': 0.005113077325289361, 'bagging_fraction': 1.0, 'bagging_freq': 5, 'feature_fraction': 1.0, 'is_unbalance': True}. Best is trial 0 with value: 0.8299180999828092.\n"
     ]
    },
    {
     "name": "stdout",
     "output_type": "stream",
     "text": [
      "Training until validation scores don't improve for 5 rounds\n",
      "Early stopping, best iteration is:\n",
      "[27]\tvalid_0's auc: 0.830084\n"
     ]
    },
    {
     "name": "stderr",
     "output_type": "stream",
     "text": [
      "/Users/thienla/ba_venv/lib/python3.11/site-packages/lightgbm/engine.py:186: LGBMDeprecationWarning: Argument 'categorical_feature' to train() is deprecated and will be removed in a future release. Set 'categorical_feature' when calling lightgbm.Dataset() instead. See https://github.com/microsoft/LightGBM/issues/6435.\n",
      "  _emit_dataset_kwarg_warning(\"train\", \"categorical_feature\")\n",
      "[I 2024-12-09 17:29:36,158] Trial 56 pruned. Trial was pruned at iteration 0.\n",
      "/Users/thienla/ba_venv/lib/python3.11/site-packages/lightgbm/engine.py:186: LGBMDeprecationWarning: Argument 'categorical_feature' to train() is deprecated and will be removed in a future release. Set 'categorical_feature' when calling lightgbm.Dataset() instead. See https://github.com/microsoft/LightGBM/issues/6435.\n",
      "  _emit_dataset_kwarg_warning(\"train\", \"categorical_feature\")\n",
      "[I 2024-12-09 17:29:36,414] Trial 57 pruned. Trial was pruned at iteration 5.\n"
     ]
    },
    {
     "name": "stdout",
     "output_type": "stream",
     "text": [
      "Training until validation scores don't improve for 5 rounds\n"
     ]
    },
    {
     "name": "stderr",
     "output_type": "stream",
     "text": [
      "/Users/thienla/ba_venv/lib/python3.11/site-packages/lightgbm/engine.py:186: LGBMDeprecationWarning: Argument 'categorical_feature' to train() is deprecated and will be removed in a future release. Set 'categorical_feature' when calling lightgbm.Dataset() instead. See https://github.com/microsoft/LightGBM/issues/6435.\n",
      "  _emit_dataset_kwarg_warning(\"train\", \"categorical_feature\")\n"
     ]
    },
    {
     "name": "stdout",
     "output_type": "stream",
     "text": [
      "Training until validation scores don't improve for 5 rounds\n"
     ]
    },
    {
     "name": "stderr",
     "output_type": "stream",
     "text": [
      "[I 2024-12-09 17:29:37,030] Trial 58 pruned. Trial was pruned at iteration 21.\n",
      "/Users/thienla/ba_venv/lib/python3.11/site-packages/lightgbm/engine.py:186: LGBMDeprecationWarning: Argument 'categorical_feature' to train() is deprecated and will be removed in a future release. Set 'categorical_feature' when calling lightgbm.Dataset() instead. See https://github.com/microsoft/LightGBM/issues/6435.\n",
      "  _emit_dataset_kwarg_warning(\"train\", \"categorical_feature\")\n",
      "[I 2024-12-09 17:29:37,206] Trial 59 pruned. Trial was pruned at iteration 0.\n",
      "/Users/thienla/ba_venv/lib/python3.11/site-packages/lightgbm/engine.py:186: LGBMDeprecationWarning: Argument 'categorical_feature' to train() is deprecated and will be removed in a future release. Set 'categorical_feature' when calling lightgbm.Dataset() instead. See https://github.com/microsoft/LightGBM/issues/6435.\n",
      "  _emit_dataset_kwarg_warning(\"train\", \"categorical_feature\")\n",
      "[I 2024-12-09 17:29:37,368] Trial 60 pruned. Trial was pruned at iteration 0.\n",
      "/Users/thienla/ba_venv/lib/python3.11/site-packages/lightgbm/engine.py:186: LGBMDeprecationWarning: Argument 'categorical_feature' to train() is deprecated and will be removed in a future release. Set 'categorical_feature' when calling lightgbm.Dataset() instead. See https://github.com/microsoft/LightGBM/issues/6435.\n",
      "  _emit_dataset_kwarg_warning(\"train\", \"categorical_feature\")\n"
     ]
    },
    {
     "name": "stdout",
     "output_type": "stream",
     "text": [
      "Training until validation scores don't improve for 5 rounds\n",
      "Early stopping, best iteration is:\n",
      "[29]\tvalid_0's auc: 0.833318\n",
      "Training until validation scores don't improve for 5 rounds\n"
     ]
    },
    {
     "name": "stderr",
     "output_type": "stream",
     "text": [
      "/Users/thienla/ba_venv/lib/python3.11/site-packages/lightgbm/engine.py:186: LGBMDeprecationWarning: Argument 'categorical_feature' to train() is deprecated and will be removed in a future release. Set 'categorical_feature' when calling lightgbm.Dataset() instead. See https://github.com/microsoft/LightGBM/issues/6435.\n",
      "  _emit_dataset_kwarg_warning(\"train\", \"categorical_feature\")\n"
     ]
    },
    {
     "name": "stdout",
     "output_type": "stream",
     "text": [
      "Early stopping, best iteration is:\n",
      "[24]\tvalid_0's auc: 0.824366\n",
      "Training until validation scores don't improve for 5 rounds\n"
     ]
    },
    {
     "name": "stderr",
     "output_type": "stream",
     "text": [
      "/Users/thienla/ba_venv/lib/python3.11/site-packages/lightgbm/engine.py:186: LGBMDeprecationWarning: Argument 'categorical_feature' to train() is deprecated and will be removed in a future release. Set 'categorical_feature' when calling lightgbm.Dataset() instead. See https://github.com/microsoft/LightGBM/issues/6435.\n",
      "  _emit_dataset_kwarg_warning(\"train\", \"categorical_feature\")\n"
     ]
    },
    {
     "name": "stdout",
     "output_type": "stream",
     "text": [
      "Early stopping, best iteration is:\n",
      "[32]\tvalid_0's auc: 0.829868\n",
      "Training until validation scores don't improve for 5 rounds\n"
     ]
    },
    {
     "name": "stderr",
     "output_type": "stream",
     "text": [
      "/Users/thienla/ba_venv/lib/python3.11/site-packages/lightgbm/engine.py:186: LGBMDeprecationWarning: Argument 'categorical_feature' to train() is deprecated and will be removed in a future release. Set 'categorical_feature' when calling lightgbm.Dataset() instead. See https://github.com/microsoft/LightGBM/issues/6435.\n",
      "  _emit_dataset_kwarg_warning(\"train\", \"categorical_feature\")\n"
     ]
    },
    {
     "name": "stdout",
     "output_type": "stream",
     "text": [
      "Early stopping, best iteration is:\n",
      "[25]\tvalid_0's auc: 0.830015\n",
      "Training until validation scores don't improve for 5 rounds\n"
     ]
    },
    {
     "name": "stderr",
     "output_type": "stream",
     "text": [
      "/Users/thienla/ba_venv/lib/python3.11/site-packages/lightgbm/engine.py:186: LGBMDeprecationWarning: Argument 'categorical_feature' to train() is deprecated and will be removed in a future release. Set 'categorical_feature' when calling lightgbm.Dataset() instead. See https://github.com/microsoft/LightGBM/issues/6435.\n",
      "  _emit_dataset_kwarg_warning(\"train\", \"categorical_feature\")\n",
      "[I 2024-12-09 17:29:39,200] Trial 61 finished with value: 0.8295302634317727 and parameters: {'learning_rate': 0.21000000000000002, 'num_leaves': 135, 'max_depth': 7, 'min_data_in_leaf': 700, 'lambda_l1': 0.025323949405570888, 'lambda_l2': 0.00932820277393881, 'bagging_fraction': 1.0, 'bagging_freq': 5, 'feature_fraction': 1.0, 'is_unbalance': True}. Best is trial 0 with value: 0.8299180999828092.\n"
     ]
    },
    {
     "name": "stdout",
     "output_type": "stream",
     "text": [
      "Early stopping, best iteration is:\n",
      "[27]\tvalid_0's auc: 0.830084\n",
      "Training until validation scores don't improve for 5 rounds\n"
     ]
    },
    {
     "name": "stderr",
     "output_type": "stream",
     "text": [
      "/Users/thienla/ba_venv/lib/python3.11/site-packages/lightgbm/engine.py:186: LGBMDeprecationWarning: Argument 'categorical_feature' to train() is deprecated and will be removed in a future release. Set 'categorical_feature' when calling lightgbm.Dataset() instead. See https://github.com/microsoft/LightGBM/issues/6435.\n",
      "  _emit_dataset_kwarg_warning(\"train\", \"categorical_feature\")\n",
      "[I 2024-12-09 17:29:39,581] Trial 62 pruned. Trial was pruned at iteration 28.\n",
      "/Users/thienla/ba_venv/lib/python3.11/site-packages/lightgbm/engine.py:186: LGBMDeprecationWarning: Argument 'categorical_feature' to train() is deprecated and will be removed in a future release. Set 'categorical_feature' when calling lightgbm.Dataset() instead. See https://github.com/microsoft/LightGBM/issues/6435.\n",
      "  _emit_dataset_kwarg_warning(\"train\", \"categorical_feature\")\n"
     ]
    },
    {
     "name": "stdout",
     "output_type": "stream",
     "text": [
      "Training until validation scores don't improve for 5 rounds\n",
      "Early stopping, best iteration is:\n",
      "[27]\tvalid_0's auc: 0.832927\n"
     ]
    },
    {
     "name": "stderr",
     "output_type": "stream",
     "text": [
      "/Users/thienla/ba_venv/lib/python3.11/site-packages/lightgbm/engine.py:186: LGBMDeprecationWarning: Argument 'categorical_feature' to train() is deprecated and will be removed in a future release. Set 'categorical_feature' when calling lightgbm.Dataset() instead. See https://github.com/microsoft/LightGBM/issues/6435.\n",
      "  _emit_dataset_kwarg_warning(\"train\", \"categorical_feature\")\n"
     ]
    },
    {
     "name": "stdout",
     "output_type": "stream",
     "text": [
      "Training until validation scores don't improve for 5 rounds\n",
      "Early stopping, best iteration is:\n",
      "[25]\tvalid_0's auc: 0.824212\n"
     ]
    },
    {
     "name": "stderr",
     "output_type": "stream",
     "text": [
      "/Users/thienla/ba_venv/lib/python3.11/site-packages/lightgbm/engine.py:186: LGBMDeprecationWarning: Argument 'categorical_feature' to train() is deprecated and will be removed in a future release. Set 'categorical_feature' when calling lightgbm.Dataset() instead. See https://github.com/microsoft/LightGBM/issues/6435.\n",
      "  _emit_dataset_kwarg_warning(\"train\", \"categorical_feature\")\n"
     ]
    },
    {
     "name": "stdout",
     "output_type": "stream",
     "text": [
      "Training until validation scores don't improve for 5 rounds\n",
      "Early stopping, best iteration is:\n",
      "[23]\tvalid_0's auc: 0.829628\n"
     ]
    },
    {
     "name": "stderr",
     "output_type": "stream",
     "text": [
      "/Users/thienla/ba_venv/lib/python3.11/site-packages/lightgbm/engine.py:186: LGBMDeprecationWarning: Argument 'categorical_feature' to train() is deprecated and will be removed in a future release. Set 'categorical_feature' when calling lightgbm.Dataset() instead. See https://github.com/microsoft/LightGBM/issues/6435.\n",
      "  _emit_dataset_kwarg_warning(\"train\", \"categorical_feature\")\n"
     ]
    },
    {
     "name": "stdout",
     "output_type": "stream",
     "text": [
      "Training until validation scores don't improve for 5 rounds\n",
      "Early stopping, best iteration is:\n",
      "[25]\tvalid_0's auc: 0.828713\n",
      "Training until validation scores don't improve for 5 rounds\n"
     ]
    },
    {
     "name": "stderr",
     "output_type": "stream",
     "text": [
      "/Users/thienla/ba_venv/lib/python3.11/site-packages/lightgbm/engine.py:186: LGBMDeprecationWarning: Argument 'categorical_feature' to train() is deprecated and will be removed in a future release. Set 'categorical_feature' when calling lightgbm.Dataset() instead. See https://github.com/microsoft/LightGBM/issues/6435.\n",
      "  _emit_dataset_kwarg_warning(\"train\", \"categorical_feature\")\n",
      "[I 2024-12-09 17:29:41,199] Trial 63 finished with value: 0.828982354894652 and parameters: {'learning_rate': 0.26, 'num_leaves': 135, 'max_depth': 7, 'min_data_in_leaf': 800, 'lambda_l1': 0.06411309526831398, 'lambda_l2': 0.008866282061391405, 'bagging_fraction': 1.0, 'bagging_freq': 5, 'feature_fraction': 1.0, 'is_unbalance': True}. Best is trial 0 with value: 0.8299180999828092.\n",
      "/Users/thienla/ba_venv/lib/python3.11/site-packages/lightgbm/engine.py:186: LGBMDeprecationWarning: Argument 'categorical_feature' to train() is deprecated and will be removed in a future release. Set 'categorical_feature' when calling lightgbm.Dataset() instead. See https://github.com/microsoft/LightGBM/issues/6435.\n",
      "  _emit_dataset_kwarg_warning(\"train\", \"categorical_feature\")\n",
      "[I 2024-12-09 17:29:41,343] Trial 64 pruned. Trial was pruned at iteration 0.\n"
     ]
    },
    {
     "name": "stdout",
     "output_type": "stream",
     "text": [
      "Early stopping, best iteration is:\n",
      "[26]\tvalid_0's auc: 0.829432\n"
     ]
    },
    {
     "name": "stderr",
     "output_type": "stream",
     "text": [
      "/Users/thienla/ba_venv/lib/python3.11/site-packages/lightgbm/engine.py:186: LGBMDeprecationWarning: Argument 'categorical_feature' to train() is deprecated and will be removed in a future release. Set 'categorical_feature' when calling lightgbm.Dataset() instead. See https://github.com/microsoft/LightGBM/issues/6435.\n",
      "  _emit_dataset_kwarg_warning(\"train\", \"categorical_feature\")\n",
      "[I 2024-12-09 17:29:41,488] Trial 65 pruned. Trial was pruned at iteration 0.\n",
      "/Users/thienla/ba_venv/lib/python3.11/site-packages/lightgbm/engine.py:186: LGBMDeprecationWarning: Argument 'categorical_feature' to train() is deprecated and will be removed in a future release. Set 'categorical_feature' when calling lightgbm.Dataset() instead. See https://github.com/microsoft/LightGBM/issues/6435.\n",
      "  _emit_dataset_kwarg_warning(\"train\", \"categorical_feature\")\n",
      "[I 2024-12-09 17:29:41,661] Trial 66 pruned. Trial was pruned at iteration 6.\n",
      "/Users/thienla/ba_venv/lib/python3.11/site-packages/lightgbm/engine.py:186: LGBMDeprecationWarning: Argument 'categorical_feature' to train() is deprecated and will be removed in a future release. Set 'categorical_feature' when calling lightgbm.Dataset() instead. See https://github.com/microsoft/LightGBM/issues/6435.\n",
      "  _emit_dataset_kwarg_warning(\"train\", \"categorical_feature\")\n",
      "[I 2024-12-09 17:29:41,803] Trial 67 pruned. Trial was pruned at iteration 0.\n"
     ]
    },
    {
     "name": "stdout",
     "output_type": "stream",
     "text": [
      "Training until validation scores don't improve for 5 rounds\n"
     ]
    },
    {
     "name": "stderr",
     "output_type": "stream",
     "text": [
      "/Users/thienla/ba_venv/lib/python3.11/site-packages/lightgbm/engine.py:186: LGBMDeprecationWarning: Argument 'categorical_feature' to train() is deprecated and will be removed in a future release. Set 'categorical_feature' when calling lightgbm.Dataset() instead. See https://github.com/microsoft/LightGBM/issues/6435.\n",
      "  _emit_dataset_kwarg_warning(\"train\", \"categorical_feature\")\n",
      "[I 2024-12-09 17:29:41,939] Trial 68 pruned. Trial was pruned at iteration 0.\n",
      "/Users/thienla/ba_venv/lib/python3.11/site-packages/lightgbm/engine.py:186: LGBMDeprecationWarning: Argument 'categorical_feature' to train() is deprecated and will be removed in a future release. Set 'categorical_feature' when calling lightgbm.Dataset() instead. See https://github.com/microsoft/LightGBM/issues/6435.\n",
      "  _emit_dataset_kwarg_warning(\"train\", \"categorical_feature\")\n",
      "[I 2024-12-09 17:29:42,076] Trial 69 pruned. Trial was pruned at iteration 0.\n",
      "/Users/thienla/ba_venv/lib/python3.11/site-packages/lightgbm/engine.py:186: LGBMDeprecationWarning: Argument 'categorical_feature' to train() is deprecated and will be removed in a future release. Set 'categorical_feature' when calling lightgbm.Dataset() instead. See https://github.com/microsoft/LightGBM/issues/6435.\n",
      "  _emit_dataset_kwarg_warning(\"train\", \"categorical_feature\")\n"
     ]
    },
    {
     "name": "stdout",
     "output_type": "stream",
     "text": [
      "Training until validation scores don't improve for 5 rounds\n",
      "Early stopping, best iteration is:\n",
      "[27]\tvalid_0's auc: 0.83301\n",
      "Training until validation scores don't improve for 5 rounds\n"
     ]
    },
    {
     "name": "stderr",
     "output_type": "stream",
     "text": [
      "/Users/thienla/ba_venv/lib/python3.11/site-packages/lightgbm/engine.py:186: LGBMDeprecationWarning: Argument 'categorical_feature' to train() is deprecated and will be removed in a future release. Set 'categorical_feature' when calling lightgbm.Dataset() instead. See https://github.com/microsoft/LightGBM/issues/6435.\n",
      "  _emit_dataset_kwarg_warning(\"train\", \"categorical_feature\")\n"
     ]
    },
    {
     "name": "stdout",
     "output_type": "stream",
     "text": [
      "Early stopping, best iteration is:\n",
      "[32]\tvalid_0's auc: 0.824146\n",
      "Training until validation scores don't improve for 5 rounds\n"
     ]
    },
    {
     "name": "stderr",
     "output_type": "stream",
     "text": [
      "/Users/thienla/ba_venv/lib/python3.11/site-packages/lightgbm/engine.py:186: LGBMDeprecationWarning: Argument 'categorical_feature' to train() is deprecated and will be removed in a future release. Set 'categorical_feature' when calling lightgbm.Dataset() instead. See https://github.com/microsoft/LightGBM/issues/6435.\n",
      "  _emit_dataset_kwarg_warning(\"train\", \"categorical_feature\")\n"
     ]
    },
    {
     "name": "stdout",
     "output_type": "stream",
     "text": [
      "Early stopping, best iteration is:\n",
      "[28]\tvalid_0's auc: 0.829812\n",
      "Training until validation scores don't improve for 5 rounds\n"
     ]
    },
    {
     "name": "stderr",
     "output_type": "stream",
     "text": [
      "/Users/thienla/ba_venv/lib/python3.11/site-packages/lightgbm/engine.py:186: LGBMDeprecationWarning: Argument 'categorical_feature' to train() is deprecated and will be removed in a future release. Set 'categorical_feature' when calling lightgbm.Dataset() instead. See https://github.com/microsoft/LightGBM/issues/6435.\n",
      "  _emit_dataset_kwarg_warning(\"train\", \"categorical_feature\")\n"
     ]
    },
    {
     "name": "stdout",
     "output_type": "stream",
     "text": [
      "Early stopping, best iteration is:\n",
      "[23]\tvalid_0's auc: 0.829937\n",
      "Training until validation scores don't improve for 5 rounds\n"
     ]
    },
    {
     "name": "stderr",
     "output_type": "stream",
     "text": [
      "/Users/thienla/ba_venv/lib/python3.11/site-packages/lightgbm/engine.py:186: LGBMDeprecationWarning: Argument 'categorical_feature' to train() is deprecated and will be removed in a future release. Set 'categorical_feature' when calling lightgbm.Dataset() instead. See https://github.com/microsoft/LightGBM/issues/6435.\n",
      "  _emit_dataset_kwarg_warning(\"train\", \"categorical_feature\")\n",
      "[I 2024-12-09 17:29:43,873] Trial 70 finished with value: 0.8294150834277767 and parameters: {'learning_rate': 0.21000000000000002, 'num_leaves': 145, 'max_depth': 7, 'min_data_in_leaf': 700, 'lambda_l1': 1.8146208097540097e-05, 'lambda_l2': 0.0005259351999611559, 'bagging_fraction': 1.0, 'bagging_freq': 5, 'feature_fraction': 1.0, 'is_unbalance': True}. Best is trial 0 with value: 0.8299180999828092.\n"
     ]
    },
    {
     "name": "stdout",
     "output_type": "stream",
     "text": [
      "Early stopping, best iteration is:\n",
      "[33]\tvalid_0's auc: 0.83017\n",
      "Training until validation scores don't improve for 5 rounds\n"
     ]
    },
    {
     "name": "stderr",
     "output_type": "stream",
     "text": [
      "/Users/thienla/ba_venv/lib/python3.11/site-packages/lightgbm/engine.py:186: LGBMDeprecationWarning: Argument 'categorical_feature' to train() is deprecated and will be removed in a future release. Set 'categorical_feature' when calling lightgbm.Dataset() instead. See https://github.com/microsoft/LightGBM/issues/6435.\n",
      "  _emit_dataset_kwarg_warning(\"train\", \"categorical_feature\")\n"
     ]
    },
    {
     "name": "stdout",
     "output_type": "stream",
     "text": [
      "Early stopping, best iteration is:\n",
      "[37]\tvalid_0's auc: 0.833249\n",
      "Training until validation scores don't improve for 5 rounds\n"
     ]
    },
    {
     "name": "stderr",
     "output_type": "stream",
     "text": [
      "/Users/thienla/ba_venv/lib/python3.11/site-packages/lightgbm/engine.py:186: LGBMDeprecationWarning: Argument 'categorical_feature' to train() is deprecated and will be removed in a future release. Set 'categorical_feature' when calling lightgbm.Dataset() instead. See https://github.com/microsoft/LightGBM/issues/6435.\n",
      "  _emit_dataset_kwarg_warning(\"train\", \"categorical_feature\")\n"
     ]
    },
    {
     "name": "stdout",
     "output_type": "stream",
     "text": [
      "Early stopping, best iteration is:\n",
      "[36]\tvalid_0's auc: 0.824508\n",
      "Training until validation scores don't improve for 5 rounds\n"
     ]
    },
    {
     "name": "stderr",
     "output_type": "stream",
     "text": [
      "/Users/thienla/ba_venv/lib/python3.11/site-packages/lightgbm/engine.py:186: LGBMDeprecationWarning: Argument 'categorical_feature' to train() is deprecated and will be removed in a future release. Set 'categorical_feature' when calling lightgbm.Dataset() instead. See https://github.com/microsoft/LightGBM/issues/6435.\n",
      "  _emit_dataset_kwarg_warning(\"train\", \"categorical_feature\")\n"
     ]
    },
    {
     "name": "stdout",
     "output_type": "stream",
     "text": [
      "Early stopping, best iteration is:\n",
      "[27]\tvalid_0's auc: 0.829724\n",
      "Training until validation scores don't improve for 5 rounds\n"
     ]
    },
    {
     "name": "stderr",
     "output_type": "stream",
     "text": [
      "/Users/thienla/ba_venv/lib/python3.11/site-packages/lightgbm/engine.py:186: LGBMDeprecationWarning: Argument 'categorical_feature' to train() is deprecated and will be removed in a future release. Set 'categorical_feature' when calling lightgbm.Dataset() instead. See https://github.com/microsoft/LightGBM/issues/6435.\n",
      "  _emit_dataset_kwarg_warning(\"train\", \"categorical_feature\")\n"
     ]
    },
    {
     "name": "stdout",
     "output_type": "stream",
     "text": [
      "Early stopping, best iteration is:\n",
      "[23]\tvalid_0's auc: 0.830145\n",
      "Training until validation scores don't improve for 5 rounds\n"
     ]
    },
    {
     "name": "stderr",
     "output_type": "stream",
     "text": [
      "/Users/thienla/ba_venv/lib/python3.11/site-packages/lightgbm/engine.py:186: LGBMDeprecationWarning: Argument 'categorical_feature' to train() is deprecated and will be removed in a future release. Set 'categorical_feature' when calling lightgbm.Dataset() instead. See https://github.com/microsoft/LightGBM/issues/6435.\n",
      "  _emit_dataset_kwarg_warning(\"train\", \"categorical_feature\")\n",
      "[I 2024-12-09 17:29:45,892] Trial 71 finished with value: 0.8295417742560808 and parameters: {'learning_rate': 0.21000000000000002, 'num_leaves': 135, 'max_depth': 7, 'min_data_in_leaf': 700, 'lambda_l1': 0.005112952518852122, 'lambda_l2': 0.006940538067424893, 'bagging_fraction': 1.0, 'bagging_freq': 5, 'feature_fraction': 1.0, 'is_unbalance': True}. Best is trial 0 with value: 0.8299180999828092.\n"
     ]
    },
    {
     "name": "stdout",
     "output_type": "stream",
     "text": [
      "Early stopping, best iteration is:\n",
      "[27]\tvalid_0's auc: 0.830083\n",
      "Training until validation scores don't improve for 5 rounds\n"
     ]
    },
    {
     "name": "stderr",
     "output_type": "stream",
     "text": [
      "/Users/thienla/ba_venv/lib/python3.11/site-packages/lightgbm/engine.py:186: LGBMDeprecationWarning: Argument 'categorical_feature' to train() is deprecated and will be removed in a future release. Set 'categorical_feature' when calling lightgbm.Dataset() instead. See https://github.com/microsoft/LightGBM/issues/6435.\n",
      "  _emit_dataset_kwarg_warning(\"train\", \"categorical_feature\")\n",
      "[I 2024-12-09 17:29:46,224] Trial 72 pruned. Trial was pruned at iteration 23.\n",
      "/Users/thienla/ba_venv/lib/python3.11/site-packages/lightgbm/engine.py:186: LGBMDeprecationWarning: Argument 'categorical_feature' to train() is deprecated and will be removed in a future release. Set 'categorical_feature' when calling lightgbm.Dataset() instead. See https://github.com/microsoft/LightGBM/issues/6435.\n",
      "  _emit_dataset_kwarg_warning(\"train\", \"categorical_feature\")\n"
     ]
    },
    {
     "name": "stdout",
     "output_type": "stream",
     "text": [
      "Training until validation scores don't improve for 5 rounds\n",
      "Early stopping, best iteration is:\n",
      "[37]\tvalid_0's auc: 0.833249\n",
      "Training until validation scores don't improve for 5 rounds\n"
     ]
    },
    {
     "name": "stderr",
     "output_type": "stream",
     "text": [
      "/Users/thienla/ba_venv/lib/python3.11/site-packages/lightgbm/engine.py:186: LGBMDeprecationWarning: Argument 'categorical_feature' to train() is deprecated and will be removed in a future release. Set 'categorical_feature' when calling lightgbm.Dataset() instead. See https://github.com/microsoft/LightGBM/issues/6435.\n",
      "  _emit_dataset_kwarg_warning(\"train\", \"categorical_feature\")\n"
     ]
    },
    {
     "name": "stdout",
     "output_type": "stream",
     "text": [
      "Early stopping, best iteration is:\n",
      "[34]\tvalid_0's auc: 0.824527\n",
      "Training until validation scores don't improve for 5 rounds\n"
     ]
    },
    {
     "name": "stderr",
     "output_type": "stream",
     "text": [
      "/Users/thienla/ba_venv/lib/python3.11/site-packages/lightgbm/engine.py:186: LGBMDeprecationWarning: Argument 'categorical_feature' to train() is deprecated and will be removed in a future release. Set 'categorical_feature' when calling lightgbm.Dataset() instead. See https://github.com/microsoft/LightGBM/issues/6435.\n",
      "  _emit_dataset_kwarg_warning(\"train\", \"categorical_feature\")\n"
     ]
    },
    {
     "name": "stdout",
     "output_type": "stream",
     "text": [
      "Early stopping, best iteration is:\n",
      "[27]\tvalid_0's auc: 0.829724\n",
      "Training until validation scores don't improve for 5 rounds\n"
     ]
    },
    {
     "name": "stderr",
     "output_type": "stream",
     "text": [
      "/Users/thienla/ba_venv/lib/python3.11/site-packages/lightgbm/engine.py:186: LGBMDeprecationWarning: Argument 'categorical_feature' to train() is deprecated and will be removed in a future release. Set 'categorical_feature' when calling lightgbm.Dataset() instead. See https://github.com/microsoft/LightGBM/issues/6435.\n",
      "  _emit_dataset_kwarg_warning(\"train\", \"categorical_feature\")\n"
     ]
    },
    {
     "name": "stdout",
     "output_type": "stream",
     "text": [
      "Early stopping, best iteration is:\n",
      "[23]\tvalid_0's auc: 0.830145\n",
      "Training until validation scores don't improve for 5 rounds\n"
     ]
    },
    {
     "name": "stderr",
     "output_type": "stream",
     "text": [
      "/Users/thienla/ba_venv/lib/python3.11/site-packages/lightgbm/engine.py:186: LGBMDeprecationWarning: Argument 'categorical_feature' to train() is deprecated and will be removed in a future release. Set 'categorical_feature' when calling lightgbm.Dataset() instead. See https://github.com/microsoft/LightGBM/issues/6435.\n",
      "  _emit_dataset_kwarg_warning(\"train\", \"categorical_feature\")\n",
      "[I 2024-12-09 17:29:48,468] Trial 73 finished with value: 0.8295454482296378 and parameters: {'learning_rate': 0.21000000000000002, 'num_leaves': 130, 'max_depth': 7, 'min_data_in_leaf': 700, 'lambda_l1': 0.004266291869880052, 'lambda_l2': 0.0029457447229353146, 'bagging_fraction': 1.0, 'bagging_freq': 5, 'feature_fraction': 1.0, 'is_unbalance': True}. Best is trial 0 with value: 0.8299180999828092.\n"
     ]
    },
    {
     "name": "stdout",
     "output_type": "stream",
     "text": [
      "Early stopping, best iteration is:\n",
      "[27]\tvalid_0's auc: 0.830083\n",
      "Training until validation scores don't improve for 5 rounds\n"
     ]
    },
    {
     "name": "stderr",
     "output_type": "stream",
     "text": [
      "/Users/thienla/ba_venv/lib/python3.11/site-packages/lightgbm/engine.py:186: LGBMDeprecationWarning: Argument 'categorical_feature' to train() is deprecated and will be removed in a future release. Set 'categorical_feature' when calling lightgbm.Dataset() instead. See https://github.com/microsoft/LightGBM/issues/6435.\n",
      "  _emit_dataset_kwarg_warning(\"train\", \"categorical_feature\")\n",
      "[I 2024-12-09 17:29:48,690] Trial 74 pruned. Trial was pruned at iteration 3.\n",
      "/Users/thienla/ba_venv/lib/python3.11/site-packages/lightgbm/engine.py:186: LGBMDeprecationWarning: Argument 'categorical_feature' to train() is deprecated and will be removed in a future release. Set 'categorical_feature' when calling lightgbm.Dataset() instead. See https://github.com/microsoft/LightGBM/issues/6435.\n",
      "  _emit_dataset_kwarg_warning(\"train\", \"categorical_feature\")\n",
      "[I 2024-12-09 17:29:48,831] Trial 75 pruned. Trial was pruned at iteration 0.\n",
      "/Users/thienla/ba_venv/lib/python3.11/site-packages/lightgbm/engine.py:186: LGBMDeprecationWarning: Argument 'categorical_feature' to train() is deprecated and will be removed in a future release. Set 'categorical_feature' when calling lightgbm.Dataset() instead. See https://github.com/microsoft/LightGBM/issues/6435.\n",
      "  _emit_dataset_kwarg_warning(\"train\", \"categorical_feature\")\n",
      "[I 2024-12-09 17:29:48,982] Trial 76 pruned. Trial was pruned at iteration 0.\n",
      "/Users/thienla/ba_venv/lib/python3.11/site-packages/lightgbm/engine.py:186: LGBMDeprecationWarning: Argument 'categorical_feature' to train() is deprecated and will be removed in a future release. Set 'categorical_feature' when calling lightgbm.Dataset() instead. See https://github.com/microsoft/LightGBM/issues/6435.\n",
      "  _emit_dataset_kwarg_warning(\"train\", \"categorical_feature\")\n",
      "[I 2024-12-09 17:29:49,136] Trial 77 pruned. Trial was pruned at iteration 0.\n",
      "/Users/thienla/ba_venv/lib/python3.11/site-packages/lightgbm/engine.py:186: LGBMDeprecationWarning: Argument 'categorical_feature' to train() is deprecated and will be removed in a future release. Set 'categorical_feature' when calling lightgbm.Dataset() instead. See https://github.com/microsoft/LightGBM/issues/6435.\n",
      "  _emit_dataset_kwarg_warning(\"train\", \"categorical_feature\")\n",
      "[I 2024-12-09 17:29:49,270] Trial 78 pruned. Trial was pruned at iteration 0.\n",
      "/Users/thienla/ba_venv/lib/python3.11/site-packages/lightgbm/engine.py:186: LGBMDeprecationWarning: Argument 'categorical_feature' to train() is deprecated and will be removed in a future release. Set 'categorical_feature' when calling lightgbm.Dataset() instead. See https://github.com/microsoft/LightGBM/issues/6435.\n",
      "  _emit_dataset_kwarg_warning(\"train\", \"categorical_feature\")\n",
      "[I 2024-12-09 17:29:49,432] Trial 79 pruned. Trial was pruned at iteration 0.\n",
      "/Users/thienla/ba_venv/lib/python3.11/site-packages/lightgbm/engine.py:186: LGBMDeprecationWarning: Argument 'categorical_feature' to train() is deprecated and will be removed in a future release. Set 'categorical_feature' when calling lightgbm.Dataset() instead. See https://github.com/microsoft/LightGBM/issues/6435.\n",
      "  _emit_dataset_kwarg_warning(\"train\", \"categorical_feature\")\n",
      "[I 2024-12-09 17:29:49,622] Trial 80 pruned. Trial was pruned at iteration 0.\n",
      "/Users/thienla/ba_venv/lib/python3.11/site-packages/lightgbm/engine.py:186: LGBMDeprecationWarning: Argument 'categorical_feature' to train() is deprecated and will be removed in a future release. Set 'categorical_feature' when calling lightgbm.Dataset() instead. See https://github.com/microsoft/LightGBM/issues/6435.\n",
      "  _emit_dataset_kwarg_warning(\"train\", \"categorical_feature\")\n",
      "[I 2024-12-09 17:29:49,768] Trial 81 pruned. Trial was pruned at iteration 2.\n",
      "/Users/thienla/ba_venv/lib/python3.11/site-packages/lightgbm/engine.py:186: LGBMDeprecationWarning: Argument 'categorical_feature' to train() is deprecated and will be removed in a future release. Set 'categorical_feature' when calling lightgbm.Dataset() instead. See https://github.com/microsoft/LightGBM/issues/6435.\n",
      "  _emit_dataset_kwarg_warning(\"train\", \"categorical_feature\")\n"
     ]
    },
    {
     "name": "stdout",
     "output_type": "stream",
     "text": [
      "Training until validation scores don't improve for 5 rounds\n",
      "Training until validation scores don't improve for 5 rounds\n",
      "Early stopping, best iteration is:\n",
      "[29]\tvalid_0's auc: 0.833203\n",
      "Training until validation scores don't improve for 5 rounds\n"
     ]
    },
    {
     "name": "stderr",
     "output_type": "stream",
     "text": [
      "/Users/thienla/ba_venv/lib/python3.11/site-packages/lightgbm/engine.py:186: LGBMDeprecationWarning: Argument 'categorical_feature' to train() is deprecated and will be removed in a future release. Set 'categorical_feature' when calling lightgbm.Dataset() instead. See https://github.com/microsoft/LightGBM/issues/6435.\n",
      "  _emit_dataset_kwarg_warning(\"train\", \"categorical_feature\")\n"
     ]
    },
    {
     "name": "stdout",
     "output_type": "stream",
     "text": [
      "Early stopping, best iteration is:\n",
      "[32]\tvalid_0's auc: 0.82448\n",
      "Training until validation scores don't improve for 5 rounds\n"
     ]
    },
    {
     "name": "stderr",
     "output_type": "stream",
     "text": [
      "/Users/thienla/ba_venv/lib/python3.11/site-packages/lightgbm/engine.py:186: LGBMDeprecationWarning: Argument 'categorical_feature' to train() is deprecated and will be removed in a future release. Set 'categorical_feature' when calling lightgbm.Dataset() instead. See https://github.com/microsoft/LightGBM/issues/6435.\n",
      "  _emit_dataset_kwarg_warning(\"train\", \"categorical_feature\")\n"
     ]
    },
    {
     "name": "stdout",
     "output_type": "stream",
     "text": [
      "Early stopping, best iteration is:\n",
      "[20]\tvalid_0's auc: 0.829884\n",
      "Training until validation scores don't improve for 5 rounds\n"
     ]
    },
    {
     "name": "stderr",
     "output_type": "stream",
     "text": [
      "/Users/thienla/ba_venv/lib/python3.11/site-packages/lightgbm/engine.py:186: LGBMDeprecationWarning: Argument 'categorical_feature' to train() is deprecated and will be removed in a future release. Set 'categorical_feature' when calling lightgbm.Dataset() instead. See https://github.com/microsoft/LightGBM/issues/6435.\n",
      "  _emit_dataset_kwarg_warning(\"train\", \"categorical_feature\")\n"
     ]
    },
    {
     "name": "stdout",
     "output_type": "stream",
     "text": [
      "Early stopping, best iteration is:\n",
      "[29]\tvalid_0's auc: 0.830139\n",
      "Training until validation scores don't improve for 5 rounds\n"
     ]
    },
    {
     "name": "stderr",
     "output_type": "stream",
     "text": [
      "/Users/thienla/ba_venv/lib/python3.11/site-packages/lightgbm/engine.py:186: LGBMDeprecationWarning: Argument 'categorical_feature' to train() is deprecated and will be removed in a future release. Set 'categorical_feature' when calling lightgbm.Dataset() instead. See https://github.com/microsoft/LightGBM/issues/6435.\n",
      "  _emit_dataset_kwarg_warning(\"train\", \"categorical_feature\")\n",
      "[I 2024-12-09 17:29:52,050] Trial 82 finished with value: 0.8295580312704651 and parameters: {'learning_rate': 0.21000000000000002, 'num_leaves': 130, 'max_depth': 7, 'min_data_in_leaf': 700, 'lambda_l1': 0.014785702939229721, 'lambda_l2': 0.011598167870750506, 'bagging_fraction': 1.0, 'bagging_freq': 5, 'feature_fraction': 1.0, 'is_unbalance': True}. Best is trial 0 with value: 0.8299180999828092.\n"
     ]
    },
    {
     "name": "stdout",
     "output_type": "stream",
     "text": [
      "Early stopping, best iteration is:\n",
      "[27]\tvalid_0's auc: 0.830084\n"
     ]
    },
    {
     "name": "stderr",
     "output_type": "stream",
     "text": [
      "/Users/thienla/ba_venv/lib/python3.11/site-packages/lightgbm/engine.py:186: LGBMDeprecationWarning: Argument 'categorical_feature' to train() is deprecated and will be removed in a future release. Set 'categorical_feature' when calling lightgbm.Dataset() instead. See https://github.com/microsoft/LightGBM/issues/6435.\n",
      "  _emit_dataset_kwarg_warning(\"train\", \"categorical_feature\")\n",
      "[I 2024-12-09 17:29:52,331] Trial 83 pruned. Trial was pruned at iteration 6.\n"
     ]
    },
    {
     "name": "stdout",
     "output_type": "stream",
     "text": [
      "Training until validation scores don't improve for 5 rounds\n"
     ]
    },
    {
     "name": "stderr",
     "output_type": "stream",
     "text": [
      "/Users/thienla/ba_venv/lib/python3.11/site-packages/lightgbm/engine.py:186: LGBMDeprecationWarning: Argument 'categorical_feature' to train() is deprecated and will be removed in a future release. Set 'categorical_feature' when calling lightgbm.Dataset() instead. See https://github.com/microsoft/LightGBM/issues/6435.\n",
      "  _emit_dataset_kwarg_warning(\"train\", \"categorical_feature\")\n"
     ]
    },
    {
     "name": "stdout",
     "output_type": "stream",
     "text": [
      "Training until validation scores don't improve for 5 rounds\n"
     ]
    },
    {
     "name": "stderr",
     "output_type": "stream",
     "text": [
      "[I 2024-12-09 17:29:52,727] Trial 84 pruned. Trial was pruned at iteration 24.\n",
      "/Users/thienla/ba_venv/lib/python3.11/site-packages/lightgbm/engine.py:186: LGBMDeprecationWarning: Argument 'categorical_feature' to train() is deprecated and will be removed in a future release. Set 'categorical_feature' when calling lightgbm.Dataset() instead. See https://github.com/microsoft/LightGBM/issues/6435.\n",
      "  _emit_dataset_kwarg_warning(\"train\", \"categorical_feature\")\n",
      "[I 2024-12-09 17:29:52,871] Trial 85 pruned. Trial was pruned at iteration 0.\n",
      "/Users/thienla/ba_venv/lib/python3.11/site-packages/lightgbm/engine.py:186: LGBMDeprecationWarning: Argument 'categorical_feature' to train() is deprecated and will be removed in a future release. Set 'categorical_feature' when calling lightgbm.Dataset() instead. See https://github.com/microsoft/LightGBM/issues/6435.\n",
      "  _emit_dataset_kwarg_warning(\"train\", \"categorical_feature\")\n",
      "[I 2024-12-09 17:29:53,043] Trial 86 pruned. Trial was pruned at iteration 1.\n",
      "/Users/thienla/ba_venv/lib/python3.11/site-packages/lightgbm/engine.py:186: LGBMDeprecationWarning: Argument 'categorical_feature' to train() is deprecated and will be removed in a future release. Set 'categorical_feature' when calling lightgbm.Dataset() instead. See https://github.com/microsoft/LightGBM/issues/6435.\n",
      "  _emit_dataset_kwarg_warning(\"train\", \"categorical_feature\")\n",
      "[I 2024-12-09 17:29:53,185] Trial 87 pruned. Trial was pruned at iteration 0.\n"
     ]
    },
    {
     "name": "stdout",
     "output_type": "stream",
     "text": [
      "Training until validation scores don't improve for 5 rounds\n"
     ]
    },
    {
     "name": "stderr",
     "output_type": "stream",
     "text": [
      "/Users/thienla/ba_venv/lib/python3.11/site-packages/lightgbm/engine.py:186: LGBMDeprecationWarning: Argument 'categorical_feature' to train() is deprecated and will be removed in a future release. Set 'categorical_feature' when calling lightgbm.Dataset() instead. See https://github.com/microsoft/LightGBM/issues/6435.\n",
      "  _emit_dataset_kwarg_warning(\"train\", \"categorical_feature\")\n"
     ]
    },
    {
     "name": "stdout",
     "output_type": "stream",
     "text": [
      "Training until validation scores don't improve for 5 rounds\n"
     ]
    },
    {
     "name": "stderr",
     "output_type": "stream",
     "text": [
      "[I 2024-12-09 17:29:53,540] Trial 88 pruned. Trial was pruned at iteration 21.\n",
      "/Users/thienla/ba_venv/lib/python3.11/site-packages/lightgbm/engine.py:186: LGBMDeprecationWarning: Argument 'categorical_feature' to train() is deprecated and will be removed in a future release. Set 'categorical_feature' when calling lightgbm.Dataset() instead. See https://github.com/microsoft/LightGBM/issues/6435.\n",
      "  _emit_dataset_kwarg_warning(\"train\", \"categorical_feature\")\n",
      "[I 2024-12-09 17:29:53,692] Trial 89 pruned. Trial was pruned at iteration 0.\n",
      "/Users/thienla/ba_venv/lib/python3.11/site-packages/lightgbm/engine.py:186: LGBMDeprecationWarning: Argument 'categorical_feature' to train() is deprecated and will be removed in a future release. Set 'categorical_feature' when calling lightgbm.Dataset() instead. See https://github.com/microsoft/LightGBM/issues/6435.\n",
      "  _emit_dataset_kwarg_warning(\"train\", \"categorical_feature\")\n",
      "[I 2024-12-09 17:29:53,842] Trial 90 pruned. Trial was pruned at iteration 0.\n",
      "/Users/thienla/ba_venv/lib/python3.11/site-packages/lightgbm/engine.py:186: LGBMDeprecationWarning: Argument 'categorical_feature' to train() is deprecated and will be removed in a future release. Set 'categorical_feature' when calling lightgbm.Dataset() instead. See https://github.com/microsoft/LightGBM/issues/6435.\n",
      "  _emit_dataset_kwarg_warning(\"train\", \"categorical_feature\")\n",
      "[I 2024-12-09 17:29:54,025] Trial 91 pruned. Trial was pruned at iteration 3.\n",
      "/Users/thienla/ba_venv/lib/python3.11/site-packages/lightgbm/engine.py:186: LGBMDeprecationWarning: Argument 'categorical_feature' to train() is deprecated and will be removed in a future release. Set 'categorical_feature' when calling lightgbm.Dataset() instead. See https://github.com/microsoft/LightGBM/issues/6435.\n",
      "  _emit_dataset_kwarg_warning(\"train\", \"categorical_feature\")\n",
      "[I 2024-12-09 17:29:54,176] Trial 92 pruned. Trial was pruned at iteration 2.\n"
     ]
    },
    {
     "name": "stdout",
     "output_type": "stream",
     "text": [
      "Training until validation scores don't improve for 5 rounds\n",
      "Training until validation scores don't improve for 5 rounds\n"
     ]
    },
    {
     "name": "stderr",
     "output_type": "stream",
     "text": [
      "/Users/thienla/ba_venv/lib/python3.11/site-packages/lightgbm/engine.py:186: LGBMDeprecationWarning: Argument 'categorical_feature' to train() is deprecated and will be removed in a future release. Set 'categorical_feature' when calling lightgbm.Dataset() instead. See https://github.com/microsoft/LightGBM/issues/6435.\n",
      "  _emit_dataset_kwarg_warning(\"train\", \"categorical_feature\")\n",
      "[I 2024-12-09 17:29:54,413] Trial 93 pruned. Trial was pruned at iteration 7.\n"
     ]
    },
    {
     "name": "stdout",
     "output_type": "stream",
     "text": [
      "Training until validation scores don't improve for 5 rounds\n"
     ]
    },
    {
     "name": "stderr",
     "output_type": "stream",
     "text": [
      "/Users/thienla/ba_venv/lib/python3.11/site-packages/lightgbm/engine.py:186: LGBMDeprecationWarning: Argument 'categorical_feature' to train() is deprecated and will be removed in a future release. Set 'categorical_feature' when calling lightgbm.Dataset() instead. See https://github.com/microsoft/LightGBM/issues/6435.\n",
      "  _emit_dataset_kwarg_warning(\"train\", \"categorical_feature\")\n",
      "[I 2024-12-09 17:29:54,551] Trial 94 pruned. Trial was pruned at iteration 0.\n",
      "/Users/thienla/ba_venv/lib/python3.11/site-packages/lightgbm/engine.py:186: LGBMDeprecationWarning: Argument 'categorical_feature' to train() is deprecated and will be removed in a future release. Set 'categorical_feature' when calling lightgbm.Dataset() instead. See https://github.com/microsoft/LightGBM/issues/6435.\n",
      "  _emit_dataset_kwarg_warning(\"train\", \"categorical_feature\")\n",
      "[I 2024-12-09 17:29:54,771] Trial 95 pruned. Trial was pruned at iteration 3.\n"
     ]
    },
    {
     "name": "stdout",
     "output_type": "stream",
     "text": [
      "Training until validation scores don't improve for 5 rounds\n"
     ]
    },
    {
     "name": "stderr",
     "output_type": "stream",
     "text": [
      "/Users/thienla/ba_venv/lib/python3.11/site-packages/lightgbm/engine.py:186: LGBMDeprecationWarning: Argument 'categorical_feature' to train() is deprecated and will be removed in a future release. Set 'categorical_feature' when calling lightgbm.Dataset() instead. See https://github.com/microsoft/LightGBM/issues/6435.\n",
      "  _emit_dataset_kwarg_warning(\"train\", \"categorical_feature\")\n",
      "[I 2024-12-09 17:29:54,925] Trial 96 pruned. Trial was pruned at iteration 0.\n",
      "/Users/thienla/ba_venv/lib/python3.11/site-packages/lightgbm/engine.py:186: LGBMDeprecationWarning: Argument 'categorical_feature' to train() is deprecated and will be removed in a future release. Set 'categorical_feature' when calling lightgbm.Dataset() instead. See https://github.com/microsoft/LightGBM/issues/6435.\n",
      "  _emit_dataset_kwarg_warning(\"train\", \"categorical_feature\")\n",
      "[I 2024-12-09 17:29:55,093] Trial 97 pruned. Trial was pruned at iteration 1.\n",
      "/Users/thienla/ba_venv/lib/python3.11/site-packages/lightgbm/engine.py:186: LGBMDeprecationWarning: Argument 'categorical_feature' to train() is deprecated and will be removed in a future release. Set 'categorical_feature' when calling lightgbm.Dataset() instead. See https://github.com/microsoft/LightGBM/issues/6435.\n",
      "  _emit_dataset_kwarg_warning(\"train\", \"categorical_feature\")\n",
      "[I 2024-12-09 17:29:55,229] Trial 98 pruned. Trial was pruned at iteration 0.\n"
     ]
    },
    {
     "name": "stdout",
     "output_type": "stream",
     "text": [
      "Training until validation scores don't improve for 5 rounds\n"
     ]
    },
    {
     "name": "stderr",
     "output_type": "stream",
     "text": [
      "/Users/thienla/ba_venv/lib/python3.11/site-packages/lightgbm/engine.py:186: LGBMDeprecationWarning: Argument 'categorical_feature' to train() is deprecated and will be removed in a future release. Set 'categorical_feature' when calling lightgbm.Dataset() instead. See https://github.com/microsoft/LightGBM/issues/6435.\n",
      "  _emit_dataset_kwarg_warning(\"train\", \"categorical_feature\")\n",
      "[I 2024-12-09 17:29:55,372] Trial 99 pruned. Trial was pruned at iteration 0.\n"
     ]
    }
   ],
   "source": [
    "study = optuna.create_study(direction=\"maximize\", study_name=\"LGBM Classifier\")\n",
    "func = lambda trial: objective(trial, X_train, y_train)\n",
    "study.optimize(func, n_trials=100)"
   ]
  },
  {
   "cell_type": "code",
   "execution_count": 16,
   "metadata": {},
   "outputs": [
    {
     "name": "stdout",
     "output_type": "stream",
     "text": [
      "\tBest value (AUC): 0.82992\n",
      "\tBest params:\n",
      "\t\tlearning_rate: 0.11\n",
      "\t\tnum_leaves: 60\n",
      "\t\tmax_depth: 9\n",
      "\t\tmin_data_in_leaf: 1000\n",
      "\t\tlambda_l1: 2.7746339916922e-05\n",
      "\t\tlambda_l2: 0.00020954551165614708\n",
      "\t\tbagging_fraction: 1.0\n",
      "\t\tbagging_freq: 5\n",
      "\t\tfeature_fraction: 1.0\n",
      "\t\tis_unbalance: True\n",
      "Best model best_iteration: 47.6\n"
     ]
    }
   ],
   "source": [
    "print(f\"\\tBest value (AUC): {study.best_value:.5f}\")\n",
    "print(f\"\\tBest params:\")\n",
    "\n",
    "for key, value in study.best_params.items():\n",
    "    print(f\"\\t\\t{key}: {value}\")\n",
    "\n",
    "print(\"Best model best_iteration:\", study_model_iteractions[study.best_trial.number])"
   ]
  },
  {
   "cell_type": "code",
   "execution_count": 17,
   "metadata": {},
   "outputs": [
    {
     "name": "stdout",
     "output_type": "stream",
     "text": [
      "{'verbose': -1, 'objective': 'binary', 'metric': 'auc', 'learning_rate': 0.11, 'num_leaves': 60, 'max_depth': 9, 'min_data_in_leaf': 1000, 'lambda_l1': 2.7746339916922e-05, 'lambda_l2': 0.00020954551165614708, 'bagging_fraction': 1.0, 'bagging_freq': 5, 'feature_fraction': 1.0, 'is_unbalance': True, 'num_iterations': 47}\n"
     ]
    }
   ],
   "source": [
    "best_params = {\"verbose\": -1,\n",
    "                \"objective\":\"binary\",\n",
    "                \"metric\":\"auc\"\n",
    "            }\n",
    "for key,val in study.best_params.items():\n",
    "    best_params[key] = val\n",
    "\n",
    "best_params[\"num_iterations\"] = int(study_model_iteractions[study.best_trial.number])\n",
    "print(best_params)"
   ]
  },
  {
   "attachments": {},
   "cell_type": "markdown",
   "metadata": {},
   "source": [
    "#### Train LightGBM Best Parameters"
   ]
  },
  {
   "cell_type": "code",
   "execution_count": 18,
   "metadata": {},
   "outputs": [],
   "source": [
    "train_data = lgb.Dataset(data=X_train, label=y_train, params={\"verbose\":-1}, categorical_feature=categorical_columns)\n",
    "test_data = lgb.Dataset(data=X_test, label=y_test, params={\"verbose\":-1}, categorical_feature=categorical_columns)\n",
    "best_lgb = lgb.train(params=best_params,\n",
    "                    train_set=train_data) "
   ]
  },
  {
   "cell_type": "code",
   "execution_count": 19,
   "metadata": {},
   "outputs": [
    {
     "name": "stdout",
     "output_type": "stream",
     "text": [
      "AUC score on Test dataset: 0.8296202804787243\n",
      "AUC score on Train dataset: 0.8382715548697526\n"
     ]
    }
   ],
   "source": [
    "print(\"AUC score on Test dataset:\", roc_auc_score(y_test, best_lgb.predict(X_test)))\n",
    "print(\"AUC score on Train dataset:\", roc_auc_score(y_train, best_lgb.predict(X_train)))"
   ]
  },
  {
   "attachments": {},
   "cell_type": "markdown",
   "metadata": {},
   "source": [
    "#### Summary\n",
    "\n",
    "I got only very small improvement in AUC on Testing dataset after model tuning. However, even 1% improvement in the AUC just by tuning hyper-parameters is significant."
   ]
  }
 ],
 "metadata": {
  "kernelspec": {
   "display_name": "ba_venv",
   "language": "python",
   "name": "ba_venv"
  },
  "language_info": {
   "codemirror_mode": {
    "name": "ipython",
    "version": 3
   },
   "file_extension": ".py",
   "mimetype": "text/x-python",
   "name": "python",
   "nbconvert_exporter": "python",
   "pygments_lexer": "ipython3",
   "version": "3.11.7"
  },
  "orig_nbformat": 4
 },
 "nbformat": 4,
 "nbformat_minor": 2
}
