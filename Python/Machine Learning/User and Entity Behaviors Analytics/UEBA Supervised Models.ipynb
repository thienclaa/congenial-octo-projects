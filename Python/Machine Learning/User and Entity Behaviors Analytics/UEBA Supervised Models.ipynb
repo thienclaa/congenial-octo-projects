{
 "cells": [
  {
   "cell_type": "markdown",
   "metadata": {},
   "source": [
    "## User and Entity Behaviors Analytics\n",
    "\n",
    "### Supervised Learning Models for Binary Outcomes"
   ]
  },
  {
   "cell_type": "code",
   "execution_count": 76,
   "metadata": {},
   "outputs": [],
   "source": [
    "import pandas as pd\n",
    "import numpy as np\n",
    "import matplotlib.pyplot as plt\n",
    "from matplotlib import pyplot\n",
    "\n",
    "\n",
    "def describe_more(df,normalize_ind=False, weight_column=None, skip_columns=[], dropna=True):\n",
    "    var = [] ; l = [] ; t = []; unq =[]; min_l = []; max_l = [];\n",
    "    assert isinstance(skip_columns, list), \"Argument skip_columns should be list\"\n",
    "    if weight_column is not None:\n",
    "        if weight_column not in list(df.columns):\n",
    "            raise AssertionError('weight_column is not a valid column name in the input DataFrame')\n",
    "      \n",
    "    for x in df:\n",
    "        if x in skip_columns:\n",
    "            pass\n",
    "        else:\n",
    "            var.append( x )\n",
    "            uniq_counts = len(pd.value_counts(df[x],dropna=dropna))\n",
    "            uniq_counts = len(pd.value_counts(df[x], dropna=dropna)[pd.value_counts(df[x],dropna=dropna)>0])\n",
    "            l.append(uniq_counts)\n",
    "            t.append( df[ x ].dtypes )\n",
    "            min_l.append(df[x].apply(str).str.len().min())\n",
    "            max_l.append(df[x].apply(str).str.len().max())\n",
    "            if weight_column is not None and x not in skip_columns:\n",
    "                df2 = df.groupby(x).agg({weight_column: 'sum'}).sort_values(weight_column, ascending=False)\n",
    "                df2['authtrans_vts_cnt']=((df2[weight_column])/df2[weight_column].sum()).round(2)\n",
    "                unq.append(df2.head(n=100).to_dict()[weight_column])\n",
    "            else:\n",
    "                df_cat_d = df[x].value_counts(normalize=normalize_ind,dropna=dropna).round(decimals=2)\n",
    "                df_cat_d = df_cat_d[df_cat_d>0]\n",
    "                #unq.append(df[x].value_counts().iloc[0:100].to_dict())\n",
    "                unq.append(df_cat_d.iloc[0:100].to_dict())\n",
    "            \n",
    "    levels = pd.DataFrame( { 'A_Variable' : var , 'Levels' : l , 'Datatype' : t ,\n",
    "                             'Min Length' : min_l,\n",
    "                             'Max Length': max_l,\n",
    "                             'Level_Values' : unq} )\n",
    "    #levels.sort_values( by = 'Levels' , inplace = True )\n",
    "    return levels"
   ]
  },
  {
   "cell_type": "markdown",
   "metadata": {},
   "source": [
    "### Data Preparation"
   ]
  },
  {
   "cell_type": "code",
   "execution_count": 2,
   "metadata": {},
   "outputs": [],
   "source": [
    "# Load data\n",
    "X_train = pd.read_csv('SCVIC-APT-2021-Training.csv')\n",
    "X_test = pd.read_csv('SCVIC-APT-2021-Testing.csv')"
   ]
  },
  {
   "cell_type": "code",
   "execution_count": 4,
   "metadata": {},
   "outputs": [
    {
     "name": "stdout",
     "output_type": "stream",
     "text": [
      "Train shape: (259120, 84)\n",
      "Test shape: (56487, 84)\n"
     ]
    }
   ],
   "source": [
    "print(\"Train shape:\", X_train.shape)\n",
    "print(\"Test shape:\", X_test.shape)"
   ]
  },
  {
   "cell_type": "code",
   "execution_count": 11,
   "metadata": {},
   "outputs": [
    {
     "name": "stdout",
     "output_type": "stream",
     "text": [
      "<class 'pandas.core.frame.DataFrame'>\n",
      "RangeIndex: 259120 entries, 0 to 259119\n",
      "Data columns (total 78 columns):\n",
      " #   Column                      Non-Null Count   Dtype  \n",
      "---  ------                      --------------   -----  \n",
      " 0   Flow ID                     259119 non-null  object \n",
      " 1   Flow Duration               259120 non-null  int64  \n",
      " 2   Total Fwd Packet            259120 non-null  int64  \n",
      " 3   Total Bwd packets           259120 non-null  int64  \n",
      " 4   Total Length of Fwd Packet  259120 non-null  float64\n",
      " 5   Total Length of Bwd Packet  259120 non-null  float64\n",
      " 6   Fwd Packet Length Max       259120 non-null  float64\n",
      " 7   Fwd Packet Length Min       259120 non-null  float64\n",
      " 8   Fwd Packet Length Mean      259120 non-null  float64\n",
      " 9   Fwd Packet Length Std       259120 non-null  float64\n",
      " 10  Bwd Packet Length Max       259120 non-null  float64\n",
      " 11  Bwd Packet Length Min       259120 non-null  float64\n",
      " 12  Bwd Packet Length Mean      259120 non-null  float64\n",
      " 13  Bwd Packet Length Std       259120 non-null  float64\n",
      " 14  Flow Bytes/s                257362 non-null  float64\n",
      " 15  Flow Packets/s              259120 non-null  float64\n",
      " 16  Flow IAT Mean               259120 non-null  float64\n",
      " 17  Flow IAT Std                259120 non-null  float64\n",
      " 18  Flow IAT Max                259120 non-null  float64\n",
      " 19  Flow IAT Min                259120 non-null  float64\n",
      " 20  Fwd IAT Total               259120 non-null  float64\n",
      " 21  Fwd IAT Mean                259120 non-null  float64\n",
      " 22  Fwd IAT Std                 259120 non-null  float64\n",
      " 23  Fwd IAT Max                 259120 non-null  float64\n",
      " 24  Fwd IAT Min                 259120 non-null  float64\n",
      " 25  Bwd IAT Total               259120 non-null  float64\n",
      " 26  Bwd IAT Mean                259120 non-null  float64\n",
      " 27  Bwd IAT Std                 259120 non-null  float64\n",
      " 28  Bwd IAT Max                 259120 non-null  float64\n",
      " 29  Bwd IAT Min                 259120 non-null  float64\n",
      " 30  Fwd PSH Flags               259120 non-null  int64  \n",
      " 31  Bwd PSH Flags               259120 non-null  int64  \n",
      " 32  Fwd URG Flags               259120 non-null  int64  \n",
      " 33  Bwd URG Flags               259120 non-null  int64  \n",
      " 34  Fwd Header Length           259120 non-null  int64  \n",
      " 35  Bwd Header Length           259120 non-null  int64  \n",
      " 36  Fwd Packets/s               259120 non-null  float64\n",
      " 37  Bwd Packets/s               259120 non-null  float64\n",
      " 38  Packet Length Min           259120 non-null  float64\n",
      " 39  Packet Length Max           259120 non-null  float64\n",
      " 40  Packet Length Mean          259120 non-null  float64\n",
      " 41  Packet Length Std           259120 non-null  float64\n",
      " 42  Packet Length Variance      259120 non-null  float64\n",
      " 43  FIN Flag Count              259120 non-null  int64  \n",
      " 44  SYN Flag Count              259120 non-null  int64  \n",
      " 45  RST Flag Count              259120 non-null  int64  \n",
      " 46  PSH Flag Count              259120 non-null  int64  \n",
      " 47  ACK Flag Count              259120 non-null  int64  \n",
      " 48  URG Flag Count              259120 non-null  int64  \n",
      " 49  CWR Flag Count              259120 non-null  int64  \n",
      " 50  ECE Flag Count              259120 non-null  int64  \n",
      " 51  Down/Up Ratio               259120 non-null  float64\n",
      " 52  Average Packet Size         259120 non-null  float64\n",
      " 53  Fwd Segment Size Avg        259120 non-null  float64\n",
      " 54  Bwd Segment Size Avg        259120 non-null  float64\n",
      " 55  Fwd Bytes/Bulk Avg          259120 non-null  int64  \n",
      " 56  Fwd Packet/Bulk Avg         259120 non-null  int64  \n",
      " 57  Fwd Bulk Rate Avg           259120 non-null  int64  \n",
      " 58  Bwd Bytes/Bulk Avg          259120 non-null  int64  \n",
      " 59  Bwd Packet/Bulk Avg         259120 non-null  int64  \n",
      " 60  Bwd Bulk Rate Avg           259120 non-null  int64  \n",
      " 61  Subflow Fwd Packets         259120 non-null  int64  \n",
      " 62  Subflow Fwd Bytes           259120 non-null  int64  \n",
      " 63  Subflow Bwd Packets         259120 non-null  int64  \n",
      " 64  Subflow Bwd Bytes           259120 non-null  int64  \n",
      " 65  FWD Init Win Bytes          259120 non-null  int64  \n",
      " 66  Bwd Init Win Bytes          259120 non-null  int64  \n",
      " 67  Fwd Act Data Pkts           259120 non-null  int64  \n",
      " 68  Fwd Seg Size Min            259120 non-null  int64  \n",
      " 69  Active Mean                 259120 non-null  float64\n",
      " 70  Active Std                  259120 non-null  float64\n",
      " 71  Active Max                  259120 non-null  float64\n",
      " 72  Active Min                  259120 non-null  float64\n",
      " 73  Idle Mean                   259120 non-null  float64\n",
      " 74  Idle Std                    259120 non-null  float64\n",
      " 75  Idle Max                    259120 non-null  float64\n",
      " 76  Idle Min                    259120 non-null  float64\n",
      " 77  Label                       259120 non-null  object \n",
      "dtypes: float64(45), int64(31), object(2)\n",
      "memory usage: 154.2+ MB\n"
     ]
    }
   ],
   "source": [
    "X_train.info()"
   ]
  },
  {
   "cell_type": "code",
   "execution_count": 5,
   "metadata": {},
   "outputs": [
    {
     "data": {
      "text/html": [
       "<div>\n",
       "<style scoped>\n",
       "    .dataframe tbody tr th:only-of-type {\n",
       "        vertical-align: middle;\n",
       "    }\n",
       "\n",
       "    .dataframe tbody tr th {\n",
       "        vertical-align: top;\n",
       "    }\n",
       "\n",
       "    .dataframe thead th {\n",
       "        text-align: right;\n",
       "    }\n",
       "</style>\n",
       "<table border=\"1\" class=\"dataframe\">\n",
       "  <thead>\n",
       "    <tr style=\"text-align: right;\">\n",
       "      <th></th>\n",
       "      <th>Flow ID</th>\n",
       "      <th>Src IP</th>\n",
       "      <th>Src Port</th>\n",
       "      <th>Dst IP</th>\n",
       "      <th>Dst Port</th>\n",
       "      <th>Protocol</th>\n",
       "      <th>Timestamp</th>\n",
       "      <th>Flow Duration</th>\n",
       "      <th>Total Fwd Packet</th>\n",
       "      <th>Total Bwd packets</th>\n",
       "      <th>...</th>\n",
       "      <th>Fwd Seg Size Min</th>\n",
       "      <th>Active Mean</th>\n",
       "      <th>Active Std</th>\n",
       "      <th>Active Max</th>\n",
       "      <th>Active Min</th>\n",
       "      <th>Idle Mean</th>\n",
       "      <th>Idle Std</th>\n",
       "      <th>Idle Max</th>\n",
       "      <th>Idle Min</th>\n",
       "      <th>Label</th>\n",
       "    </tr>\n",
       "  </thead>\n",
       "  <tbody>\n",
       "    <tr>\n",
       "      <th>0</th>\n",
       "      <td>172.28.128.11-172.28.128.10-49331-389-6</td>\n",
       "      <td>172.28.128.11</td>\n",
       "      <td>49331</td>\n",
       "      <td>172.28.128.10</td>\n",
       "      <td>389</td>\n",
       "      <td>6</td>\n",
       "      <td>2015-10-21 09:54:02</td>\n",
       "      <td>4975</td>\n",
       "      <td>11</td>\n",
       "      <td>32</td>\n",
       "      <td>...</td>\n",
       "      <td>20</td>\n",
       "      <td>0.0</td>\n",
       "      <td>0.0</td>\n",
       "      <td>0.0</td>\n",
       "      <td>0.0</td>\n",
       "      <td>1.602165e+15</td>\n",
       "      <td>0.0</td>\n",
       "      <td>1.602165e+15</td>\n",
       "      <td>1.602165e+15</td>\n",
       "      <td>NormalTraffic</td>\n",
       "    </tr>\n",
       "    <tr>\n",
       "      <th>1</th>\n",
       "      <td>172.28.128.11-172.28.128.10-49332-389-6</td>\n",
       "      <td>172.28.128.11</td>\n",
       "      <td>49332</td>\n",
       "      <td>172.28.128.10</td>\n",
       "      <td>389</td>\n",
       "      <td>6</td>\n",
       "      <td>2015-10-21 09:54:02</td>\n",
       "      <td>4110</td>\n",
       "      <td>9</td>\n",
       "      <td>7</td>\n",
       "      <td>...</td>\n",
       "      <td>20</td>\n",
       "      <td>0.0</td>\n",
       "      <td>0.0</td>\n",
       "      <td>0.0</td>\n",
       "      <td>0.0</td>\n",
       "      <td>1.602165e+15</td>\n",
       "      <td>0.0</td>\n",
       "      <td>1.602165e+15</td>\n",
       "      <td>1.602165e+15</td>\n",
       "      <td>NormalTraffic</td>\n",
       "    </tr>\n",
       "    <tr>\n",
       "      <th>2</th>\n",
       "      <td>8.6.0.1-8.0.6.4-0-0-0</td>\n",
       "      <td>8.6.0.1</td>\n",
       "      <td>0</td>\n",
       "      <td>8.0.6.4</td>\n",
       "      <td>0</td>\n",
       "      <td>0</td>\n",
       "      <td>2015-10-21 09:54:25</td>\n",
       "      <td>1671818</td>\n",
       "      <td>3</td>\n",
       "      <td>0</td>\n",
       "      <td>...</td>\n",
       "      <td>0</td>\n",
       "      <td>0.0</td>\n",
       "      <td>0.0</td>\n",
       "      <td>0.0</td>\n",
       "      <td>0.0</td>\n",
       "      <td>1.602165e+15</td>\n",
       "      <td>0.0</td>\n",
       "      <td>1.602165e+15</td>\n",
       "      <td>1.602165e+15</td>\n",
       "      <td>NormalTraffic</td>\n",
       "    </tr>\n",
       "    <tr>\n",
       "      <th>3</th>\n",
       "      <td>8.6.0.1-8.0.6.4-0-0-0</td>\n",
       "      <td>8.6.0.1</td>\n",
       "      <td>0</td>\n",
       "      <td>8.0.6.4</td>\n",
       "      <td>0</td>\n",
       "      <td>0</td>\n",
       "      <td>2015-10-21 09:57:10</td>\n",
       "      <td>1672538</td>\n",
       "      <td>3</td>\n",
       "      <td>0</td>\n",
       "      <td>...</td>\n",
       "      <td>0</td>\n",
       "      <td>0.0</td>\n",
       "      <td>0.0</td>\n",
       "      <td>0.0</td>\n",
       "      <td>0.0</td>\n",
       "      <td>1.602165e+15</td>\n",
       "      <td>0.0</td>\n",
       "      <td>1.602165e+15</td>\n",
       "      <td>1.602165e+15</td>\n",
       "      <td>NormalTraffic</td>\n",
       "    </tr>\n",
       "    <tr>\n",
       "      <th>4</th>\n",
       "      <td>172.28.128.10-172.28.128.255-137-137-17</td>\n",
       "      <td>172.28.128.10</td>\n",
       "      <td>137</td>\n",
       "      <td>172.28.128.255</td>\n",
       "      <td>137</td>\n",
       "      <td>17</td>\n",
       "      <td>2015-10-21 09:54:20</td>\n",
       "      <td>2281415</td>\n",
       "      <td>4</td>\n",
       "      <td>0</td>\n",
       "      <td>...</td>\n",
       "      <td>8</td>\n",
       "      <td>0.0</td>\n",
       "      <td>0.0</td>\n",
       "      <td>0.0</td>\n",
       "      <td>0.0</td>\n",
       "      <td>1.602165e+15</td>\n",
       "      <td>0.0</td>\n",
       "      <td>1.602165e+15</td>\n",
       "      <td>1.602165e+15</td>\n",
       "      <td>NormalTraffic</td>\n",
       "    </tr>\n",
       "  </tbody>\n",
       "</table>\n",
       "<p>5 rows × 84 columns</p>\n",
       "</div>"
      ],
      "text/plain": [
       "                                   Flow ID         Src IP  Src Port  \\\n",
       "0  172.28.128.11-172.28.128.10-49331-389-6  172.28.128.11     49331   \n",
       "1  172.28.128.11-172.28.128.10-49332-389-6  172.28.128.11     49332   \n",
       "2                    8.6.0.1-8.0.6.4-0-0-0        8.6.0.1         0   \n",
       "3                    8.6.0.1-8.0.6.4-0-0-0        8.6.0.1         0   \n",
       "4  172.28.128.10-172.28.128.255-137-137-17  172.28.128.10       137   \n",
       "\n",
       "           Dst IP  Dst Port  Protocol            Timestamp  Flow Duration  \\\n",
       "0   172.28.128.10       389         6  2015-10-21 09:54:02           4975   \n",
       "1   172.28.128.10       389         6  2015-10-21 09:54:02           4110   \n",
       "2         8.0.6.4         0         0  2015-10-21 09:54:25        1671818   \n",
       "3         8.0.6.4         0         0  2015-10-21 09:57:10        1672538   \n",
       "4  172.28.128.255       137        17  2015-10-21 09:54:20        2281415   \n",
       "\n",
       "   Total Fwd Packet  Total Bwd packets  ...  Fwd Seg Size Min  Active Mean  \\\n",
       "0                11                 32  ...                20          0.0   \n",
       "1                 9                  7  ...                20          0.0   \n",
       "2                 3                  0  ...                 0          0.0   \n",
       "3                 3                  0  ...                 0          0.0   \n",
       "4                 4                  0  ...                 8          0.0   \n",
       "\n",
       "   Active Std  Active Max  Active Min     Idle Mean  Idle Std      Idle Max  \\\n",
       "0         0.0         0.0         0.0  1.602165e+15       0.0  1.602165e+15   \n",
       "1         0.0         0.0         0.0  1.602165e+15       0.0  1.602165e+15   \n",
       "2         0.0         0.0         0.0  1.602165e+15       0.0  1.602165e+15   \n",
       "3         0.0         0.0         0.0  1.602165e+15       0.0  1.602165e+15   \n",
       "4         0.0         0.0         0.0  1.602165e+15       0.0  1.602165e+15   \n",
       "\n",
       "       Idle Min          Label  \n",
       "0  1.602165e+15  NormalTraffic  \n",
       "1  1.602165e+15  NormalTraffic  \n",
       "2  1.602165e+15  NormalTraffic  \n",
       "3  1.602165e+15  NormalTraffic  \n",
       "4  1.602165e+15  NormalTraffic  \n",
       "\n",
       "[5 rows x 84 columns]"
      ]
     },
     "execution_count": 5,
     "metadata": {},
     "output_type": "execute_result"
    }
   ],
   "source": [
    "# Review Dataset\n",
    "# pd.set_option('display.max_columns', None)\n",
    "X_train.head()"
   ]
  },
  {
   "cell_type": "code",
   "execution_count": 6,
   "metadata": {},
   "outputs": [
    {
     "data": {
      "text/html": [
       "<div>\n",
       "<style scoped>\n",
       "    .dataframe tbody tr th:only-of-type {\n",
       "        vertical-align: middle;\n",
       "    }\n",
       "\n",
       "    .dataframe tbody tr th {\n",
       "        vertical-align: top;\n",
       "    }\n",
       "\n",
       "    .dataframe thead th {\n",
       "        text-align: right;\n",
       "    }\n",
       "</style>\n",
       "<table border=\"1\" class=\"dataframe\">\n",
       "  <thead>\n",
       "    <tr style=\"text-align: right;\">\n",
       "      <th></th>\n",
       "      <th>Src Port</th>\n",
       "      <th>Dst Port</th>\n",
       "      <th>Protocol</th>\n",
       "      <th>Flow Duration</th>\n",
       "      <th>Total Fwd Packet</th>\n",
       "      <th>Total Bwd packets</th>\n",
       "      <th>Total Length of Fwd Packet</th>\n",
       "      <th>Total Length of Bwd Packet</th>\n",
       "      <th>Fwd Packet Length Max</th>\n",
       "      <th>Fwd Packet Length Min</th>\n",
       "      <th>...</th>\n",
       "      <th>Fwd Act Data Pkts</th>\n",
       "      <th>Fwd Seg Size Min</th>\n",
       "      <th>Active Mean</th>\n",
       "      <th>Active Std</th>\n",
       "      <th>Active Max</th>\n",
       "      <th>Active Min</th>\n",
       "      <th>Idle Mean</th>\n",
       "      <th>Idle Std</th>\n",
       "      <th>Idle Max</th>\n",
       "      <th>Idle Min</th>\n",
       "    </tr>\n",
       "  </thead>\n",
       "  <tbody>\n",
       "    <tr>\n",
       "      <th>count</th>\n",
       "      <td>259120.000000</td>\n",
       "      <td>259120.000000</td>\n",
       "      <td>259120.000000</td>\n",
       "      <td>2.591200e+05</td>\n",
       "      <td>259120.000000</td>\n",
       "      <td>259120.000000</td>\n",
       "      <td>259120.000000</td>\n",
       "      <td>2.591200e+05</td>\n",
       "      <td>259120.000000</td>\n",
       "      <td>259120.000000</td>\n",
       "      <td>...</td>\n",
       "      <td>259120.000000</td>\n",
       "      <td>259120.000000</td>\n",
       "      <td>2.591200e+05</td>\n",
       "      <td>259120.0</td>\n",
       "      <td>2.591200e+05</td>\n",
       "      <td>2.591200e+05</td>\n",
       "      <td>2.591200e+05</td>\n",
       "      <td>2.591200e+05</td>\n",
       "      <td>2.591200e+05</td>\n",
       "      <td>2.591200e+05</td>\n",
       "    </tr>\n",
       "    <tr>\n",
       "      <th>mean</th>\n",
       "      <td>43605.276358</td>\n",
       "      <td>4620.691834</td>\n",
       "      <td>7.704010</td>\n",
       "      <td>1.083636e+06</td>\n",
       "      <td>4.687674</td>\n",
       "      <td>2.672233</td>\n",
       "      <td>361.486944</td>\n",
       "      <td>3.182378e+02</td>\n",
       "      <td>52.661446</td>\n",
       "      <td>19.989665</td>\n",
       "      <td>...</td>\n",
       "      <td>1.906063</td>\n",
       "      <td>20.961871</td>\n",
       "      <td>1.530509e+03</td>\n",
       "      <td>0.0</td>\n",
       "      <td>1.530509e+03</td>\n",
       "      <td>1.530509e+03</td>\n",
       "      <td>1.457141e+15</td>\n",
       "      <td>2.994857e+13</td>\n",
       "      <td>1.478392e+15</td>\n",
       "      <td>1.435942e+15</td>\n",
       "    </tr>\n",
       "    <tr>\n",
       "      <th>std</th>\n",
       "      <td>19237.192053</td>\n",
       "      <td>10611.912850</td>\n",
       "      <td>4.546006</td>\n",
       "      <td>1.841492e+06</td>\n",
       "      <td>24.131245</td>\n",
       "      <td>9.076099</td>\n",
       "      <td>3776.697315</td>\n",
       "      <td>6.986755e+03</td>\n",
       "      <td>397.930582</td>\n",
       "      <td>121.389925</td>\n",
       "      <td>...</td>\n",
       "      <td>22.318784</td>\n",
       "      <td>10.963584</td>\n",
       "      <td>3.298022e+04</td>\n",
       "      <td>0.0</td>\n",
       "      <td>3.298022e+04</td>\n",
       "      <td>3.298022e+04</td>\n",
       "      <td>1.376273e+14</td>\n",
       "      <td>1.776384e+14</td>\n",
       "      <td>7.405100e+13</td>\n",
       "      <td>2.530104e+14</td>\n",
       "    </tr>\n",
       "    <tr>\n",
       "      <th>min</th>\n",
       "      <td>0.000000</td>\n",
       "      <td>0.000000</td>\n",
       "      <td>0.000000</td>\n",
       "      <td>-1.372120e+05</td>\n",
       "      <td>1.000000</td>\n",
       "      <td>0.000000</td>\n",
       "      <td>0.000000</td>\n",
       "      <td>0.000000e+00</td>\n",
       "      <td>0.000000</td>\n",
       "      <td>0.000000</td>\n",
       "      <td>...</td>\n",
       "      <td>0.000000</td>\n",
       "      <td>0.000000</td>\n",
       "      <td>0.000000e+00</td>\n",
       "      <td>0.0</td>\n",
       "      <td>0.000000e+00</td>\n",
       "      <td>0.000000e+00</td>\n",
       "      <td>7.230000e+11</td>\n",
       "      <td>0.000000e+00</td>\n",
       "      <td>1.450000e+12</td>\n",
       "      <td>3.000172e+06</td>\n",
       "    </tr>\n",
       "    <tr>\n",
       "      <th>25%</th>\n",
       "      <td>40504.000000</td>\n",
       "      <td>102.000000</td>\n",
       "      <td>6.000000</td>\n",
       "      <td>6.050000e+02</td>\n",
       "      <td>1.000000</td>\n",
       "      <td>0.000000</td>\n",
       "      <td>0.000000</td>\n",
       "      <td>0.000000e+00</td>\n",
       "      <td>0.000000</td>\n",
       "      <td>0.000000</td>\n",
       "      <td>...</td>\n",
       "      <td>0.000000</td>\n",
       "      <td>20.000000</td>\n",
       "      <td>0.000000e+00</td>\n",
       "      <td>0.0</td>\n",
       "      <td>0.000000e+00</td>\n",
       "      <td>0.000000e+00</td>\n",
       "      <td>1.450000e+15</td>\n",
       "      <td>0.000000e+00</td>\n",
       "      <td>1.450000e+15</td>\n",
       "      <td>1.450000e+15</td>\n",
       "    </tr>\n",
       "    <tr>\n",
       "      <th>50%</th>\n",
       "      <td>49693.000000</td>\n",
       "      <td>102.000000</td>\n",
       "      <td>6.000000</td>\n",
       "      <td>3.499000e+03</td>\n",
       "      <td>2.000000</td>\n",
       "      <td>1.000000</td>\n",
       "      <td>1.000000</td>\n",
       "      <td>0.000000e+00</td>\n",
       "      <td>1.000000</td>\n",
       "      <td>0.000000</td>\n",
       "      <td>...</td>\n",
       "      <td>0.000000</td>\n",
       "      <td>20.000000</td>\n",
       "      <td>0.000000e+00</td>\n",
       "      <td>0.0</td>\n",
       "      <td>0.000000e+00</td>\n",
       "      <td>0.000000e+00</td>\n",
       "      <td>1.450000e+15</td>\n",
       "      <td>0.000000e+00</td>\n",
       "      <td>1.450000e+15</td>\n",
       "      <td>1.450000e+15</td>\n",
       "    </tr>\n",
       "    <tr>\n",
       "      <th>75%</th>\n",
       "      <td>56651.000000</td>\n",
       "      <td>4466.000000</td>\n",
       "      <td>6.000000</td>\n",
       "      <td>1.003442e+06</td>\n",
       "      <td>2.000000</td>\n",
       "      <td>1.000000</td>\n",
       "      <td>93.000000</td>\n",
       "      <td>3.700000e+01</td>\n",
       "      <td>31.000000</td>\n",
       "      <td>1.000000</td>\n",
       "      <td>...</td>\n",
       "      <td>0.000000</td>\n",
       "      <td>24.000000</td>\n",
       "      <td>0.000000e+00</td>\n",
       "      <td>0.0</td>\n",
       "      <td>0.000000e+00</td>\n",
       "      <td>0.000000e+00</td>\n",
       "      <td>1.450000e+15</td>\n",
       "      <td>0.000000e+00</td>\n",
       "      <td>1.450000e+15</td>\n",
       "      <td>1.450000e+15</td>\n",
       "    </tr>\n",
       "    <tr>\n",
       "      <th>max</th>\n",
       "      <td>65535.000000</td>\n",
       "      <td>65389.000000</td>\n",
       "      <td>17.000000</td>\n",
       "      <td>5.000000e+06</td>\n",
       "      <td>1350.000000</td>\n",
       "      <td>2291.000000</td>\n",
       "      <td>175604.000000</td>\n",
       "      <td>3.126149e+06</td>\n",
       "      <td>32768.000000</td>\n",
       "      <td>24320.000000</td>\n",
       "      <td>...</td>\n",
       "      <td>1346.000000</td>\n",
       "      <td>44.000000</td>\n",
       "      <td>1.816401e+06</td>\n",
       "      <td>0.0</td>\n",
       "      <td>1.816401e+06</td>\n",
       "      <td>1.816401e+06</td>\n",
       "      <td>1.602213e+15</td>\n",
       "      <td>1.132940e+15</td>\n",
       "      <td>1.602213e+15</td>\n",
       "      <td>1.602213e+15</td>\n",
       "    </tr>\n",
       "  </tbody>\n",
       "</table>\n",
       "<p>8 rows × 79 columns</p>\n",
       "</div>"
      ],
      "text/plain": [
       "            Src Port       Dst Port       Protocol  Flow Duration  \\\n",
       "count  259120.000000  259120.000000  259120.000000   2.591200e+05   \n",
       "mean    43605.276358    4620.691834       7.704010   1.083636e+06   \n",
       "std     19237.192053   10611.912850       4.546006   1.841492e+06   \n",
       "min         0.000000       0.000000       0.000000  -1.372120e+05   \n",
       "25%     40504.000000     102.000000       6.000000   6.050000e+02   \n",
       "50%     49693.000000     102.000000       6.000000   3.499000e+03   \n",
       "75%     56651.000000    4466.000000       6.000000   1.003442e+06   \n",
       "max     65535.000000   65389.000000      17.000000   5.000000e+06   \n",
       "\n",
       "       Total Fwd Packet  Total Bwd packets  Total Length of Fwd Packet  \\\n",
       "count     259120.000000      259120.000000               259120.000000   \n",
       "mean           4.687674           2.672233                  361.486944   \n",
       "std           24.131245           9.076099                 3776.697315   \n",
       "min            1.000000           0.000000                    0.000000   \n",
       "25%            1.000000           0.000000                    0.000000   \n",
       "50%            2.000000           1.000000                    1.000000   \n",
       "75%            2.000000           1.000000                   93.000000   \n",
       "max         1350.000000        2291.000000               175604.000000   \n",
       "\n",
       "       Total Length of Bwd Packet  Fwd Packet Length Max  \\\n",
       "count                2.591200e+05          259120.000000   \n",
       "mean                 3.182378e+02              52.661446   \n",
       "std                  6.986755e+03             397.930582   \n",
       "min                  0.000000e+00               0.000000   \n",
       "25%                  0.000000e+00               0.000000   \n",
       "50%                  0.000000e+00               1.000000   \n",
       "75%                  3.700000e+01              31.000000   \n",
       "max                  3.126149e+06           32768.000000   \n",
       "\n",
       "       Fwd Packet Length Min  ...  Fwd Act Data Pkts  Fwd Seg Size Min  \\\n",
       "count          259120.000000  ...      259120.000000     259120.000000   \n",
       "mean               19.989665  ...           1.906063         20.961871   \n",
       "std               121.389925  ...          22.318784         10.963584   \n",
       "min                 0.000000  ...           0.000000          0.000000   \n",
       "25%                 0.000000  ...           0.000000         20.000000   \n",
       "50%                 0.000000  ...           0.000000         20.000000   \n",
       "75%                 1.000000  ...           0.000000         24.000000   \n",
       "max             24320.000000  ...        1346.000000         44.000000   \n",
       "\n",
       "        Active Mean  Active Std    Active Max    Active Min     Idle Mean  \\\n",
       "count  2.591200e+05    259120.0  2.591200e+05  2.591200e+05  2.591200e+05   \n",
       "mean   1.530509e+03         0.0  1.530509e+03  1.530509e+03  1.457141e+15   \n",
       "std    3.298022e+04         0.0  3.298022e+04  3.298022e+04  1.376273e+14   \n",
       "min    0.000000e+00         0.0  0.000000e+00  0.000000e+00  7.230000e+11   \n",
       "25%    0.000000e+00         0.0  0.000000e+00  0.000000e+00  1.450000e+15   \n",
       "50%    0.000000e+00         0.0  0.000000e+00  0.000000e+00  1.450000e+15   \n",
       "75%    0.000000e+00         0.0  0.000000e+00  0.000000e+00  1.450000e+15   \n",
       "max    1.816401e+06         0.0  1.816401e+06  1.816401e+06  1.602213e+15   \n",
       "\n",
       "           Idle Std      Idle Max      Idle Min  \n",
       "count  2.591200e+05  2.591200e+05  2.591200e+05  \n",
       "mean   2.994857e+13  1.478392e+15  1.435942e+15  \n",
       "std    1.776384e+14  7.405100e+13  2.530104e+14  \n",
       "min    0.000000e+00  1.450000e+12  3.000172e+06  \n",
       "25%    0.000000e+00  1.450000e+15  1.450000e+15  \n",
       "50%    0.000000e+00  1.450000e+15  1.450000e+15  \n",
       "75%    0.000000e+00  1.450000e+15  1.450000e+15  \n",
       "max    1.132940e+15  1.602213e+15  1.602213e+15  \n",
       "\n",
       "[8 rows x 79 columns]"
      ]
     },
     "execution_count": 6,
     "metadata": {},
     "output_type": "execute_result"
    }
   ],
   "source": [
    "X_train.describe()"
   ]
  },
  {
   "cell_type": "code",
   "execution_count": 7,
   "metadata": {},
   "outputs": [
    {
     "name": "stdout",
     "output_type": "stream",
     "text": [
      "Column  Flow ID  has  99312  values\n",
      "Column  Src IP  has  94  values\n",
      "Column  Dst IP  has  143  values\n",
      "Column  Timestamp  has  11874  values\n",
      "Column  Label  has  6  values\n"
     ]
    }
   ],
   "source": [
    "# Values of categorical columns\n",
    "len_data = len(X_train)\n",
    "for col in X_train.columns:\n",
    "  if X_train[col].dtype == 'object':\n",
    "    print(\"Column \",col,\" has \",X_train[col].nunique(),\" values\")"
   ]
  },
  {
   "cell_type": "markdown",
   "metadata": {},
   "source": [
    "Since the Flow ID already contain Src IP and Dst IP, I will drop those columns"
   ]
  },
  {
   "cell_type": "code",
   "execution_count": 8,
   "metadata": {},
   "outputs": [],
   "source": [
    "# Drop unused column\n",
    "X_train.drop(['Timestamp', 'Src Port', 'Dst Port', 'Protocol', 'Src IP', 'Dst IP'], axis = 1, inplace=True)\n",
    "X_test.drop(['Timestamp', 'Src Port', 'Dst Port', 'Protocol', 'Src IP', 'Dst IP'], axis = 1, inplace=True)"
   ]
  },
  {
   "cell_type": "code",
   "execution_count": 10,
   "metadata": {},
   "outputs": [
    {
     "data": {
      "text/plain": [
       "Flow ID                          1\n",
       "Flow Duration                    0\n",
       "Total Fwd Packet                 0\n",
       "Total Bwd packets                0\n",
       "Total Length of Fwd Packet       0\n",
       "Total Length of Bwd Packet       0\n",
       "Fwd Packet Length Max            0\n",
       "Fwd Packet Length Min            0\n",
       "Fwd Packet Length Mean           0\n",
       "Fwd Packet Length Std            0\n",
       "Bwd Packet Length Max            0\n",
       "Bwd Packet Length Min            0\n",
       "Bwd Packet Length Mean           0\n",
       "Bwd Packet Length Std            0\n",
       "Flow Bytes/s                  1758\n",
       "Flow Packets/s                   0\n",
       "Flow IAT Mean                    0\n",
       "Flow IAT Std                     0\n",
       "Flow IAT Max                     0\n",
       "Flow IAT Min                     0\n",
       "dtype: int64"
      ]
     },
     "execution_count": 10,
     "metadata": {},
     "output_type": "execute_result"
    }
   ],
   "source": [
    "X_train.isna().sum().head(20)"
   ]
  },
  {
   "cell_type": "code",
   "execution_count": 12,
   "metadata": {},
   "outputs": [],
   "source": [
    "X_train.dropna(subset = ['Flow ID', 'Flow Bytes/s'], inplace=True)\n",
    "X_test.dropna(subset = ['Flow ID', 'Flow Bytes/s'], inplace=True)"
   ]
  },
  {
   "cell_type": "code",
   "execution_count": 13,
   "metadata": {},
   "outputs": [],
   "source": [
    "X_train.replace([np.inf, -np.inf], 0, inplace=True)\n",
    "X_test.replace([np.inf, -np.inf], 0, inplace=True)"
   ]
  },
  {
   "cell_type": "code",
   "execution_count": 14,
   "metadata": {},
   "outputs": [],
   "source": [
    "values_to_fill = {}\n",
    "\n",
    "for col in X_train.columns:\n",
    "    if X_train[col].dtype == 'object':\n",
    "        values_to_fill[col] = \"Missing\"\n",
    "    else:\n",
    "        values_to_fill[col] = 0\n",
    "\n",
    "X_train.fillna(value=values_to_fill,inplace=True)\n",
    "X_test.fillna(value=values_to_fill, inplace=True)"
   ]
  },
  {
   "cell_type": "markdown",
   "metadata": {},
   "source": [
    "**\"Label\" will be used as Target variable**\n",
    "\n",
    "Encode target variable `Label` into `0` and `1`, when value is `NormalTraffic` is mapped to `0` and all other values is mapped to `1`.   "
   ]
  },
  {
   "cell_type": "code",
   "execution_count": 15,
   "metadata": {},
   "outputs": [
    {
     "data": {
      "text/plain": [
       "Label\n",
       "DataExfiltration        527\n",
       "InitialCompromise        73\n",
       "LateralMovement         728\n",
       "NormalTraffic        253078\n",
       "Pivoting               2122\n",
       "Reconnaissance          833\n",
       "Name: Label, dtype: int64"
      ]
     },
     "execution_count": 15,
     "metadata": {},
     "output_type": "execute_result"
    }
   ],
   "source": [
    "X_train.groupby(by=[\"Label\"])[\"Label\"].count()"
   ]
  },
  {
   "cell_type": "code",
   "execution_count": 16,
   "metadata": {},
   "outputs": [],
   "source": [
    "# Converting target variable from string to binary\n",
    "X_train['Label'] = [0 if app == 'NormalTraffic' else 1 for app in X_train.Label.values]\n",
    "X_test['Label'] = [0 if app == 'NormalTraffic' else 1 for app in X_test.Label.values]"
   ]
  },
  {
   "cell_type": "code",
   "execution_count": 17,
   "metadata": {},
   "outputs": [
    {
     "data": {
      "text/plain": [
       "Label\n",
       "0    253078\n",
       "1      4283\n",
       "Name: Label, dtype: int64"
      ]
     },
     "execution_count": 17,
     "metadata": {},
     "output_type": "execute_result"
    }
   ],
   "source": [
    "X_train.groupby(by=[\"Label\"])[\"Label\"].count()"
   ]
  },
  {
   "cell_type": "markdown",
   "metadata": {},
   "source": [
    "**Features Engineering**"
   ]
  },
  {
   "cell_type": "code",
   "execution_count": 18,
   "metadata": {},
   "outputs": [
    {
     "name": "stdout",
     "output_type": "stream",
     "text": [
      "Column  Flow ID  has  98605  values\n"
     ]
    }
   ],
   "source": [
    "# Values of categorical columns\n",
    "len_data = len(X_train)\n",
    "for col in X_train.columns:\n",
    "  if X_train[col].dtype == 'object':\n",
    "    print(\"Column \",col,\" has \",X_train[col].nunique(),\" values\")"
   ]
  },
  {
   "cell_type": "code",
   "execution_count": 19,
   "metadata": {},
   "outputs": [
    {
     "name": "stdout",
     "output_type": "stream",
     "text": [
      "Label Encode scaling of  Flow ID\n"
     ]
    },
    {
     "name": "stderr",
     "output_type": "stream",
     "text": [
      "/Users/thienla/ml-fall-2023/lib/python3.10/site-packages/sklearn/preprocessing/_label.py:132: DataConversionWarning: A column-vector y was passed when a 1d array was expected. Please change the shape of y to (n_samples, ), for example using ravel().\n",
      "  y = column_or_1d(y, dtype=self.classes_.dtype, warn=True)\n",
      "/Users/thienla/ml-fall-2023/lib/python3.10/site-packages/sklearn/preprocessing/_label.py:132: DataConversionWarning: A column-vector y was passed when a 1d array was expected. Please change the shape of y to (n_samples, ), for example using ravel().\n",
      "  y = column_or_1d(y, dtype=self.classes_.dtype, warn=True)\n"
     ]
    }
   ],
   "source": [
    "from sklearn.preprocessing import LabelEncoder\n",
    "from copy import deepcopy\n",
    "\n",
    "'''Save original columns that need to be droped or not used\n",
    "   Save One-hot and Label encoders for future use\n",
    "'''\n",
    "#Columns to drop from ML models\n",
    "cols_to_drop = []\n",
    "#Categorical encoders disctionary\n",
    "cat_encoders = {}\n",
    "#New categorical (encoded) columns\n",
    "cat_enc_columns = []\n",
    "\n",
    "for col in X_train.drop(columns=['Label']).columns:\n",
    "  if X_train[col].dtype == 'object':\n",
    "    if X_train[col].nunique() > 1000:\n",
    "        print(\"Label Encode scaling of \", col)\n",
    "        enc = LabelEncoder()\n",
    "        enc.fit(list(X_train[col])+list(X_test[col]))\n",
    "        new_col_name = col+\"_le\"\n",
    "        X_train[new_col_name] = enc.transform(X_train[[col]])\n",
    "        X_test[new_col_name] = enc.transform(X_test[[col]])\n",
    "        cat_encoders[col] = [deepcopy(enc),\"le\"]\n",
    "        cat_enc_columns.append(new_col_name)\n",
    "\n",
    "    cols_to_drop.append(col)"
   ]
  },
  {
   "cell_type": "markdown",
   "metadata": {},
   "source": [
    "**Attention**: One-hot-encoding has several limitations:\n",
    "- It produces large number of columns\n",
    "- It produces sparse features, and tree based algorithms don't work well with sparse features\n",
    "- It cannot deal efficiently with unseen values"
   ]
  },
  {
   "cell_type": "code",
   "execution_count": 20,
   "metadata": {},
   "outputs": [
    {
     "name": "stdout",
     "output_type": "stream",
     "text": [
      "Train shape: (257361, 79)\n",
      "Test shape: (55962, 79)\n",
      "New encoded columns: ['Flow ID_le']\n"
     ]
    },
    {
     "data": {
      "text/html": [
       "<div>\n",
       "<style scoped>\n",
       "    .dataframe tbody tr th:only-of-type {\n",
       "        vertical-align: middle;\n",
       "    }\n",
       "\n",
       "    .dataframe tbody tr th {\n",
       "        vertical-align: top;\n",
       "    }\n",
       "\n",
       "    .dataframe thead th {\n",
       "        text-align: right;\n",
       "    }\n",
       "</style>\n",
       "<table border=\"1\" class=\"dataframe\">\n",
       "  <thead>\n",
       "    <tr style=\"text-align: right;\">\n",
       "      <th></th>\n",
       "      <th>Flow ID</th>\n",
       "      <th>Flow Duration</th>\n",
       "      <th>Total Fwd Packet</th>\n",
       "      <th>Total Bwd packets</th>\n",
       "      <th>Total Length of Fwd Packet</th>\n",
       "      <th>Total Length of Bwd Packet</th>\n",
       "      <th>Fwd Packet Length Max</th>\n",
       "      <th>Fwd Packet Length Min</th>\n",
       "      <th>Fwd Packet Length Mean</th>\n",
       "      <th>Fwd Packet Length Std</th>\n",
       "      <th>...</th>\n",
       "      <th>Active Mean</th>\n",
       "      <th>Active Std</th>\n",
       "      <th>Active Max</th>\n",
       "      <th>Active Min</th>\n",
       "      <th>Idle Mean</th>\n",
       "      <th>Idle Std</th>\n",
       "      <th>Idle Max</th>\n",
       "      <th>Idle Min</th>\n",
       "      <th>Label</th>\n",
       "      <th>Flow ID_le</th>\n",
       "    </tr>\n",
       "  </thead>\n",
       "  <tbody>\n",
       "    <tr>\n",
       "      <th>0</th>\n",
       "      <td>172.28.128.11-172.28.128.10-49331-389-6</td>\n",
       "      <td>4975</td>\n",
       "      <td>11</td>\n",
       "      <td>32</td>\n",
       "      <td>337.0</td>\n",
       "      <td>3127.0</td>\n",
       "      <td>155.0</td>\n",
       "      <td>0.0</td>\n",
       "      <td>30.636364</td>\n",
       "      <td>51.09065</td>\n",
       "      <td>...</td>\n",
       "      <td>0.0</td>\n",
       "      <td>0.0</td>\n",
       "      <td>0.0</td>\n",
       "      <td>0.0</td>\n",
       "      <td>1.602165e+15</td>\n",
       "      <td>0.0</td>\n",
       "      <td>1.602165e+15</td>\n",
       "      <td>1.602165e+15</td>\n",
       "      <td>0</td>\n",
       "      <td>18331</td>\n",
       "    </tr>\n",
       "    <tr>\n",
       "      <th>1</th>\n",
       "      <td>172.28.128.11-172.28.128.10-49332-389-6</td>\n",
       "      <td>4110</td>\n",
       "      <td>9</td>\n",
       "      <td>7</td>\n",
       "      <td>369.0</td>\n",
       "      <td>414.0</td>\n",
       "      <td>155.0</td>\n",
       "      <td>0.0</td>\n",
       "      <td>41.000000</td>\n",
       "      <td>57.95041</td>\n",
       "      <td>...</td>\n",
       "      <td>0.0</td>\n",
       "      <td>0.0</td>\n",
       "      <td>0.0</td>\n",
       "      <td>0.0</td>\n",
       "      <td>1.602165e+15</td>\n",
       "      <td>0.0</td>\n",
       "      <td>1.602165e+15</td>\n",
       "      <td>1.602165e+15</td>\n",
       "      <td>0</td>\n",
       "      <td>18332</td>\n",
       "    </tr>\n",
       "    <tr>\n",
       "      <th>2</th>\n",
       "      <td>8.6.0.1-8.0.6.4-0-0-0</td>\n",
       "      <td>1671818</td>\n",
       "      <td>3</td>\n",
       "      <td>0</td>\n",
       "      <td>0.0</td>\n",
       "      <td>0.0</td>\n",
       "      <td>0.0</td>\n",
       "      <td>0.0</td>\n",
       "      <td>0.000000</td>\n",
       "      <td>0.00000</td>\n",
       "      <td>...</td>\n",
       "      <td>0.0</td>\n",
       "      <td>0.0</td>\n",
       "      <td>0.0</td>\n",
       "      <td>0.0</td>\n",
       "      <td>1.602165e+15</td>\n",
       "      <td>0.0</td>\n",
       "      <td>1.602165e+15</td>\n",
       "      <td>1.602165e+15</td>\n",
       "      <td>0</td>\n",
       "      <td>100730</td>\n",
       "    </tr>\n",
       "    <tr>\n",
       "      <th>3</th>\n",
       "      <td>8.6.0.1-8.0.6.4-0-0-0</td>\n",
       "      <td>1672538</td>\n",
       "      <td>3</td>\n",
       "      <td>0</td>\n",
       "      <td>0.0</td>\n",
       "      <td>0.0</td>\n",
       "      <td>0.0</td>\n",
       "      <td>0.0</td>\n",
       "      <td>0.000000</td>\n",
       "      <td>0.00000</td>\n",
       "      <td>...</td>\n",
       "      <td>0.0</td>\n",
       "      <td>0.0</td>\n",
       "      <td>0.0</td>\n",
       "      <td>0.0</td>\n",
       "      <td>1.602165e+15</td>\n",
       "      <td>0.0</td>\n",
       "      <td>1.602165e+15</td>\n",
       "      <td>1.602165e+15</td>\n",
       "      <td>0</td>\n",
       "      <td>100730</td>\n",
       "    </tr>\n",
       "    <tr>\n",
       "      <th>4</th>\n",
       "      <td>172.28.128.10-172.28.128.255-137-137-17</td>\n",
       "      <td>2281415</td>\n",
       "      <td>4</td>\n",
       "      <td>0</td>\n",
       "      <td>272.0</td>\n",
       "      <td>0.0</td>\n",
       "      <td>68.0</td>\n",
       "      <td>68.0</td>\n",
       "      <td>68.000000</td>\n",
       "      <td>0.00000</td>\n",
       "      <td>...</td>\n",
       "      <td>0.0</td>\n",
       "      <td>0.0</td>\n",
       "      <td>0.0</td>\n",
       "      <td>0.0</td>\n",
       "      <td>1.602165e+15</td>\n",
       "      <td>0.0</td>\n",
       "      <td>1.602165e+15</td>\n",
       "      <td>1.602165e+15</td>\n",
       "      <td>0</td>\n",
       "      <td>18299</td>\n",
       "    </tr>\n",
       "  </tbody>\n",
       "</table>\n",
       "<p>5 rows × 79 columns</p>\n",
       "</div>"
      ],
      "text/plain": [
       "                                   Flow ID  Flow Duration  Total Fwd Packet  \\\n",
       "0  172.28.128.11-172.28.128.10-49331-389-6           4975                11   \n",
       "1  172.28.128.11-172.28.128.10-49332-389-6           4110                 9   \n",
       "2                    8.6.0.1-8.0.6.4-0-0-0        1671818                 3   \n",
       "3                    8.6.0.1-8.0.6.4-0-0-0        1672538                 3   \n",
       "4  172.28.128.10-172.28.128.255-137-137-17        2281415                 4   \n",
       "\n",
       "   Total Bwd packets  Total Length of Fwd Packet  Total Length of Bwd Packet  \\\n",
       "0                 32                       337.0                      3127.0   \n",
       "1                  7                       369.0                       414.0   \n",
       "2                  0                         0.0                         0.0   \n",
       "3                  0                         0.0                         0.0   \n",
       "4                  0                       272.0                         0.0   \n",
       "\n",
       "   Fwd Packet Length Max  Fwd Packet Length Min  Fwd Packet Length Mean  \\\n",
       "0                  155.0                    0.0               30.636364   \n",
       "1                  155.0                    0.0               41.000000   \n",
       "2                    0.0                    0.0                0.000000   \n",
       "3                    0.0                    0.0                0.000000   \n",
       "4                   68.0                   68.0               68.000000   \n",
       "\n",
       "   Fwd Packet Length Std  ...  Active Mean  Active Std  Active Max  \\\n",
       "0               51.09065  ...          0.0         0.0         0.0   \n",
       "1               57.95041  ...          0.0         0.0         0.0   \n",
       "2                0.00000  ...          0.0         0.0         0.0   \n",
       "3                0.00000  ...          0.0         0.0         0.0   \n",
       "4                0.00000  ...          0.0         0.0         0.0   \n",
       "\n",
       "   Active Min     Idle Mean  Idle Std      Idle Max      Idle Min  Label  \\\n",
       "0         0.0  1.602165e+15       0.0  1.602165e+15  1.602165e+15      0   \n",
       "1         0.0  1.602165e+15       0.0  1.602165e+15  1.602165e+15      0   \n",
       "2         0.0  1.602165e+15       0.0  1.602165e+15  1.602165e+15      0   \n",
       "3         0.0  1.602165e+15       0.0  1.602165e+15  1.602165e+15      0   \n",
       "4         0.0  1.602165e+15       0.0  1.602165e+15  1.602165e+15      0   \n",
       "\n",
       "   Flow ID_le  \n",
       "0       18331  \n",
       "1       18332  \n",
       "2      100730  \n",
       "3      100730  \n",
       "4       18299  \n",
       "\n",
       "[5 rows x 79 columns]"
      ]
     },
     "execution_count": 20,
     "metadata": {},
     "output_type": "execute_result"
    }
   ],
   "source": [
    "print(\"Train shape:\", X_train.shape)\n",
    "print(\"Test shape:\", X_test.shape)\n",
    "print(\"New encoded columns:\", cat_enc_columns)\n",
    "X_train.head()"
   ]
  },
  {
   "cell_type": "markdown",
   "metadata": {},
   "source": [
    "Use **Standard Scaler** to encode numerical variable"
   ]
  },
  {
   "cell_type": "code",
   "execution_count": 21,
   "metadata": {},
   "outputs": [
    {
     "name": "stdout",
     "output_type": "stream",
     "text": [
      "Column to process: Flow Duration\n",
      "Column to process: Total Fwd Packet\n",
      "Column to process: Total Bwd packets\n",
      "Column to process: Total Length of Fwd Packet\n",
      "Column to process: Total Length of Bwd Packet\n",
      "Column to process: Fwd Packet Length Max\n",
      "Column to process: Fwd Packet Length Min\n",
      "Column to process: Fwd Packet Length Mean\n",
      "Column to process: Fwd Packet Length Std\n",
      "Column to process: Bwd Packet Length Max\n",
      "Column to process: Bwd Packet Length Min\n",
      "Column to process: Bwd Packet Length Mean\n",
      "Column to process: Bwd Packet Length Std\n",
      "Column to process: Flow Bytes/s\n",
      "Column to process: Flow Packets/s\n",
      "Column to process: Flow IAT Mean\n",
      "Column to process: Flow IAT Std\n",
      "Column to process: Flow IAT Max\n",
      "Column to process: Flow IAT Min\n",
      "Column to process: Fwd IAT Total\n",
      "Column to process: Fwd IAT Mean\n",
      "Column to process: Fwd IAT Std\n",
      "Column to process: Fwd IAT Max\n",
      "Column to process: Fwd IAT Min\n",
      "Column to process: Bwd IAT Total\n",
      "Column to process: Bwd IAT Mean\n",
      "Column to process: Bwd IAT Std\n",
      "Column to process: Bwd IAT Max\n",
      "Column to process: Bwd IAT Min\n",
      "Column to process: Fwd PSH Flags\n",
      "Column to process: Bwd PSH Flags\n",
      "Column to process: Fwd URG Flags\n",
      "Column to process: Bwd URG Flags\n",
      "Column to process: Fwd Header Length\n",
      "Column to process: Bwd Header Length\n",
      "Column to process: Fwd Packets/s\n",
      "Column to process: Bwd Packets/s\n",
      "Column to process: Packet Length Min\n",
      "Column to process: Packet Length Max\n",
      "Column to process: Packet Length Mean\n",
      "Column to process: Packet Length Std\n",
      "Column to process: Packet Length Variance\n",
      "Column to process: FIN Flag Count\n",
      "Column to process: SYN Flag Count\n",
      "Column to process: RST Flag Count\n",
      "Column to process: PSH Flag Count\n",
      "Column to process: ACK Flag Count\n",
      "Column to process: URG Flag Count\n",
      "Column to process: CWR Flag Count\n",
      "Column to process: ECE Flag Count\n",
      "Column to process: Down/Up Ratio\n",
      "Column to process: Average Packet Size\n",
      "Column to process: Fwd Segment Size Avg\n",
      "Column to process: Bwd Segment Size Avg\n",
      "Column to process: Fwd Bytes/Bulk Avg\n",
      "Column to process: Fwd Packet/Bulk Avg\n",
      "Column to process: Fwd Bulk Rate Avg\n",
      "Column to process: Bwd Bytes/Bulk Avg\n",
      "Column to process: Bwd Packet/Bulk Avg\n",
      "Column to process: Bwd Bulk Rate Avg\n",
      "Column to process: Subflow Fwd Packets\n",
      "Column to process: Subflow Fwd Bytes\n",
      "Column to process: Subflow Bwd Packets\n",
      "Column to process: Subflow Bwd Bytes\n",
      "Column to process: FWD Init Win Bytes\n",
      "Column to process: Bwd Init Win Bytes\n",
      "Column to process: Fwd Act Data Pkts\n",
      "Column to process: Fwd Seg Size Min\n",
      "Column to process: Active Mean\n",
      "Column to process: Active Std\n",
      "Column to process: Active Max\n",
      "Column to process: Active Min\n",
      "Column to process: Idle Mean\n",
      "Column to process: Idle Std\n",
      "Column to process: Idle Max\n",
      "Column to process: Idle Min\n"
     ]
    }
   ],
   "source": [
    "#Columns to scale\n",
    "cols_numerical_sc = []\n",
    "cols_numerical_orig = []\n",
    "for col in X_train.drop(columns=['Label']+ cat_enc_columns + cols_to_drop):\n",
    "    if pd.api.types.is_numeric_dtype(X_train[col].dtype):\n",
    "        print('Column to process:', col)\n",
    "        cols_numerical_orig.append(col)"
   ]
  },
  {
   "cell_type": "code",
   "execution_count": 22,
   "metadata": {},
   "outputs": [
    {
     "name": "stdout",
     "output_type": "stream",
     "text": [
      "StandardScaler scale of  Flow Duration\n",
      "StandardScaler scale of  Total Fwd Packet\n",
      "StandardScaler scale of  Total Bwd packets\n",
      "StandardScaler scale of  Total Length of Fwd Packet\n",
      "StandardScaler scale of  Total Length of Bwd Packet\n",
      "StandardScaler scale of  Fwd Packet Length Max\n",
      "StandardScaler scale of  Fwd Packet Length Min\n",
      "StandardScaler scale of  Fwd Packet Length Mean\n",
      "StandardScaler scale of  Fwd Packet Length Std\n",
      "StandardScaler scale of  Bwd Packet Length Max\n",
      "StandardScaler scale of  Bwd Packet Length Min\n",
      "StandardScaler scale of  Bwd Packet Length Mean\n",
      "StandardScaler scale of  Bwd Packet Length Std\n",
      "StandardScaler scale of  Flow Bytes/s\n",
      "StandardScaler scale of  Flow Packets/s\n",
      "StandardScaler scale of  Flow IAT Mean\n",
      "StandardScaler scale of  Flow IAT Std\n",
      "StandardScaler scale of  Flow IAT Max\n",
      "StandardScaler scale of  Flow IAT Min\n",
      "StandardScaler scale of  Fwd IAT Total\n",
      "StandardScaler scale of  Fwd IAT Mean\n",
      "StandardScaler scale of  Fwd IAT Std\n",
      "StandardScaler scale of  Fwd IAT Max\n",
      "StandardScaler scale of  Fwd IAT Min\n",
      "StandardScaler scale of  Bwd IAT Total\n",
      "StandardScaler scale of  Bwd IAT Mean\n",
      "StandardScaler scale of  Bwd IAT Std\n",
      "StandardScaler scale of  Bwd IAT Max\n",
      "StandardScaler scale of  Bwd IAT Min\n",
      "StandardScaler scale of  Fwd PSH Flags\n",
      "StandardScaler scale of  Bwd PSH Flags\n",
      "StandardScaler scale of  Fwd URG Flags\n",
      "StandardScaler scale of  Bwd URG Flags\n",
      "StandardScaler scale of  Fwd Header Length\n",
      "StandardScaler scale of  Bwd Header Length\n",
      "StandardScaler scale of  Fwd Packets/s\n",
      "StandardScaler scale of  Bwd Packets/s\n",
      "StandardScaler scale of  Packet Length Min\n",
      "StandardScaler scale of  Packet Length Max\n",
      "StandardScaler scale of  Packet Length Mean\n",
      "StandardScaler scale of  Packet Length Std\n",
      "StandardScaler scale of  Packet Length Variance\n",
      "StandardScaler scale of  FIN Flag Count\n",
      "StandardScaler scale of  SYN Flag Count\n",
      "StandardScaler scale of  RST Flag Count\n",
      "StandardScaler scale of  PSH Flag Count\n",
      "StandardScaler scale of  ACK Flag Count\n",
      "StandardScaler scale of  URG Flag Count\n",
      "StandardScaler scale of  CWR Flag Count\n",
      "StandardScaler scale of  ECE Flag Count\n",
      "StandardScaler scale of  Down/Up Ratio\n",
      "StandardScaler scale of  Average Packet Size\n",
      "StandardScaler scale of  Fwd Segment Size Avg\n",
      "StandardScaler scale of  Bwd Segment Size Avg\n",
      "StandardScaler scale of  Fwd Bytes/Bulk Avg\n",
      "StandardScaler scale of  Fwd Packet/Bulk Avg\n",
      "StandardScaler scale of  Fwd Bulk Rate Avg\n",
      "StandardScaler scale of  Bwd Bytes/Bulk Avg\n",
      "StandardScaler scale of  Bwd Packet/Bulk Avg\n",
      "StandardScaler scale of  Bwd Bulk Rate Avg\n",
      "StandardScaler scale of  Subflow Fwd Packets\n",
      "StandardScaler scale of  Subflow Fwd Bytes\n",
      "StandardScaler scale of  Subflow Bwd Packets\n",
      "StandardScaler scale of  Subflow Bwd Bytes\n",
      "StandardScaler scale of  FWD Init Win Bytes\n",
      "StandardScaler scale of  Bwd Init Win Bytes\n",
      "StandardScaler scale of  Fwd Act Data Pkts\n",
      "StandardScaler scale of  Fwd Seg Size Min\n",
      "StandardScaler scale of  Active Mean\n",
      "StandardScaler scale of  Active Std\n",
      "StandardScaler scale of  Active Max\n",
      "StandardScaler scale of  Active Min\n",
      "StandardScaler scale of  Idle Mean\n",
      "StandardScaler scale of  Idle Std\n",
      "StandardScaler scale of  Idle Max\n",
      "StandardScaler scale of  Idle Min\n"
     ]
    }
   ],
   "source": [
    "from sklearn.preprocessing import StandardScaler\n",
    "\n",
    "num_scalers = {}\n",
    "'''Scale only original numerical columns'''\n",
    "for col in X_train[cols_numerical_orig]:\n",
    "  if pd.api.types.is_numeric_dtype(X_train[col].dtype):\n",
    "    print(\"StandardScaler scale of \", col)\n",
    "    scaler = StandardScaler()\n",
    "    scaler.fit(X_train[[col]])\n",
    "    X_train[col+\"_sc\"] = scaler.transform(X_train[[col]])\n",
    "    X_test[col+\"_sc\"] = scaler.transform(X_test[[col]])\n",
    "    \n",
    "    num_scalers[col] = [deepcopy(scaler),\"StandardScaler\"]\n",
    "    cols_numerical_sc.append(col+\"_sc\")\n",
    "    cols_to_drop.append(col)"
   ]
  },
  {
   "cell_type": "code",
   "execution_count": 23,
   "metadata": {},
   "outputs": [
    {
     "name": "stdout",
     "output_type": "stream",
     "text": [
      "Original numerical columns: ['Flow Duration', 'Total Fwd Packet', 'Total Bwd packets', 'Total Length of Fwd Packet', 'Total Length of Bwd Packet', 'Fwd Packet Length Max', 'Fwd Packet Length Min', 'Fwd Packet Length Mean', 'Fwd Packet Length Std', 'Bwd Packet Length Max', 'Bwd Packet Length Min', 'Bwd Packet Length Mean', 'Bwd Packet Length Std', 'Flow Bytes/s', 'Flow Packets/s', 'Flow IAT Mean', 'Flow IAT Std', 'Flow IAT Max', 'Flow IAT Min', 'Fwd IAT Total', 'Fwd IAT Mean', 'Fwd IAT Std', 'Fwd IAT Max', 'Fwd IAT Min', 'Bwd IAT Total', 'Bwd IAT Mean', 'Bwd IAT Std', 'Bwd IAT Max', 'Bwd IAT Min', 'Fwd PSH Flags', 'Bwd PSH Flags', 'Fwd URG Flags', 'Bwd URG Flags', 'Fwd Header Length', 'Bwd Header Length', 'Fwd Packets/s', 'Bwd Packets/s', 'Packet Length Min', 'Packet Length Max', 'Packet Length Mean', 'Packet Length Std', 'Packet Length Variance', 'FIN Flag Count', 'SYN Flag Count', 'RST Flag Count', 'PSH Flag Count', 'ACK Flag Count', 'URG Flag Count', 'CWR Flag Count', 'ECE Flag Count', 'Down/Up Ratio', 'Average Packet Size', 'Fwd Segment Size Avg', 'Bwd Segment Size Avg', 'Fwd Bytes/Bulk Avg', 'Fwd Packet/Bulk Avg', 'Fwd Bulk Rate Avg', 'Bwd Bytes/Bulk Avg', 'Bwd Packet/Bulk Avg', 'Bwd Bulk Rate Avg', 'Subflow Fwd Packets', 'Subflow Fwd Bytes', 'Subflow Bwd Packets', 'Subflow Bwd Bytes', 'FWD Init Win Bytes', 'Bwd Init Win Bytes', 'Fwd Act Data Pkts', 'Fwd Seg Size Min', 'Active Mean', 'Active Std', 'Active Max', 'Active Min', 'Idle Mean', 'Idle Std', 'Idle Max', 'Idle Min']\n",
      "Scaled numerical columns: ['Flow Duration_sc', 'Total Fwd Packet_sc', 'Total Bwd packets_sc', 'Total Length of Fwd Packet_sc', 'Total Length of Bwd Packet_sc', 'Fwd Packet Length Max_sc', 'Fwd Packet Length Min_sc', 'Fwd Packet Length Mean_sc', 'Fwd Packet Length Std_sc', 'Bwd Packet Length Max_sc', 'Bwd Packet Length Min_sc', 'Bwd Packet Length Mean_sc', 'Bwd Packet Length Std_sc', 'Flow Bytes/s_sc', 'Flow Packets/s_sc', 'Flow IAT Mean_sc', 'Flow IAT Std_sc', 'Flow IAT Max_sc', 'Flow IAT Min_sc', 'Fwd IAT Total_sc', 'Fwd IAT Mean_sc', 'Fwd IAT Std_sc', 'Fwd IAT Max_sc', 'Fwd IAT Min_sc', 'Bwd IAT Total_sc', 'Bwd IAT Mean_sc', 'Bwd IAT Std_sc', 'Bwd IAT Max_sc', 'Bwd IAT Min_sc', 'Fwd PSH Flags_sc', 'Bwd PSH Flags_sc', 'Fwd URG Flags_sc', 'Bwd URG Flags_sc', 'Fwd Header Length_sc', 'Bwd Header Length_sc', 'Fwd Packets/s_sc', 'Bwd Packets/s_sc', 'Packet Length Min_sc', 'Packet Length Max_sc', 'Packet Length Mean_sc', 'Packet Length Std_sc', 'Packet Length Variance_sc', 'FIN Flag Count_sc', 'SYN Flag Count_sc', 'RST Flag Count_sc', 'PSH Flag Count_sc', 'ACK Flag Count_sc', 'URG Flag Count_sc', 'CWR Flag Count_sc', 'ECE Flag Count_sc', 'Down/Up Ratio_sc', 'Average Packet Size_sc', 'Fwd Segment Size Avg_sc', 'Bwd Segment Size Avg_sc', 'Fwd Bytes/Bulk Avg_sc', 'Fwd Packet/Bulk Avg_sc', 'Fwd Bulk Rate Avg_sc', 'Bwd Bytes/Bulk Avg_sc', 'Bwd Packet/Bulk Avg_sc', 'Bwd Bulk Rate Avg_sc', 'Subflow Fwd Packets_sc', 'Subflow Fwd Bytes_sc', 'Subflow Bwd Packets_sc', 'Subflow Bwd Bytes_sc', 'FWD Init Win Bytes_sc', 'Bwd Init Win Bytes_sc', 'Fwd Act Data Pkts_sc', 'Fwd Seg Size Min_sc', 'Active Mean_sc', 'Active Std_sc', 'Active Max_sc', 'Active Min_sc', 'Idle Mean_sc', 'Idle Std_sc', 'Idle Max_sc', 'Idle Min_sc']\n"
     ]
    }
   ],
   "source": [
    "print(\"Original numerical columns:\",cols_numerical_orig)\n",
    "print(\"Scaled numerical columns:\",cols_numerical_sc)"
   ]
  },
  {
   "cell_type": "markdown",
   "metadata": {},
   "source": [
    "### Logistic Regression"
   ]
  },
  {
   "cell_type": "markdown",
   "metadata": {},
   "source": [
    "A good choice for predicting binary outcomes (like whether an activity is malicious or not) and provides interpretable coefficients."
   ]
  },
  {
   "cell_type": "code",
   "execution_count": 24,
   "metadata": {},
   "outputs": [
    {
     "name": "stdout",
     "output_type": "stream",
     "text": [
      "Will not use following columns: \n",
      " ['Flow ID', 'Flow Duration', 'Total Fwd Packet', 'Total Bwd packets', 'Total Length of Fwd Packet', 'Total Length of Bwd Packet', 'Fwd Packet Length Max', 'Fwd Packet Length Min', 'Fwd Packet Length Mean', 'Fwd Packet Length Std', 'Bwd Packet Length Max', 'Bwd Packet Length Min', 'Bwd Packet Length Mean', 'Bwd Packet Length Std', 'Flow Bytes/s', 'Flow Packets/s', 'Flow IAT Mean', 'Flow IAT Std', 'Flow IAT Max', 'Flow IAT Min', 'Fwd IAT Total', 'Fwd IAT Mean', 'Fwd IAT Std', 'Fwd IAT Max', 'Fwd IAT Min', 'Bwd IAT Total', 'Bwd IAT Mean', 'Bwd IAT Std', 'Bwd IAT Max', 'Bwd IAT Min', 'Fwd PSH Flags', 'Bwd PSH Flags', 'Fwd URG Flags', 'Bwd URG Flags', 'Fwd Header Length', 'Bwd Header Length', 'Fwd Packets/s', 'Bwd Packets/s', 'Packet Length Min', 'Packet Length Max', 'Packet Length Mean', 'Packet Length Std', 'Packet Length Variance', 'FIN Flag Count', 'SYN Flag Count', 'RST Flag Count', 'PSH Flag Count', 'ACK Flag Count', 'URG Flag Count', 'CWR Flag Count', 'ECE Flag Count', 'Down/Up Ratio', 'Average Packet Size', 'Fwd Segment Size Avg', 'Bwd Segment Size Avg', 'Fwd Bytes/Bulk Avg', 'Fwd Packet/Bulk Avg', 'Fwd Bulk Rate Avg', 'Bwd Bytes/Bulk Avg', 'Bwd Packet/Bulk Avg', 'Bwd Bulk Rate Avg', 'Subflow Fwd Packets', 'Subflow Fwd Bytes', 'Subflow Bwd Packets', 'Subflow Bwd Bytes', 'FWD Init Win Bytes', 'Bwd Init Win Bytes', 'Fwd Act Data Pkts', 'Fwd Seg Size Min', 'Active Mean', 'Active Std', 'Active Max', 'Active Min', 'Idle Mean', 'Idle Std', 'Idle Max', 'Idle Min']\n",
      "\n",
      " +++++++++++++++++++++++++++++++++++++++++++++++++++++++++++++++++++++++++\n",
      "Will be using following features: \n",
      " ['Flow ID_le'] ['Flow Duration_sc', 'Total Fwd Packet_sc', 'Total Bwd packets_sc', 'Total Length of Fwd Packet_sc', 'Total Length of Bwd Packet_sc', 'Fwd Packet Length Max_sc', 'Fwd Packet Length Min_sc', 'Fwd Packet Length Mean_sc', 'Fwd Packet Length Std_sc', 'Bwd Packet Length Max_sc', 'Bwd Packet Length Min_sc', 'Bwd Packet Length Mean_sc', 'Bwd Packet Length Std_sc', 'Flow Bytes/s_sc', 'Flow Packets/s_sc', 'Flow IAT Mean_sc', 'Flow IAT Std_sc', 'Flow IAT Max_sc', 'Flow IAT Min_sc', 'Fwd IAT Total_sc', 'Fwd IAT Mean_sc', 'Fwd IAT Std_sc', 'Fwd IAT Max_sc', 'Fwd IAT Min_sc', 'Bwd IAT Total_sc', 'Bwd IAT Mean_sc', 'Bwd IAT Std_sc', 'Bwd IAT Max_sc', 'Bwd IAT Min_sc', 'Fwd PSH Flags_sc', 'Bwd PSH Flags_sc', 'Fwd URG Flags_sc', 'Bwd URG Flags_sc', 'Fwd Header Length_sc', 'Bwd Header Length_sc', 'Fwd Packets/s_sc', 'Bwd Packets/s_sc', 'Packet Length Min_sc', 'Packet Length Max_sc', 'Packet Length Mean_sc', 'Packet Length Std_sc', 'Packet Length Variance_sc', 'FIN Flag Count_sc', 'SYN Flag Count_sc', 'RST Flag Count_sc', 'PSH Flag Count_sc', 'ACK Flag Count_sc', 'URG Flag Count_sc', 'CWR Flag Count_sc', 'ECE Flag Count_sc', 'Down/Up Ratio_sc', 'Average Packet Size_sc', 'Fwd Segment Size Avg_sc', 'Bwd Segment Size Avg_sc', 'Fwd Bytes/Bulk Avg_sc', 'Fwd Packet/Bulk Avg_sc', 'Fwd Bulk Rate Avg_sc', 'Bwd Bytes/Bulk Avg_sc', 'Bwd Packet/Bulk Avg_sc', 'Bwd Bulk Rate Avg_sc', 'Subflow Fwd Packets_sc', 'Subflow Fwd Bytes_sc', 'Subflow Bwd Packets_sc', 'Subflow Bwd Bytes_sc', 'FWD Init Win Bytes_sc', 'Bwd Init Win Bytes_sc', 'Fwd Act Data Pkts_sc', 'Fwd Seg Size Min_sc', 'Active Mean_sc', 'Active Std_sc', 'Active Max_sc', 'Active Min_sc', 'Idle Mean_sc', 'Idle Std_sc', 'Idle Max_sc', 'Idle Min_sc']\n",
      "\n",
      " +++++++++++++++++++++++++++++++++++++++++++++++++++++++++++++++++++++++++\n"
     ]
    }
   ],
   "source": [
    "print(\"Will not use following columns:\", \"\\n\",cols_to_drop)\n",
    "print(\"\\n +++++++++++++++++++++++++++++++++++++++++++++++++++++++++++++++++++++++++\")\n",
    "print(\"Will be using following features:\", \"\\n\", cat_enc_columns, cols_numerical_sc)\n",
    "print(\"\\n +++++++++++++++++++++++++++++++++++++++++++++++++++++++++++++++++++++++++\")"
   ]
  },
  {
   "cell_type": "code",
   "execution_count": null,
   "metadata": {},
   "outputs": [
    {
     "data": {
      "text/plain": [
       "['Flow ID_le']"
      ]
     },
     "execution_count": 23,
     "metadata": {},
     "output_type": "execute_result"
    }
   ],
   "source": [
    "cat_enc_columns"
   ]
  },
  {
   "cell_type": "code",
   "execution_count": null,
   "metadata": {},
   "outputs": [
    {
     "data": {
      "text/plain": [
       "['Flow Duration_sc',\n",
       " 'Total Fwd Packet_sc',\n",
       " 'Total Bwd packets_sc',\n",
       " 'Total Length of Fwd Packet_sc',\n",
       " 'Total Length of Bwd Packet_sc',\n",
       " 'Fwd Packet Length Max_sc',\n",
       " 'Fwd Packet Length Min_sc',\n",
       " 'Fwd Packet Length Mean_sc',\n",
       " 'Fwd Packet Length Std_sc',\n",
       " 'Bwd Packet Length Max_sc',\n",
       " 'Bwd Packet Length Min_sc',\n",
       " 'Bwd Packet Length Mean_sc',\n",
       " 'Bwd Packet Length Std_sc',\n",
       " 'Flow Bytes/s_sc',\n",
       " 'Flow Packets/s_sc',\n",
       " 'Flow IAT Mean_sc',\n",
       " 'Flow IAT Std_sc',\n",
       " 'Flow IAT Max_sc',\n",
       " 'Flow IAT Min_sc',\n",
       " 'Fwd IAT Total_sc',\n",
       " 'Fwd IAT Mean_sc',\n",
       " 'Fwd IAT Std_sc',\n",
       " 'Fwd IAT Max_sc',\n",
       " 'Fwd IAT Min_sc',\n",
       " 'Bwd IAT Total_sc',\n",
       " 'Bwd IAT Mean_sc',\n",
       " 'Bwd IAT Std_sc',\n",
       " 'Bwd IAT Max_sc',\n",
       " 'Bwd IAT Min_sc',\n",
       " 'Fwd PSH Flags_sc',\n",
       " 'Bwd PSH Flags_sc',\n",
       " 'Fwd URG Flags_sc',\n",
       " 'Bwd URG Flags_sc',\n",
       " 'Fwd Header Length_sc',\n",
       " 'Bwd Header Length_sc',\n",
       " 'Fwd Packets/s_sc',\n",
       " 'Bwd Packets/s_sc',\n",
       " 'Packet Length Min_sc',\n",
       " 'Packet Length Max_sc',\n",
       " 'Packet Length Mean_sc',\n",
       " 'Packet Length Std_sc',\n",
       " 'Packet Length Variance_sc',\n",
       " 'FIN Flag Count_sc',\n",
       " 'SYN Flag Count_sc',\n",
       " 'RST Flag Count_sc',\n",
       " 'PSH Flag Count_sc',\n",
       " 'ACK Flag Count_sc',\n",
       " 'URG Flag Count_sc',\n",
       " 'CWR Flag Count_sc',\n",
       " 'ECE Flag Count_sc',\n",
       " 'Down/Up Ratio_sc',\n",
       " 'Average Packet Size_sc',\n",
       " 'Fwd Segment Size Avg_sc',\n",
       " 'Bwd Segment Size Avg_sc',\n",
       " 'Fwd Bytes/Bulk Avg_sc',\n",
       " 'Fwd Packet/Bulk Avg_sc',\n",
       " 'Fwd Bulk Rate Avg_sc',\n",
       " 'Bwd Bytes/Bulk Avg_sc',\n",
       " 'Bwd Packet/Bulk Avg_sc',\n",
       " 'Bwd Bulk Rate Avg_sc',\n",
       " 'Subflow Fwd Packets_sc',\n",
       " 'Subflow Fwd Bytes_sc',\n",
       " 'Subflow Bwd Packets_sc',\n",
       " 'Subflow Bwd Bytes_sc',\n",
       " 'FWD Init Win Bytes_sc',\n",
       " 'Bwd Init Win Bytes_sc',\n",
       " 'Fwd Act Data Pkts_sc',\n",
       " 'Fwd Seg Size Min_sc',\n",
       " 'Active Mean_sc',\n",
       " 'Active Std_sc',\n",
       " 'Active Max_sc',\n",
       " 'Active Min_sc',\n",
       " 'Idle Mean_sc',\n",
       " 'Idle Std_sc',\n",
       " 'Idle Max_sc',\n",
       " 'Idle Min_sc']"
      ]
     },
     "execution_count": 24,
     "metadata": {},
     "output_type": "execute_result"
    }
   ],
   "source": [
    "cols_numerical_sc"
   ]
  },
  {
   "cell_type": "code",
   "execution_count": 25,
   "metadata": {},
   "outputs": [],
   "source": [
    "X_tr = X_train[cols_numerical_sc+cat_enc_columns]\n",
    "y_tr = X_train.Label\n",
    "\n",
    "X_tst = X_test[cols_numerical_sc+cat_enc_columns]\n",
    "y_tst = X_test.Label"
   ]
  },
  {
   "cell_type": "code",
   "execution_count": 26,
   "metadata": {},
   "outputs": [
    {
     "name": "stdout",
     "output_type": "stream",
     "text": [
      "Total number of records in Train: 257361\n",
      "Total number of digit 1 in Train: 4283\n",
      "Total number of records in Test: 55962\n",
      "Total number of digit 1 in Test: 903\n"
     ]
    }
   ],
   "source": [
    "print(\"Total number of records in Train:\",len(y_tr))\n",
    "print(\"Total number of digit 1 in Train:\",np.count_nonzero(y_tr))\n",
    "\n",
    "print(\"Total number of records in Test:\",len(y_tst))\n",
    "print(\"Total number of digit 1 in Test:\",np.count_nonzero(y_tst))"
   ]
  },
  {
   "cell_type": "markdown",
   "metadata": {},
   "source": [
    "**Default Parameters**"
   ]
  },
  {
   "cell_type": "code",
   "execution_count": 28,
   "metadata": {},
   "outputs": [
    {
     "name": "stderr",
     "output_type": "stream",
     "text": [
      "/Users/thienla/ml-fall-2023/lib/python3.10/site-packages/sklearn/linear_model/_logistic.py:460: ConvergenceWarning: lbfgs failed to converge (status=1):\n",
      "STOP: TOTAL NO. of ITERATIONS REACHED LIMIT.\n",
      "\n",
      "Increase the number of iterations (max_iter) or scale the data as shown in:\n",
      "    https://scikit-learn.org/stable/modules/preprocessing.html\n",
      "Please also refer to the documentation for alternative solver options:\n",
      "    https://scikit-learn.org/stable/modules/linear_model.html#logistic-regression\n",
      "  n_iter_i = _check_optimize_result(\n"
     ]
    },
    {
     "data": {
      "text/html": [
       "<style>#sk-container-id-1 {color: black;}#sk-container-id-1 pre{padding: 0;}#sk-container-id-1 div.sk-toggleable {background-color: white;}#sk-container-id-1 label.sk-toggleable__label {cursor: pointer;display: block;width: 100%;margin-bottom: 0;padding: 0.3em;box-sizing: border-box;text-align: center;}#sk-container-id-1 label.sk-toggleable__label-arrow:before {content: \"▸\";float: left;margin-right: 0.25em;color: #696969;}#sk-container-id-1 label.sk-toggleable__label-arrow:hover:before {color: black;}#sk-container-id-1 div.sk-estimator:hover label.sk-toggleable__label-arrow:before {color: black;}#sk-container-id-1 div.sk-toggleable__content {max-height: 0;max-width: 0;overflow: hidden;text-align: left;background-color: #f0f8ff;}#sk-container-id-1 div.sk-toggleable__content pre {margin: 0.2em;color: black;border-radius: 0.25em;background-color: #f0f8ff;}#sk-container-id-1 input.sk-toggleable__control:checked~div.sk-toggleable__content {max-height: 200px;max-width: 100%;overflow: auto;}#sk-container-id-1 input.sk-toggleable__control:checked~label.sk-toggleable__label-arrow:before {content: \"▾\";}#sk-container-id-1 div.sk-estimator input.sk-toggleable__control:checked~label.sk-toggleable__label {background-color: #d4ebff;}#sk-container-id-1 div.sk-label input.sk-toggleable__control:checked~label.sk-toggleable__label {background-color: #d4ebff;}#sk-container-id-1 input.sk-hidden--visually {border: 0;clip: rect(1px 1px 1px 1px);clip: rect(1px, 1px, 1px, 1px);height: 1px;margin: -1px;overflow: hidden;padding: 0;position: absolute;width: 1px;}#sk-container-id-1 div.sk-estimator {font-family: monospace;background-color: #f0f8ff;border: 1px dotted black;border-radius: 0.25em;box-sizing: border-box;margin-bottom: 0.5em;}#sk-container-id-1 div.sk-estimator:hover {background-color: #d4ebff;}#sk-container-id-1 div.sk-parallel-item::after {content: \"\";width: 100%;border-bottom: 1px solid gray;flex-grow: 1;}#sk-container-id-1 div.sk-label:hover label.sk-toggleable__label {background-color: #d4ebff;}#sk-container-id-1 div.sk-serial::before {content: \"\";position: absolute;border-left: 1px solid gray;box-sizing: border-box;top: 0;bottom: 0;left: 50%;z-index: 0;}#sk-container-id-1 div.sk-serial {display: flex;flex-direction: column;align-items: center;background-color: white;padding-right: 0.2em;padding-left: 0.2em;position: relative;}#sk-container-id-1 div.sk-item {position: relative;z-index: 1;}#sk-container-id-1 div.sk-parallel {display: flex;align-items: stretch;justify-content: center;background-color: white;position: relative;}#sk-container-id-1 div.sk-item::before, #sk-container-id-1 div.sk-parallel-item::before {content: \"\";position: absolute;border-left: 1px solid gray;box-sizing: border-box;top: 0;bottom: 0;left: 50%;z-index: -1;}#sk-container-id-1 div.sk-parallel-item {display: flex;flex-direction: column;z-index: 1;position: relative;background-color: white;}#sk-container-id-1 div.sk-parallel-item:first-child::after {align-self: flex-end;width: 50%;}#sk-container-id-1 div.sk-parallel-item:last-child::after {align-self: flex-start;width: 50%;}#sk-container-id-1 div.sk-parallel-item:only-child::after {width: 0;}#sk-container-id-1 div.sk-dashed-wrapped {border: 1px dashed gray;margin: 0 0.4em 0.5em 0.4em;box-sizing: border-box;padding-bottom: 0.4em;background-color: white;}#sk-container-id-1 div.sk-label label {font-family: monospace;font-weight: bold;display: inline-block;line-height: 1.2em;}#sk-container-id-1 div.sk-label-container {text-align: center;}#sk-container-id-1 div.sk-container {/* jupyter's `normalize.less` sets `[hidden] { display: none; }` but bootstrap.min.css set `[hidden] { display: none !important; }` so we also need the `!important` here to be able to override the default hidden behavior on the sphinx rendered scikit-learn.org. See: https://github.com/scikit-learn/scikit-learn/issues/21755 */display: inline-block !important;position: relative;}#sk-container-id-1 div.sk-text-repr-fallback {display: none;}</style><div id=\"sk-container-id-1\" class=\"sk-top-container\"><div class=\"sk-text-repr-fallback\"><pre>LogisticRegression(C=1)</pre><b>In a Jupyter environment, please rerun this cell to show the HTML representation or trust the notebook. <br />On GitHub, the HTML representation is unable to render, please try loading this page with nbviewer.org.</b></div><div class=\"sk-container\" hidden><div class=\"sk-item\"><div class=\"sk-estimator sk-toggleable\"><input class=\"sk-toggleable__control sk-hidden--visually\" id=\"sk-estimator-id-1\" type=\"checkbox\" checked><label for=\"sk-estimator-id-1\" class=\"sk-toggleable__label sk-toggleable__label-arrow\">LogisticRegression</label><div class=\"sk-toggleable__content\"><pre>LogisticRegression(C=1)</pre></div></div></div></div></div>"
      ],
      "text/plain": [
       "LogisticRegression(C=1)"
      ]
     },
     "execution_count": 28,
     "metadata": {},
     "output_type": "execute_result"
    }
   ],
   "source": [
    "from sklearn.linear_model import LogisticRegression\n",
    "\n",
    "lreg = LogisticRegression(solver ='lbfgs', C = 1, penalty = 'l2', max_iter = 100 )\n",
    "lreg.fit(X_tr, y_tr)"
   ]
  },
  {
   "cell_type": "code",
   "execution_count": 30,
   "metadata": {},
   "outputs": [
    {
     "name": "stdout",
     "output_type": "stream",
     "text": [
      "Logistic Regression Score Test: 0.99\n"
     ]
    },
    {
     "name": "stdout",
     "output_type": "stream",
     "text": [
      "Logistic Regression Score Train: 0.99\n",
      "Accuracy: 0.989\n",
      "F1 Score Logistic Regression Test: 0.99\n"
     ]
    }
   ],
   "source": [
    "from sklearn.metrics import f1_score\n",
    "from sklearn.metrics import accuracy_score\n",
    "\n",
    "print(\"Logistic Regression Score Test: {:.2f}\".format(lreg.score(X_tst, y_tst)))\n",
    "print(\"Logistic Regression Score Train: {:.2f}\".format(lreg.score(X_tr, y_tr)))\n",
    "#\n",
    "pred = lreg.predict(X_tst)\n",
    "print(\"Accuracy: {:.3f}\".format(accuracy_score(y_tst, pred)))\n",
    "print(\"F1 Score Logistic Regression Test: {:.2f}\".format(f1_score(y_tst, pred, average=\"weighted\")))"
   ]
  },
  {
   "cell_type": "code",
   "execution_count": 31,
   "metadata": {},
   "outputs": [
    {
     "name": "stdout",
     "output_type": "stream",
     "text": [
      "              precision    recall  f1-score   support\n",
      "\n",
      "     not one       0.99      0.99      0.99     55059\n",
      "         one       0.67      0.64      0.65       903\n",
      "\n",
      "    accuracy                           0.99     55962\n",
      "   macro avg       0.83      0.82      0.82     55962\n",
      "weighted avg       0.99      0.99      0.99     55962\n",
      "\n"
     ]
    }
   ],
   "source": [
    "# Classification report for Log-regression prediction\n",
    "from sklearn.metrics import classification_report\n",
    "\n",
    "print(classification_report(y_tst, pred, target_names=[\"not one\", \"one\"], \n",
    "                            zero_division=0))"
   ]
  },
  {
   "cell_type": "markdown",
   "metadata": {},
   "source": [
    "Predicts the target variable and computes its accuracy in order to assess the logistic regression model on the test set. \n",
    "\n",
    "The accuracy_score function is then used to compare the predicted values in the y_pred array with the actual target values (y_test)."
   ]
  },
  {
   "cell_type": "code",
   "execution_count": 32,
   "metadata": {},
   "outputs": [
    {
     "name": "stdout",
     "output_type": "stream",
     "text": [
      "Confusion matrix:\n",
      "[[54770   289]\n",
      " [  323   580]]\n"
     ]
    }
   ],
   "source": [
    "from sklearn.metrics import confusion_matrix\n",
    "\n",
    "print(\"Confusion matrix:\\n{}\".format(confusion_matrix(y_tst, pred)))"
   ]
  },
  {
   "cell_type": "code",
   "execution_count": 33,
   "metadata": {},
   "outputs": [],
   "source": [
    "from sklearn.metrics import precision_recall_curve\n",
    "\n",
    "# Get arrays of precision and recall for various probability thresholds\n",
    "precision, recall, thresholds = precision_recall_curve(y_true=y_tst, \n",
    "                                                       probas_pred=lreg.predict_proba(X_tst)[:,1])"
   ]
  },
  {
   "cell_type": "code",
   "execution_count": 34,
   "metadata": {},
   "outputs": [
    {
     "name": "stdout",
     "output_type": "stream",
     "text": [
      "Best f1: 0.7\n",
      "Index of threshold: 53638\n",
      "Threshold for best F1: 0.34\n"
     ]
    }
   ],
   "source": [
    "# Calculate index for the best probability threshold\n",
    "best_f1 = 0\n",
    "best_f1_id = 0\n",
    "for id, (pr, rc, threshold) in enumerate(zip(precision, recall, thresholds)):\n",
    "    f1 = 2*(pr*rc)/(pr+rc)\n",
    "    if f1 > best_f1:\n",
    "        best_f1 = f1\n",
    "        best_f1_id = id\n",
    "\n",
    "print(\"Best f1:\", best_f1.round(2))\n",
    "print(\"Index of threshold:\",best_f1_id)\n",
    "print(\"Threshold for best F1:\", thresholds[best_f1_id].round(2))"
   ]
  },
  {
   "cell_type": "code",
   "execution_count": 35,
   "metadata": {},
   "outputs": [],
   "source": [
    "train_scores = pd.concat([\n",
    "pd.Series(y_tr, name='y_true').reset_index(drop=True),\n",
    "pd.Series(lreg.predict_proba(X_tr)[::,1],\n",
    "name='y_prob').reset_index(drop=True)\n",
    "],axis=1)\n",
    "#\n",
    "test_scores = pd.concat([\n",
    "pd.Series(y_tst, name='y_true').reset_index(drop=True),\n",
    "pd.Series(lreg.predict_proba(X_tst)[::,1],\n",
    "name='y_prob').reset_index(drop=True)\n",
    "],axis=1)"
   ]
  },
  {
   "cell_type": "code",
   "execution_count": 36,
   "metadata": {},
   "outputs": [
    {
     "data": {
      "text/html": [
       "<div>\n",
       "<style scoped>\n",
       "    .dataframe tbody tr th:only-of-type {\n",
       "        vertical-align: middle;\n",
       "    }\n",
       "\n",
       "    .dataframe tbody tr th {\n",
       "        vertical-align: top;\n",
       "    }\n",
       "\n",
       "    .dataframe thead th {\n",
       "        text-align: right;\n",
       "    }\n",
       "</style>\n",
       "<table border=\"1\" class=\"dataframe\">\n",
       "  <thead>\n",
       "    <tr style=\"text-align: right;\">\n",
       "      <th></th>\n",
       "      <th>y_true</th>\n",
       "      <th>y_prob</th>\n",
       "    </tr>\n",
       "  </thead>\n",
       "  <tbody>\n",
       "    <tr>\n",
       "      <th>0</th>\n",
       "      <td>0</td>\n",
       "      <td>3.228185e-10</td>\n",
       "    </tr>\n",
       "    <tr>\n",
       "      <th>1</th>\n",
       "      <td>0</td>\n",
       "      <td>3.228266e-10</td>\n",
       "    </tr>\n",
       "    <tr>\n",
       "      <th>2</th>\n",
       "      <td>0</td>\n",
       "      <td>3.183605e-10</td>\n",
       "    </tr>\n",
       "    <tr>\n",
       "      <th>3</th>\n",
       "      <td>0</td>\n",
       "      <td>1.162603e-13</td>\n",
       "    </tr>\n",
       "    <tr>\n",
       "      <th>4</th>\n",
       "      <td>0</td>\n",
       "      <td>1.167961e-13</td>\n",
       "    </tr>\n",
       "  </tbody>\n",
       "</table>\n",
       "</div>"
      ],
      "text/plain": [
       "   y_true        y_prob\n",
       "0       0  3.228185e-10\n",
       "1       0  3.228266e-10\n",
       "2       0  3.183605e-10\n",
       "3       0  1.162603e-13\n",
       "4       0  1.167961e-13"
      ]
     },
     "execution_count": 36,
     "metadata": {},
     "output_type": "execute_result"
    }
   ],
   "source": [
    "test_scores.head()"
   ]
  },
  {
   "cell_type": "code",
   "execution_count": 37,
   "metadata": {},
   "outputs": [
    {
     "data": {
      "text/html": [
       "<div>\n",
       "<style scoped>\n",
       "    .dataframe tbody tr th:only-of-type {\n",
       "        vertical-align: middle;\n",
       "    }\n",
       "\n",
       "    .dataframe tbody tr th {\n",
       "        vertical-align: top;\n",
       "    }\n",
       "\n",
       "    .dataframe thead th {\n",
       "        text-align: right;\n",
       "    }\n",
       "</style>\n",
       "<table border=\"1\" class=\"dataframe\">\n",
       "  <thead>\n",
       "    <tr style=\"text-align: right;\">\n",
       "      <th></th>\n",
       "      <th>Flow Duration_sc</th>\n",
       "      <th>Total Fwd Packet_sc</th>\n",
       "      <th>Total Bwd packets_sc</th>\n",
       "      <th>Total Length of Fwd Packet_sc</th>\n",
       "      <th>Total Length of Bwd Packet_sc</th>\n",
       "      <th>Fwd Packet Length Max_sc</th>\n",
       "      <th>Fwd Packet Length Min_sc</th>\n",
       "      <th>Fwd Packet Length Mean_sc</th>\n",
       "      <th>Fwd Packet Length Std_sc</th>\n",
       "      <th>Bwd Packet Length Max_sc</th>\n",
       "      <th>...</th>\n",
       "      <th>Fwd Seg Size Min_sc</th>\n",
       "      <th>Active Mean_sc</th>\n",
       "      <th>Active Std_sc</th>\n",
       "      <th>Active Max_sc</th>\n",
       "      <th>Active Min_sc</th>\n",
       "      <th>Idle Mean_sc</th>\n",
       "      <th>Idle Std_sc</th>\n",
       "      <th>Idle Max_sc</th>\n",
       "      <th>Idle Min_sc</th>\n",
       "      <th>Flow ID_le</th>\n",
       "    </tr>\n",
       "  </thead>\n",
       "  <tbody>\n",
       "    <tr>\n",
       "      <th>0</th>\n",
       "      <td>1.577989</td>\n",
       "      <td>-0.070574</td>\n",
       "      <td>0.034293</td>\n",
       "      <td>-0.071503</td>\n",
       "      <td>-0.032439</td>\n",
       "      <td>-0.055155</td>\n",
       "      <td>0.089282</td>\n",
       "      <td>-0.001073</td>\n",
       "      <td>-0.082838</td>\n",
       "      <td>-0.141897</td>\n",
       "      <td>...</td>\n",
       "      <td>-1.194689</td>\n",
       "      <td>-0.046566</td>\n",
       "      <td>0.0</td>\n",
       "      <td>-0.046566</td>\n",
       "      <td>-0.046566</td>\n",
       "      <td>-0.052067</td>\n",
       "      <td>-0.169185</td>\n",
       "      <td>-0.38521</td>\n",
       "      <td>0.055764</td>\n",
       "      <td>100544</td>\n",
       "    </tr>\n",
       "    <tr>\n",
       "      <th>1</th>\n",
       "      <td>1.577909</td>\n",
       "      <td>-0.070574</td>\n",
       "      <td>0.034293</td>\n",
       "      <td>-0.071503</td>\n",
       "      <td>-0.032439</td>\n",
       "      <td>-0.055155</td>\n",
       "      <td>0.089282</td>\n",
       "      <td>-0.001073</td>\n",
       "      <td>-0.082838</td>\n",
       "      <td>-0.141897</td>\n",
       "      <td>...</td>\n",
       "      <td>-1.194689</td>\n",
       "      <td>-0.046566</td>\n",
       "      <td>0.0</td>\n",
       "      <td>-0.046566</td>\n",
       "      <td>-0.046566</td>\n",
       "      <td>-0.052067</td>\n",
       "      <td>-0.169185</td>\n",
       "      <td>-0.38521</td>\n",
       "      <td>0.055764</td>\n",
       "      <td>100544</td>\n",
       "    </tr>\n",
       "    <tr>\n",
       "      <th>2</th>\n",
       "      <td>1.606180</td>\n",
       "      <td>-0.070574</td>\n",
       "      <td>0.034293</td>\n",
       "      <td>-0.071503</td>\n",
       "      <td>-0.032439</td>\n",
       "      <td>-0.055155</td>\n",
       "      <td>0.089282</td>\n",
       "      <td>-0.001073</td>\n",
       "      <td>-0.082838</td>\n",
       "      <td>-0.141897</td>\n",
       "      <td>...</td>\n",
       "      <td>-1.194689</td>\n",
       "      <td>-0.046566</td>\n",
       "      <td>0.0</td>\n",
       "      <td>-0.046566</td>\n",
       "      <td>-0.046566</td>\n",
       "      <td>-0.052067</td>\n",
       "      <td>-0.169185</td>\n",
       "      <td>-0.38521</td>\n",
       "      <td>0.055764</td>\n",
       "      <td>100544</td>\n",
       "    </tr>\n",
       "    <tr>\n",
       "      <th>3</th>\n",
       "      <td>2.117835</td>\n",
       "      <td>-0.111876</td>\n",
       "      <td>-0.295197</td>\n",
       "      <td>-0.079156</td>\n",
       "      <td>-0.045704</td>\n",
       "      <td>-0.052650</td>\n",
       "      <td>0.097492</td>\n",
       "      <td>0.003447</td>\n",
       "      <td>-0.082838</td>\n",
       "      <td>-0.276173</td>\n",
       "      <td>...</td>\n",
       "      <td>-1.194689</td>\n",
       "      <td>-0.046566</td>\n",
       "      <td>0.0</td>\n",
       "      <td>-0.046566</td>\n",
       "      <td>-0.046566</td>\n",
       "      <td>-5.317819</td>\n",
       "      <td>5.553863</td>\n",
       "      <td>-0.38521</td>\n",
       "      <td>-5.656224</td>\n",
       "      <td>100689</td>\n",
       "    </tr>\n",
       "    <tr>\n",
       "      <th>4</th>\n",
       "      <td>2.117830</td>\n",
       "      <td>-0.111876</td>\n",
       "      <td>-0.295197</td>\n",
       "      <td>-0.079156</td>\n",
       "      <td>-0.045704</td>\n",
       "      <td>-0.052650</td>\n",
       "      <td>0.097492</td>\n",
       "      <td>0.003447</td>\n",
       "      <td>-0.082838</td>\n",
       "      <td>-0.276173</td>\n",
       "      <td>...</td>\n",
       "      <td>-1.194689</td>\n",
       "      <td>-0.046566</td>\n",
       "      <td>0.0</td>\n",
       "      <td>-0.046566</td>\n",
       "      <td>-0.046566</td>\n",
       "      <td>-5.317819</td>\n",
       "      <td>5.553863</td>\n",
       "      <td>-0.38521</td>\n",
       "      <td>-5.656224</td>\n",
       "      <td>100663</td>\n",
       "    </tr>\n",
       "  </tbody>\n",
       "</table>\n",
       "<p>5 rows × 77 columns</p>\n",
       "</div>"
      ],
      "text/plain": [
       "   Flow Duration_sc  Total Fwd Packet_sc  Total Bwd packets_sc  \\\n",
       "0          1.577989            -0.070574              0.034293   \n",
       "1          1.577909            -0.070574              0.034293   \n",
       "2          1.606180            -0.070574              0.034293   \n",
       "3          2.117835            -0.111876             -0.295197   \n",
       "4          2.117830            -0.111876             -0.295197   \n",
       "\n",
       "   Total Length of Fwd Packet_sc  Total Length of Bwd Packet_sc  \\\n",
       "0                      -0.071503                      -0.032439   \n",
       "1                      -0.071503                      -0.032439   \n",
       "2                      -0.071503                      -0.032439   \n",
       "3                      -0.079156                      -0.045704   \n",
       "4                      -0.079156                      -0.045704   \n",
       "\n",
       "   Fwd Packet Length Max_sc  Fwd Packet Length Min_sc  \\\n",
       "0                 -0.055155                  0.089282   \n",
       "1                 -0.055155                  0.089282   \n",
       "2                 -0.055155                  0.089282   \n",
       "3                 -0.052650                  0.097492   \n",
       "4                 -0.052650                  0.097492   \n",
       "\n",
       "   Fwd Packet Length Mean_sc  Fwd Packet Length Std_sc  \\\n",
       "0                  -0.001073                 -0.082838   \n",
       "1                  -0.001073                 -0.082838   \n",
       "2                  -0.001073                 -0.082838   \n",
       "3                   0.003447                 -0.082838   \n",
       "4                   0.003447                 -0.082838   \n",
       "\n",
       "   Bwd Packet Length Max_sc  ...  Fwd Seg Size Min_sc  Active Mean_sc  \\\n",
       "0                 -0.141897  ...            -1.194689       -0.046566   \n",
       "1                 -0.141897  ...            -1.194689       -0.046566   \n",
       "2                 -0.141897  ...            -1.194689       -0.046566   \n",
       "3                 -0.276173  ...            -1.194689       -0.046566   \n",
       "4                 -0.276173  ...            -1.194689       -0.046566   \n",
       "\n",
       "   Active Std_sc  Active Max_sc  Active Min_sc  Idle Mean_sc  Idle Std_sc  \\\n",
       "0            0.0      -0.046566      -0.046566     -0.052067    -0.169185   \n",
       "1            0.0      -0.046566      -0.046566     -0.052067    -0.169185   \n",
       "2            0.0      -0.046566      -0.046566     -0.052067    -0.169185   \n",
       "3            0.0      -0.046566      -0.046566     -5.317819     5.553863   \n",
       "4            0.0      -0.046566      -0.046566     -5.317819     5.553863   \n",
       "\n",
       "   Idle Max_sc  Idle Min_sc  Flow ID_le  \n",
       "0     -0.38521     0.055764      100544  \n",
       "1     -0.38521     0.055764      100544  \n",
       "2     -0.38521     0.055764      100544  \n",
       "3     -0.38521    -5.656224      100689  \n",
       "4     -0.38521    -5.656224      100663  \n",
       "\n",
       "[5 rows x 77 columns]"
      ]
     },
     "execution_count": 37,
     "metadata": {},
     "output_type": "execute_result"
    }
   ],
   "source": [
    "X_tst.head()"
   ]
  },
  {
   "cell_type": "code",
   "execution_count": 77,
   "metadata": {},
   "outputs": [
    {
     "name": "stdout",
     "output_type": "stream",
     "text": [
      "Feature: 0, Score: -0.24020\n",
      "Feature: 1, Score: 0.17220\n",
      "Feature: 2, Score: -0.04994\n",
      "Feature: 3, Score: 0.40577\n",
      "Feature: 4, Score: -0.01991\n",
      "Feature: 5, Score: 0.66369\n",
      "Feature: 6, Score: -0.12304\n",
      "Feature: 7, Score: 0.38295\n",
      "Feature: 8, Score: 0.66498\n",
      "Feature: 9, Score: 0.21778\n",
      "Feature: 10, Score: -0.89826\n",
      "Feature: 11, Score: -0.37560\n",
      "Feature: 12, Score: 0.95403\n",
      "Feature: 13, Score: -0.05533\n",
      "Feature: 14, Score: -0.04874\n",
      "Feature: 15, Score: -0.18678\n",
      "Feature: 16, Score: -0.02879\n",
      "Feature: 17, Score: 0.03735\n",
      "Feature: 18, Score: -0.20914\n",
      "Feature: 19, Score: -0.04611\n",
      "Feature: 20, Score: 0.08915\n",
      "Feature: 21, Score: 0.16312\n",
      "Feature: 22, Score: 0.21418\n",
      "Feature: 23, Score: -0.07904\n",
      "Feature: 24, Score: -0.18079\n",
      "Feature: 25, Score: 0.03304\n",
      "Feature: 26, Score: -0.20312\n",
      "Feature: 27, Score: 0.24163\n",
      "Feature: 28, Score: 0.13741\n",
      "Feature: 29, Score: 0.59433\n",
      "Feature: 30, Score: 0.00000\n",
      "Feature: 31, Score: -0.00624\n",
      "Feature: 32, Score: 0.00000\n",
      "Feature: 33, Score: 0.45467\n",
      "Feature: 34, Score: 0.58023\n",
      "Feature: 35, Score: -0.07268\n",
      "Feature: 36, Score: 0.05396\n",
      "Feature: 37, Score: -0.41360\n",
      "Feature: 38, Score: 0.53704\n",
      "Feature: 39, Score: 0.16575\n",
      "Feature: 40, Score: 0.50836\n",
      "Feature: 41, Score: 0.24593\n",
      "Feature: 42, Score: 0.33179\n",
      "Feature: 43, Score: -0.11226\n",
      "Feature: 44, Score: 0.61819\n",
      "Feature: 45, Score: -0.40929\n",
      "Feature: 46, Score: 0.60136\n",
      "Feature: 47, Score: 0.00941\n",
      "Feature: 48, Score: -0.15424\n",
      "Feature: 49, Score: -0.21718\n",
      "Feature: 50, Score: 0.23288\n",
      "Feature: 51, Score: -0.02562\n",
      "Feature: 52, Score: 0.38295\n",
      "Feature: 53, Score: -0.37560\n",
      "Feature: 54, Score: 0.00000\n",
      "Feature: 55, Score: 0.00000\n",
      "Feature: 56, Score: 0.00000\n",
      "Feature: 57, Score: 0.12602\n",
      "Feature: 58, Score: -0.42131\n",
      "Feature: 59, Score: -0.03412\n",
      "Feature: 60, Score: -0.49051\n",
      "Feature: 61, Score: 0.29301\n",
      "Feature: 62, Score: 0.00000\n",
      "Feature: 63, Score: -0.34353\n",
      "Feature: 64, Score: 0.41291\n",
      "Feature: 65, Score: -0.93704\n",
      "Feature: 66, Score: 0.10162\n",
      "Feature: 67, Score: 1.31578\n",
      "Feature: 68, Score: -0.04412\n",
      "Feature: 69, Score: 0.00000\n",
      "Feature: 70, Score: -0.04412\n",
      "Feature: 71, Score: -0.04412\n",
      "Feature: 72, Score: 0.43210\n",
      "Feature: 73, Score: -0.00813\n",
      "Feature: 74, Score: 0.78958\n",
      "Feature: 75, Score: 0.23909\n",
      "Feature: 76, Score: -0.00018\n"
     ]
    }
   ],
   "source": [
    "# Get importance\n",
    "importance = lreg.coef_[0]\n",
    "\n",
    "# Summarize feature importance\n",
    "for i,v in enumerate(importance):\n",
    " print('Feature: %0d, Score: %.5f' % (i,v))\n"
   ]
  },
  {
   "cell_type": "code",
   "execution_count": 78,
   "metadata": {},
   "outputs": [
    {
     "data": {
      "image/png": "[encoded data removed]",
      "text/plain": [
       "<Figure size 640x480 with 1 Axes>"
      ]
     },
     "metadata": {},
     "output_type": "display_data"
    }
   ],
   "source": [
    "# Plot feature importance\n",
    "pyplot.bar([x for x in range(len(importance))], importance)\n",
    "pyplot.show()"
   ]
  },
  {
   "cell_type": "code",
   "execution_count": 85,
   "metadata": {},
   "outputs": [],
   "source": [
    "import matplotlib.pyplot as plt\n",
    "\n",
    "importances = pd.DataFrame(data={\n",
    "    'Attribute': X_tr.columns,\n",
    "    'Importance': lreg.coef_[0]\n",
    "})\n",
    "#importances = importances.sort_values(by='Importance', ascending=False)"
   ]
  },
  {
   "cell_type": "code",
   "execution_count": 90,
   "metadata": {},
   "outputs": [],
   "source": [
    "importances.to_csv('lreg_feature_importances.csv')"
   ]
  },
  {
   "cell_type": "code",
   "execution_count": 89,
   "metadata": {},
   "outputs": [
    {
     "data": {
      "image/png": "[encoded data removed]",
      "text/plain": [
       "<Figure size 1500x800 with 1 Axes>"
      ]
     },
     "metadata": {},
     "output_type": "display_data"
    }
   ],
   "source": [
    "plt.figure(figsize=(15, 8))\n",
    "plt.bar(x=importances['Attribute'], height=importances['Importance'], color='Blue')\n",
    "plt.title('Feature Importances', size=15)\n",
    "plt.xticks(rotation='vertical')\n",
    "plt.show()"
   ]
  },
  {
   "cell_type": "markdown",
   "metadata": {},
   "source": [
    "### Decision Tree"
   ]
  },
  {
   "cell_type": "markdown",
   "metadata": {},
   "source": [
    "Can be useful for initial analysis due to their ability to visualize decision-making paths."
   ]
  },
  {
   "cell_type": "code",
   "execution_count": 38,
   "metadata": {},
   "outputs": [
    {
     "name": "stdout",
     "output_type": "stream",
     "text": [
      "Will not use following columns that are already encoded: \n",
      " ['Flow ID', 'Flow Duration', 'Total Fwd Packet', 'Total Bwd packets', 'Total Length of Fwd Packet', 'Total Length of Bwd Packet', 'Fwd Packet Length Max', 'Fwd Packet Length Min', 'Fwd Packet Length Mean', 'Fwd Packet Length Std', 'Bwd Packet Length Max', 'Bwd Packet Length Min', 'Bwd Packet Length Mean', 'Bwd Packet Length Std', 'Flow Bytes/s', 'Flow Packets/s', 'Flow IAT Mean', 'Flow IAT Std', 'Flow IAT Max', 'Flow IAT Min', 'Fwd IAT Total', 'Fwd IAT Mean', 'Fwd IAT Std', 'Fwd IAT Max', 'Fwd IAT Min', 'Bwd IAT Total', 'Bwd IAT Mean', 'Bwd IAT Std', 'Bwd IAT Max', 'Bwd IAT Min', 'Fwd PSH Flags', 'Bwd PSH Flags', 'Fwd URG Flags', 'Bwd URG Flags', 'Fwd Header Length', 'Bwd Header Length', 'Fwd Packets/s', 'Bwd Packets/s', 'Packet Length Min', 'Packet Length Max', 'Packet Length Mean', 'Packet Length Std', 'Packet Length Variance', 'FIN Flag Count', 'SYN Flag Count', 'RST Flag Count', 'PSH Flag Count', 'ACK Flag Count', 'URG Flag Count', 'CWR Flag Count', 'ECE Flag Count', 'Down/Up Ratio', 'Average Packet Size', 'Fwd Segment Size Avg', 'Bwd Segment Size Avg', 'Fwd Bytes/Bulk Avg', 'Fwd Packet/Bulk Avg', 'Fwd Bulk Rate Avg', 'Bwd Bytes/Bulk Avg', 'Bwd Packet/Bulk Avg', 'Bwd Bulk Rate Avg', 'Subflow Fwd Packets', 'Subflow Fwd Bytes', 'Subflow Bwd Packets', 'Subflow Bwd Bytes', 'FWD Init Win Bytes', 'Bwd Init Win Bytes', 'Fwd Act Data Pkts', 'Fwd Seg Size Min', 'Active Mean', 'Active Std', 'Active Max', 'Active Min', 'Idle Mean', 'Idle Std', 'Idle Max', 'Idle Min']\n",
      "\n",
      " +++++++++++++++++++++++++++++++++++++++++++++++++++++++++++++++++++++++++\n",
      "Will be using following features: ['Flow Duration_sc', 'Total Fwd Packet_sc', 'Total Bwd packets_sc', 'Total Length of Fwd Packet_sc', 'Total Length of Bwd Packet_sc', 'Fwd Packet Length Max_sc', 'Fwd Packet Length Min_sc', 'Fwd Packet Length Mean_sc', 'Fwd Packet Length Std_sc', 'Bwd Packet Length Max_sc', 'Bwd Packet Length Min_sc', 'Bwd Packet Length Mean_sc', 'Bwd Packet Length Std_sc', 'Flow Bytes/s_sc', 'Flow Packets/s_sc', 'Flow IAT Mean_sc', 'Flow IAT Std_sc', 'Flow IAT Max_sc', 'Flow IAT Min_sc', 'Fwd IAT Total_sc', 'Fwd IAT Mean_sc', 'Fwd IAT Std_sc', 'Fwd IAT Max_sc', 'Fwd IAT Min_sc', 'Bwd IAT Total_sc', 'Bwd IAT Mean_sc', 'Bwd IAT Std_sc', 'Bwd IAT Max_sc', 'Bwd IAT Min_sc', 'Fwd PSH Flags_sc', 'Bwd PSH Flags_sc', 'Fwd URG Flags_sc', 'Bwd URG Flags_sc', 'Fwd Header Length_sc', 'Bwd Header Length_sc', 'Fwd Packets/s_sc', 'Bwd Packets/s_sc', 'Packet Length Min_sc', 'Packet Length Max_sc', 'Packet Length Mean_sc', 'Packet Length Std_sc', 'Packet Length Variance_sc', 'FIN Flag Count_sc', 'SYN Flag Count_sc', 'RST Flag Count_sc', 'PSH Flag Count_sc', 'ACK Flag Count_sc', 'URG Flag Count_sc', 'CWR Flag Count_sc', 'ECE Flag Count_sc', 'Down/Up Ratio_sc', 'Average Packet Size_sc', 'Fwd Segment Size Avg_sc', 'Bwd Segment Size Avg_sc', 'Fwd Bytes/Bulk Avg_sc', 'Fwd Packet/Bulk Avg_sc', 'Fwd Bulk Rate Avg_sc', 'Bwd Bytes/Bulk Avg_sc', 'Bwd Packet/Bulk Avg_sc', 'Bwd Bulk Rate Avg_sc', 'Subflow Fwd Packets_sc', 'Subflow Fwd Bytes_sc', 'Subflow Bwd Packets_sc', 'Subflow Bwd Bytes_sc', 'FWD Init Win Bytes_sc', 'Bwd Init Win Bytes_sc', 'Fwd Act Data Pkts_sc', 'Fwd Seg Size Min_sc', 'Active Mean_sc', 'Active Std_sc', 'Active Max_sc', 'Active Min_sc', 'Idle Mean_sc', 'Idle Std_sc', 'Idle Max_sc', 'Idle Min_sc'] ['Flow ID_le']\n",
      "\n",
      " +++++++++++++++++++++++++++++++++++++++++++++++++++++++++++++++++++++++++\n"
     ]
    }
   ],
   "source": [
    "print(\"Will not use following columns that are already encoded:\", \"\\n\",cols_to_drop)\n",
    "print(\"\\n +++++++++++++++++++++++++++++++++++++++++++++++++++++++++++++++++++++++++\")\n",
    "print(\"Will be using following features:\",cols_numerical_sc, cat_enc_columns)\n",
    "print(\"\\n +++++++++++++++++++++++++++++++++++++++++++++++++++++++++++++++++++++++++\")"
   ]
  },
  {
   "cell_type": "code",
   "execution_count": 42,
   "metadata": {},
   "outputs": [
    {
     "name": "stdout",
     "output_type": "stream",
     "text": [
      "Accuracy on Test set: 1.000\n",
      "Accuracy on Test set: 0.999\n",
      "Test F1 score:... 0.9750968456004427\n",
      "==Test Confusion Matrix==\n",
      "[[55034    25]\n",
      " [    7   896]]\n",
      "\n",
      "\n"
     ]
    }
   ],
   "source": [
    "from sklearn.tree import DecisionTreeClassifier\n",
    "\n",
    "\n",
    "dtc = DecisionTreeClassifier(random_state=0, \n",
    "                             criterion=\"entropy\",\n",
    "                             max_depth=10)\n",
    "\n",
    "dtc.fit(X_tr, y_tr)\n",
    "\n",
    "dtc_pred = dtc.predict(X_tst)\n",
    "\n",
    "print(\"Accuracy on Test set: {:.3f}\".format(dtc.score(X_tr, y_tr)))\n",
    "\n",
    "print(\"Accuracy on Test set: {:.3f}\".format(dtc.score(X_tst, y_tst)))\n",
    "\n",
    "f1_dtc = f1_score(y_tst, dtc_pred, average='weighted')\n",
    "print(\"Test F1 score:...\",f1)\n",
    "\n",
    "print(\"==Test Confusion Matrix==\")\n",
    "print(confusion_matrix(y_tst, dtc_pred))\n",
    "print(\"\\n\")"
   ]
  },
  {
   "cell_type": "code",
   "execution_count": 55,
   "metadata": {},
   "outputs": [],
   "source": [
    "# Produce visualization of the model feature importance's using permutation method.\n",
    "from sklearn.inspection import permutation_importance\n",
    "import matplotlib.pyplot as plt\n",
    "\n",
    "%matplotlib inline\n",
    "result = permutation_importance(\n",
    "    dtc, X_tst, y_tst)\n",
    "\n",
    "feature_names = X_tst.columns\n",
    "tree_importances = pd.Series(result.importances_mean, index=feature_names)\n",
    "tree_importances = tree_importances.sort_values(ascending=False)"
   ]
  },
  {
   "cell_type": "code",
   "execution_count": 72,
   "metadata": {},
   "outputs": [
    {
     "data": {
      "image/png": "[encoded data removed]",
      "text/plain": [
       "<Figure size 1500x800 with 1 Axes>"
      ]
     },
     "metadata": {},
     "output_type": "display_data"
    }
   ],
   "source": [
    "fig, ax = plt.subplots(figsize=(15,8))\n",
    "tree_importances.plot.bar()\n",
    "ax.set_title(\"Sorted Permutation Feature importances\")\n",
    "ax.set_ylabel(\"Permutation Feature importance\")\n",
    "fig.tight_layout()"
   ]
  },
  {
   "cell_type": "markdown",
   "metadata": {},
   "source": [
    "### Random Forest"
   ]
  },
  {
   "cell_type": "markdown",
   "metadata": {},
   "source": [
    "An ensemble method that combines multiple decision trees, offering improved accuracy and handling of complex data relationships."
   ]
  },
  {
   "cell_type": "code",
   "execution_count": null,
   "metadata": {},
   "outputs": [
    {
     "name": "stdout",
     "output_type": "stream",
     "text": [
      "Accuracy on Train set: 1.000\n",
      "Accuracy on Test set: 0.999\n",
      "F1 for Train: 1.0\n",
      "F1 for Test: 0.9991552706639819\n",
      "Test set confusion matrix:\n",
      "[[55548    35]\n",
      " [   13   891]]\n"
     ]
    }
   ],
   "source": [
    "from sklearn.ensemble import RandomForestClassifier\n",
    "\n",
    "rfc = RandomForestClassifier(n_jobs=None,\n",
    "                                    random_state=0,\n",
    "                                    bootstrap=True,\n",
    "                                    n_estimators=100,\n",
    "                                    max_depth=None,\n",
    "                                    max_features='sqrt',\n",
    "                                    max_samples=None)\n",
    "\n",
    "rfc.fit(X_tr, y_tr)\n",
    "\n",
    "rfc_tst_pred = rfc.predict(X_tst)\n",
    "rfc_tr_pred = rfc.predict(X_tr)\n",
    "\n",
    "print(\"Accuracy on Train set: {:.3f}\".format(rfc.score(X_tr, y_tr)))\n",
    "\n",
    "print(\"Accuracy on Test set: {:.3f}\".format(rfc.score(X_tst, y_tst)))\n",
    "\n",
    "print(\"F1 for Train:\", f1_score(y_tr, rfc_tr_pred, average='weighted'))\n",
    "\n",
    "f1 = f1_score(y_tst, rfc_tst_pred, average='weighted')\n",
    "print(\"F1 for Test:\", f1)\n",
    "\n",
    "print(\"Confusion matrix:\")\n",
    "print(confusion_matrix(y_tst, rfc_tst_pred))"
   ]
  },
  {
   "cell_type": "code",
   "execution_count": null,
   "metadata": {},
   "outputs": [
    {
     "data": {
      "image/png": "[encoded data removed]",
      "text/plain": [
       "<Figure size 640x480 with 2 Axes>"
      ]
     },
     "metadata": {},
     "output_type": "display_data"
    }
   ],
   "source": [
    "import matplotlib.pyplot as plt\n",
    "from sklearn.metrics import confusion_matrix, ConfusionMatrixDisplay\n",
    "cm = confusion_matrix(y_tst, rfc_tst_pred, labels=rfc.classes_)\n",
    "disp = ConfusionMatrixDisplay(confusion_matrix=cm,\n",
    "                              display_labels=rfc.classes_)\n",
    "disp.plot()\n",
    "plt.show()"
   ]
  },
  {
   "cell_type": "code",
   "execution_count": null,
   "metadata": {},
   "outputs": [
    {
     "name": "stdout",
     "output_type": "stream",
     "text": [
      "              precision    recall  f1-score   support\n",
      "\n",
      "     not one       1.00      1.00      1.00     55583\n",
      "         one       0.96      0.99      0.97       904\n",
      "\n",
      "    accuracy                           1.00     56487\n",
      "   macro avg       0.98      0.99      0.99     56487\n",
      "weighted avg       1.00      1.00      1.00     56487\n",
      "\n"
     ]
    }
   ],
   "source": [
    "# Classification report for Log-regression prediction\n",
    "from sklearn.metrics import classification_report\n",
    "\n",
    "print(classification_report(y_tst, rfc_tst_pred, target_names=[\"not one\", \"one\"], \n",
    "                            zero_division=0))"
   ]
  },
  {
   "cell_type": "code",
   "execution_count": null,
   "metadata": {},
   "outputs": [],
   "source": [
    "from sklearn.metrics import precision_recall_curve\n",
    "\n",
    "# Get arrays of precision and recall for various probability thresholds\n",
    "precision, recall, thresholds = precision_recall_curve(y_true=y_tst, \n",
    "                                                       probas_pred=rfc.predict_proba(X_tst)[:,1])"
   ]
  },
  {
   "cell_type": "code",
   "execution_count": null,
   "metadata": {},
   "outputs": [
    {
     "name": "stdout",
     "output_type": "stream",
     "text": [
      "Best f1: 0.981737686773658\n",
      "Index of threshold: 56\n",
      "Threshold for best F1: 0.61\n"
     ]
    }
   ],
   "source": [
    "# Calculate index for the best probability threshold\n",
    "best_f1 = 0\n",
    "best_f1_id = 0\n",
    "for id, (pr, rc, threshold) in enumerate(zip(precision, recall, thresholds)):\n",
    "    f1 = 2*(pr*rc)/(pr+rc)\n",
    "    if f1 > best_f1:\n",
    "        best_f1 = f1\n",
    "        best_f1_id = id\n",
    "\n",
    "print(\"Best f1:\", best_f1)\n",
    "print(\"Index of threshold:\",best_f1_id)\n",
    "print(\"Threshold for best F1:\", thresholds[best_f1_id])"
   ]
  }
 ],
 "metadata": {
  "kernelspec": {
   "display_name": "ml-fall-2023",
   "language": "python",
   "name": "python3"
  },
  "language_info": {
   "codemirror_mode": {
    "name": "ipython",
    "version": 3
   },
   "file_extension": ".py",
   "mimetype": "text/x-python",
   "name": "python",
   "nbconvert_exporter": "python",
   "pygments_lexer": "ipython3",
   "version": "3.10.11"
  }
 },
 "nbformat": 4,
 "nbformat_minor": 2
}
